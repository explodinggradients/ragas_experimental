{
 "cells": [
  {
   "cell_type": "markdown",
   "metadata": {},
   "source": [
    "# Backend Factory\n",
    "\n",
    "> Factory class for creating the backends or mocked backends."
   ]
  },
  {
   "cell_type": "code",
   "execution_count": null,
   "metadata": {},
   "outputs": [],
   "source": [
    "# | default_exp backends.factory"
   ]
  },
  {
   "cell_type": "code",
   "execution_count": null,
   "metadata": {},
   "outputs": [],
   "source": [
    "# | export\n",
    "import typing as t\n",
    "import os\n",
    "\n",
    "from notion_client import Client as NotionClient\n",
    "from ragas_annotator.backends.mock_notion import MockNotionClient\n",
    "from ragas_annotator.backends.notion_backend import NotionBackend"
   ]
  },
  {
   "cell_type": "code",
   "execution_count": null,
   "metadata": {},
   "outputs": [],
   "source": [
    "# | export\n",
    "class NotionClientFactory:\n",
    "    \"\"\"Factory for creating Notion client instances.\"\"\"\n",
    "\n",
    "    @staticmethod\n",
    "    def create(\n",
    "        use_mock: bool = False,\n",
    "        api_key: t.Optional[str] = None,\n",
    "        initialize_project: bool = False,\n",
    "        root_page_id: t.Optional[str] = None,\n",
    "    ) -> t.Union[NotionClient, MockNotionClient]:\n",
    "        \"\"\"Create a Notion client.\n",
    "\n",
    "        Args:\n",
    "            use_mock: If True, create a mock client\n",
    "            api_key: Notion API key (only used for real client)\n",
    "            initialize_project: If True and using mock, initialize project structure\n",
    "            root_page_id: Required if initialize_project is True\n",
    "\n",
    "        Returns:\n",
    "            Union[NotionClient, MockNotionClient]: A real or mock client\n",
    "        \"\"\"\n",
    "        if use_mock:\n",
    "            client = MockNotionClient()\n",
    "\n",
    "            # Optionally initialize project structure\n",
    "            if initialize_project and root_page_id:\n",
    "                # Create root page if it doesn't exist in the mock client\n",
    "                if root_page_id not in client._pages:\n",
    "                    # Create root page\n",
    "                    root_page = {\n",
    "                        \"id\": root_page_id,\n",
    "                        \"object\": \"page\",\n",
    "                        \"created_time\": client._get_timestamp(),\n",
    "                        \"last_edited_time\": client._get_timestamp(),\n",
    "                        \"archived\": False,\n",
    "                        \"properties\": {\n",
    "                            \"title\": {\n",
    "                                \"type\": \"title\",\n",
    "                                \"title\": [\n",
    "                                    {\n",
    "                                        \"plain_text\": \"Root Page\",\n",
    "                                        \"type\": \"text\",\n",
    "                                        \"text\": {\"content\": \"Root Page\"},\n",
    "                                    }\n",
    "                                ],\n",
    "                            }\n",
    "                        },\n",
    "                    }\n",
    "                    client.add_page(root_page)\n",
    "\n",
    "                # Create required sub-pages\n",
    "                for page_name in [\"Datasets\", \"Experiments\", \"Comparisons\"]:\n",
    "                    # Create page ID\n",
    "                    page_id = client._create_id()\n",
    "\n",
    "                    # Create page\n",
    "                    page = {\n",
    "                        \"id\": page_id,\n",
    "                        \"object\": \"page\",\n",
    "                        \"created_time\": client._get_timestamp(),\n",
    "                        \"last_edited_time\": client._get_timestamp(),\n",
    "                        \"archived\": False,\n",
    "                        \"properties\": {\n",
    "                            \"title\": {\n",
    "                                \"type\": \"title\",\n",
    "                                \"title\": [\n",
    "                                    {\n",
    "                                        \"plain_text\": page_name,\n",
    "                                        \"type\": \"text\",\n",
    "                                        \"text\": {\"content\": page_name},\n",
    "                                    }\n",
    "                                ],\n",
    "                            }\n",
    "                        },\n",
    "                        \"parent\": {\"type\": \"page_id\", \"page_id\": root_page_id},\n",
    "                    }\n",
    "                    client.add_page(page)\n",
    "\n",
    "                    # Add child block to root\n",
    "                    child_block = {\n",
    "                        \"id\": client._create_id(),\n",
    "                        \"object\": \"block\",\n",
    "                        \"type\": \"child_page\",\n",
    "                        \"created_time\": client._get_timestamp(),\n",
    "                        \"last_edited_time\": client._get_timestamp(),\n",
    "                        \"child_page\": {\"title\": page_name},\n",
    "                    }\n",
    "\n",
    "                    client.add_children(root_page_id, [child_block])\n",
    "\n",
    "            return client\n",
    "        else:\n",
    "            # For real client, use provided API key or environment variable\n",
    "            if api_key is None:\n",
    "                api_key = os.getenv(\"NOTION_API_KEY\")\n",
    "\n",
    "            if api_key is None:\n",
    "                raise ValueError(\n",
    "                    \"api_key must be provided or set as NOTION_API_KEY environment variable\"\n",
    "                )\n",
    "\n",
    "            return NotionClient(auth=api_key)"
   ]
  },
  {
   "cell_type": "code",
   "execution_count": null,
   "metadata": {},
   "outputs": [
    {
     "data": {
      "text/plain": [
       "MockNotionClient(num_pages=0, num_databases=0, num_blocks=0)"
      ]
     },
     "execution_count": null,
     "metadata": {},
     "output_type": "execute_result"
    }
   ],
   "source": [
    "# create the mock notion client\n",
    "mock_notion_client = NotionClientFactory.create(use_mock=True)\n",
    "mock_notion_client"
   ]
  },
  {
   "cell_type": "markdown",
   "metadata": {},
   "source": [
    "the `initialize_project` adds the project pages too for you."
   ]
  },
  {
   "cell_type": "code",
   "execution_count": null,
   "metadata": {},
   "outputs": [
    {
     "data": {
      "text/plain": [
       "MockNotionClient(num_pages=4, num_databases=0, num_blocks=0)"
      ]
     },
     "execution_count": null,
     "metadata": {},
     "output_type": "execute_result"
    }
   ],
   "source": [
    "mock_notion_client = NotionClientFactory.create(\n",
    "    use_mock=True, initialize_project=True, root_page_id=\"your_root_page_id\"\n",
    ")\n",
    "mock_notion_client"
   ]
  },
  {
   "cell_type": "code",
   "execution_count": null,
   "metadata": {},
   "outputs": [],
   "source": [
    "# | export\n",
    "class NotionBackendFactory:\n",
    "    \"\"\"Factory for creating NotionBackend instances.\"\"\"\n",
    "\n",
    "    @staticmethod\n",
    "    def create(\n",
    "        root_page_id: str,\n",
    "        use_mock: bool = False,\n",
    "        api_key: t.Optional[str] = None,\n",
    "        initialize_project: bool = False,\n",
    "        notion_client: t.Optional[t.Union[NotionClient, MockNotionClient]] = None,\n",
    "    ) -> NotionBackend:\n",
    "        \"\"\"Create a NotionBackend instance.\n",
    "\n",
    "        Args:\n",
    "            root_page_id: The ID of the root page\n",
    "            use_mock: If True, create a backend with a mock client\n",
    "            api_key: Notion API key (only used for real client)\n",
    "            initialize_project: If True and using mock, initialize project structure\n",
    "            notion_client: Optional pre-configured Notion client\n",
    "\n",
    "        Returns:\n",
    "            NotionBackend: A backend instance with either real or mock client\n",
    "        \"\"\"\n",
    "        # Use provided client or create one\n",
    "        if notion_client is None:\n",
    "            notion_client = NotionClientFactory.create(\n",
    "                use_mock=use_mock,\n",
    "                api_key=api_key,\n",
    "                initialize_project=initialize_project,\n",
    "                root_page_id=root_page_id,\n",
    "            )\n",
    "\n",
    "        # Create and return the backend\n",
    "        return NotionBackend(root_page_id=root_page_id, notion_client=notion_client)"
   ]
  }
 ],
 "metadata": {
  "kernelspec": {
   "display_name": "python3",
   "language": "python",
   "name": "python3"
  }
 },
 "nbformat": 4,
 "nbformat_minor": 2
}
