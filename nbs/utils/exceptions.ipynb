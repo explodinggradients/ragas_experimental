{
 "cells": [
  {
   "cell_type": "markdown",
   "metadata": {},
   "source": [
    "# `Exceptions`\n",
    "\n",
    "> All the exceptions specific to the `notion_annotator` project."
   ]
  },
  {
   "cell_type": "code",
   "execution_count": null,
   "metadata": {},
   "outputs": [],
   "source": [
    "# | default_exp exceptions"
   ]
  },
  {
   "cell_type": "code",
   "execution_count": null,
   "metadata": {},
   "outputs": [],
   "source": [
    "# | export\n",
    "class ValidationError(Exception):\n",
    "    \"\"\"Raised when field validation fails.\"\"\"\n",
    "\n",
    "    pass\n",
    "\n",
    "\n",
    "class DuplicateError(Exception):\n",
    "    \"\"\"Raised when multiple items are found but only one was expected.\"\"\"\n",
    "\n",
    "    pass\n",
    "\n",
    "\n",
    "class NotFoundError(Exception):\n",
    "    \"\"\"Raised when an item is not found.\"\"\"\n",
    "\n",
    "    pass"
   ]
  }
 ],
 "metadata": {
  "kernelspec": {
   "display_name": "python3",
   "language": "python",
   "name": "python3"
  }
 },
 "nbformat": 4,
 "nbformat_minor": 2
}
