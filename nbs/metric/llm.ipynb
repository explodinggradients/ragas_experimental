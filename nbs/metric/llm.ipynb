{
 "cells": [
  {
   "cell_type": "code",
   "execution_count": null,
   "metadata": {},
   "outputs": [],
   "source": [
    "# | default_exp metric.llm"
   ]
  },
  {
   "cell_type": "code",
   "execution_count": null,
   "metadata": {},
   "outputs": [],
   "source": [
    "# | export\n",
    "\n",
    "import openai\n",
    "import instructor\n",
    "from dataclasses import dataclass\n",
    "\n",
    "\n",
    "@dataclass\n",
    "class LLM:\n",
    "    def __post_init__(self):\n",
    "        self.aclient = instructor.from_openai(openai.AsyncOpenAI())\n",
    "        self.client = instructor.from_openai(openai.OpenAI())\n",
    "\n",
    "    def generate(self, prompt, response_model):\n",
    "        return self.client.chat.completions.create(\n",
    "            model=\"gpt-4o-mini\",\n",
    "            messages=[\n",
    "                {\"role\": \"user\", \"content\": prompt},\n",
    "            ],\n",
    "            response_model=response_model,\n",
    "        )\n",
    "\n",
    "    async def agenerate(self, prompt, response_model):\n",
    "        return await self.aclient.chat.completions.create(\n",
    "            model=\"gpt-4o-mini\",\n",
    "            messages=[\n",
    "                {\"role\": \"user\", \"content\": prompt},\n",
    "            ],\n",
    "            response_model=response_model,\n",
    "        )"
   ]
  }
 ],
 "metadata": {
  "kernelspec": {
   "display_name": "python3",
   "language": "python",
   "name": "python3"
  }
 },
 "nbformat": 4,
 "nbformat_minor": 2
}
