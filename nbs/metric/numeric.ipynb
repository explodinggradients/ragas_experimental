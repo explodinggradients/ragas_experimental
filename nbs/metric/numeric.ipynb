{
 "cells": [
  {
   "cell_type": "markdown",
   "metadata": {},
   "source": [
    "# Numeric Metric\n",
    "> Base class for all numeric metrics\n"
   ]
  },
  {
   "cell_type": "code",
   "execution_count": 1,
   "metadata": {},
   "outputs": [],
   "source": [
    "#| default_exp metric.numeric"
   ]
  },
  {
   "cell_type": "code",
   "execution_count": null,
   "metadata": {},
   "outputs": [],
   "source": [
    "#| export\n",
    "\n",
    "import typing as t\n",
    "from dataclasses import dataclass, field\n",
    "from pydantic import BaseModel, create_model\n",
    "from ragas_annotator.metric import Metric, MetricResult\n",
    "from ragas_annotator.metric.decorator import create_metric_decorator\n",
    "\n",
    "@dataclass\n",
    "class NumericMetric(Metric):\n",
    "    range: t.Tuple[float,float]\n",
    "    \n",
    "    def _get_response_model(self, with_reasoning: bool) -> t.Type[BaseModel]:\n",
    "        \"\"\"Get or create a response model based on reasoning parameter.\"\"\"\n",
    "        \n",
    "        if with_reasoning in self._response_models:\n",
    "            return self._response_models[with_reasoning]\n",
    "        \n",
    "        model_name = 'response_model'\n",
    "        fields = {\"result\": (float,...)}\n",
    "        \n",
    "        if with_reasoning:\n",
    "            fields[\"reason\"] = (str, ...) #type: ignore\n",
    "        \n",
    "        model = create_model(model_name, **fields)\n",
    "        self._response_models[with_reasoning] = model\n",
    "        return model \n",
    "\n",
    "    def _ensemble(self,results:t.List[MetricResult]) -> MetricResult:\n",
    "\n",
    "        if len(results)==1:\n",
    "            return results[0]\n",
    "    \n",
    "        candidates = [candidate.result for candidate in results]\n",
    "        result = sum(candidates)/len(candidates)\n",
    "        reason = results[0].reason\n",
    "    \n",
    "        return MetricResult(result=result,reason=reason)\n",
    "    \n",
    "    \n",
    "numeric_metric = create_metric_decorator(NumericMetric)\n"
   ]
  },
  {
   "cell_type": "markdown",
   "metadata": {},
   "source": [
    "### Example usage"
   ]
  },
  {
   "cell_type": "code",
   "execution_count": null,
   "metadata": {},
   "outputs": [
    {
     "data": {
      "text/plain": [
       "'The response does not provide any context or information that can be evaluated as helpful.'"
      ]
     },
     "execution_count": 7,
     "metadata": {},
     "output_type": "execute_result"
    }
   ],
   "source": [
    "\n",
    "from dotenv import load_dotenv\n",
    "from ragas_annotator.metric.llm import LLM\n",
    "\n",
    "\n",
    "\n",
    "load_dotenv('/Users/shahules/Myprojects/ragas_annotator/.envrc')\n",
    "\n",
    "my_metric = NumericMetric(\n",
    "    name='helpfulness',\n",
    "    llm=LLM(),\n",
    "    prompt=\"Evaluate if given answer is helpful\\n\\n{response}\",\n",
    "    range=(0,10),\n",
    ")\n",
    "\n",
    "result = my_metric.score(response=\"this is my response\")\n",
    "result #gives \"low\"\n",
    "result.reason #gives reasoning from llm\n",
    "\n"
   ]
  },
  {
   "cell_type": "markdown",
   "metadata": {},
   "source": [
    "### Write custom numeric metric"
   ]
  },
  {
   "cell_type": "code",
   "execution_count": null,
   "metadata": {},
   "outputs": [
    {
     "data": {
      "text/plain": [
       "20"
      ]
     },
     "execution_count": 8,
     "metadata": {},
     "output_type": "execute_result"
    }
   ],
   "source": [
    "\n",
    "@numeric_metric(llm=LLM(),\n",
    "    prompt=\"Evaluate if given answer is helpful\\n\\n{response}\",\n",
    "    name='new_metric',range=(0,10))\n",
    "def my_metric(llm,prompt,**kwargs):\n",
    "\n",
    "        class response_model(BaseModel):\n",
    "             output: int\n",
    "             reason: str\n",
    "        \n",
    "        response = llm.generate(prompt.format(**kwargs),response_model=response_model)\n",
    "        total = response.output\n",
    "        if total < 1:\n",
    "            score = 0\n",
    "        else:\n",
    "            score = 10\n",
    "        return score,\"reason\"\n",
    "\n",
    "result = my_metric.score(response='my response') # result\n",
    "result # 10\n",
    "result.reason # the reason for the answer\n",
    "\n",
    "result1 = my_metric.score(response='my response 1') # result\n",
    "result2 = my_metric.score(response='my response 2') # result\n",
    "\n",
    "result1 + result2 # should be addable and behave like a float\n"
   ]
  },
  {
   "cell_type": "code",
   "execution_count": null,
   "metadata": {},
   "outputs": [],
   "source": []
  }
 ],
 "metadata": {
  "kernelspec": {
   "display_name": "random",
   "language": "python",
   "name": "python3"
  },
  "language_info": {
   "codemirror_mode": {
    "name": "ipython",
    "version": 3
   },
   "file_extension": ".py",
   "mimetype": "text/x-python",
   "name": "python",
   "nbconvert_exporter": "python",
   "pygments_lexer": "ipython3",
   "version": "3.10.16"
  }
 },
 "nbformat": 4,
 "nbformat_minor": 2
}
