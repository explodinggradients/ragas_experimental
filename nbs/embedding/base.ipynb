{
 "cells": [
  {
   "cell_type": "code",
   "execution_count": null,
   "metadata": {},
   "outputs": [
    {
     "data": {
      "text/plain": [
       "True"
      ]
     },
     "execution_count": null,
     "metadata": {},
     "output_type": "execute_result"
    }
   ],
   "source": [
    "#| default_exp embedding.base"
   ]
  },
  {
   "cell_type": "markdown",
   "metadata": {},
   "source": [
    "## RagasEmbedding"
   ]
  },
  {
   "cell_type": "code",
   "execution_count": null,
   "metadata": {},
   "outputs": [],
   "source": [
    "#| export\n",
    "\n",
    "import typing as t\n",
    "from dataclasses import dataclass\n",
    "\n",
    "\n",
    "@dataclass\n",
    "class RagasEmbedding:\n",
    "    client: t.Any\n",
    "    model: str\n",
    "    \n",
    "    def embed_text(self,text:str,**kwargs: t.Any) -> t.List[float]:\n",
    "        \n",
    "        return self.client.embeddings.create(input=text, model=self.model, **kwargs).data[0].embedding\n",
    "        \n",
    "    async def aembed_text(self,text:str,**kwargs: t.Any):\n",
    "        \n",
    "        await self.client.embeddings.create(input=text, model=self.model, **kwargs).data[0].embedding\n",
    "    \n",
    "    \n",
    "    def embed_document(self,documents:t.List[str],**kwargs: t.Any) -> t.List[t.List[float]]:\n",
    "        embeddings = self.client.embeddings.create(input=documents, model=self.model, **kwargs)\n",
    "        return [embedding.embedding for embedding in embeddings.data]\n",
    "    \n",
    "    async def aembed_document(self,documents:t.List[str],**kwargs: t.Any)  -> t.List[t.List[float]]:\n",
    "        embeddings = await self.client.embeddings.create(input=documents, model=self.model, **kwargs)\n",
    "        return [embedding.embedding for embedding in embeddings.data]\n"
   ]
  },
  {
   "cell_type": "markdown",
   "metadata": {},
   "source": [
    "### Example Usage"
   ]
  },
  {
   "cell_type": "code",
   "execution_count": null,
   "metadata": {},
   "outputs": [],
   "source": [
    "#| eval: false\n",
    "\n",
    "from openai import OpenAI\n",
    "embedding = RagasEmbedding(client=OpenAI(),model=\"text-embedding-3-small\")\n",
    "embedding.embed_text(\"Hello, world!\")"
   ]
  }
 ],
 "metadata": {
  "kernelspec": {
   "display_name": "python3",
   "language": "python",
   "name": "python3"
  }
 },
 "nbformat": 4,
 "nbformat_minor": 2
}
