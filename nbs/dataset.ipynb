{
 "cells": [
  {
   "cell_type": "markdown",
   "metadata": {},
   "source": [
    "# `Dataset`\n",
    "\n",
    "> A python list like object that contains your evaluation data."
   ]
  },
  {
   "cell_type": "code",
   "execution_count": null,
   "metadata": {},
   "outputs": [],
   "source": [
    "# | default_exp dataset"
   ]
  },
  {
   "cell_type": "code",
   "execution_count": 1,
   "metadata": {},
   "outputs": [],
   "source": [
    "# | hide\n",
    "\n",
    "from unittest.mock import MagicMock\n",
    "from fastcore.test import *"
   ]
  },
  {
   "cell_type": "code",
   "execution_count": 3,
   "metadata": {},
   "outputs": [],
   "source": [
    "# | export\n",
    "import typing as t\n",
    "\n",
    "from fastcore.utils import patch\n",
    "\n",
    "from pydantic import BaseModel\n",
    "\n",
    "from ragas_annotator.model.notion_model import NotionModel\n",
    "from ragas_annotator.backends.ragas_api_client import RagasApiClient\n",
    "from ragas_annotator.backends.notion_backend import NotionBackend"
   ]
  },
  {
   "cell_type": "code",
   "execution_count": null,
   "metadata": {},
   "outputs": [],
   "source": []
  },
  {
   "cell_type": "code",
   "execution_count": null,
   "metadata": {},
   "outputs": [],
   "source": [
    "# | export\n",
    "PydanticModelType = t.TypeVar(\"PydanticModelType\", bound=BaseModel)\n",
    "\n",
    "\n",
    "class Dataset(t.Generic[PydanticModelType]):\n",
    "    \"\"\"A list-like interface for managing NotionModel instances in a Notion database.\"\"\"\n",
    "\n",
    "    def __init__(\n",
    "        self,\n",
    "        name: str,\n",
    "        model: t.Type[BaseModel],\n",
    "        dataset_id: str,\n",
    "        ragas_api_client: RagasApiClient,\n",
    "    ):\n",
    "        self.name = name\n",
    "        self.model = model\n",
    "        self.dataset_id = dataset_id\n",
    "        self._ragas_api_client = ragas_api_client\n",
    "        self._entries: t.List[PydanticModelType] = []\n",
    "\n",
    "    def __getitem__(\n",
    "        self, key: t.Union[int, slice]\n",
    "    ) -> t.Union[PydanticModelType, \"Dataset[PydanticModelType]\"]:\n",
    "        \"\"\"Get an entry by index or slice.\"\"\"\n",
    "        if isinstance(key, slice):\n",
    "            new_dataset = type(self)(\n",
    "                name=self.name,\n",
    "                model=self.model,\n",
    "                dataset_id=self.dataset_id,\n",
    "                ragas_api_client=self._ragas_api_client,\n",
    "            )\n",
    "            new_dataset._entries = self._entries[key]\n",
    "            return new_dataset\n",
    "        else:\n",
    "            return self._entries[key]\n",
    "\n",
    "    def __setitem__(self, index: int, entry: PydanticModelType) -> None:\n",
    "        \"\"\"Update an entry at the given index and sync to Notion.\"\"\"\n",
    "        if not isinstance(entry, self.model):\n",
    "            raise TypeError(f\"Entry must be an instance of {self.model.__name__}\")\n",
    "\n",
    "        # Get existing entry to get Notion page ID\n",
    "        existing = self._entries[index]\n",
    "        if not hasattr(existing, \"_page_id\"):\n",
    "            raise ValueError(\"Existing entry has no page_id\")\n",
    "\n",
    "        # Update in Notion\n",
    "        assert (\n",
    "            existing._page_id is not None\n",
    "        )  # mypy fails to infer that we check for it above\n",
    "        response = self._ragas_api_client.update_page(\n",
    "            page_id=existing._page_id, properties=entry.to_notion()[\"properties\"]\n",
    "        )\n",
    "\n",
    "        # Update local cache with response data\n",
    "        self._entries[index] = self.model.from_notion(response)\n",
    "\n",
    "    def __repr__(self) -> str:\n",
    "        return (\n",
    "            f\"Dataset(name={self.name}, model={self.model.__name__}, len={len(self)})\"\n",
    "        )\n",
    "\n",
    "    def __len__(self) -> int:\n",
    "        return len(self._entries)\n",
    "\n",
    "    def __iter__(self) -> t.Iterator[PydanticModelType]:\n",
    "        return iter(self._entries)"
   ]
  },
  {
   "cell_type": "code",
   "execution_count": null,
   "metadata": {},
   "outputs": [],
   "source": [
    "# | hide\n",
    "import ragas_annotator.model.notion_typing as nmt\n",
    "from ragas_annotator.backends.mock_notion import MockNotionClient\n",
    "from ragas_annotator.backends.factory import NotionClientFactory\n",
    "from ragas_annotator.backends.notion_backend import NotionBackend"
   ]
  },
  {
   "cell_type": "code",
   "execution_count": null,
   "metadata": {},
   "outputs": [
    {
     "data": {
      "text/plain": [
       "TestModel(name='test' description='test description')"
      ]
     },
     "execution_count": null,
     "metadata": {},
     "output_type": "execute_result"
    }
   ],
   "source": [
    "# test model\n",
    "class TestModel(NotionModel):\n",
    "    id: int = nmt.ID()\n",
    "    name: str = nmt.Title()\n",
    "    description: str = nmt.Text()\n",
    "\n",
    "\n",
    "test_model = TestModel(name=\"test\", description=\"test description\")\n",
    "test_model"
   ]
  },
  {
   "cell_type": "code",
   "execution_count": null,
   "metadata": {},
   "outputs": [],
   "source": [
    "# | hide\n",
    "# Set up a test environment with mock Notion client and a test database.\n",
    "# root page id\n",
    "root_page_id = \"test-root-id\"\n",
    "# Create a mock client\n",
    "mock_client = NotionClientFactory.create(\n",
    "    use_mock=True, initialize_project=True, root_page_id=root_page_id\n",
    ")\n",
    "\n",
    "# Create NotionBackend with mock client\n",
    "backend = NotionBackend(root_page_id=root_page_id, notion_client=mock_client)\n",
    "\n",
    "# get the page id of the datasets page\n",
    "dataset_page_id = backend.get_page_id(parent_id=root_page_id, page_name=\"Datasets\")\n",
    "\n",
    "# create a new database in the datasets page\n",
    "properties = {}\n",
    "for _, field in TestModel._fields.items():\n",
    "    properties.update(field._to_notion_property())\n",
    "datasets_id = backend.create_new_database(\n",
    "    parent_page_id=dataset_page_id, title=\"TestModel\", properties=properties\n",
    ")"
   ]
  },
  {
   "cell_type": "code",
   "execution_count": null,
   "metadata": {},
   "outputs": [],
   "source": [
    "dataset = Dataset(\n",
    "    name=\"TestModel\", model=TestModel, dataset_id=datasets_id, ragas_api_client=backend\n",
    ")"
   ]
  },
  {
   "cell_type": "code",
   "execution_count": null,
   "metadata": {},
   "outputs": [],
   "source": [
    "# | export\n",
    "@patch\n",
    "def append(self: Dataset, entry: PydanticModelType) -> None:\n",
    "    \"\"\"Add a new entry to the dataset and sync to Notion.\"\"\"\n",
    "    # if not isinstance(entry, self.model):\n",
    "    #     raise TypeError(f\"Entry must be an instance of {self.model.__name__}\")\n",
    "\n",
    "    # Create in Notion and get response\n",
    "    response = self._ragas_api_client.create_page_in_database(\n",
    "        database_id=self.dataset_id, properties=entry.to_notion()[\"properties\"]\n",
    "    )\n",
    "\n",
    "    # Update entry with Notion data (like ID)\n",
    "    updated_entry = self.model.from_notion(response)\n",
    "    self._entries.append(updated_entry)"
   ]
  },
  {
   "cell_type": "code",
   "execution_count": null,
   "metadata": {},
   "outputs": [
    {
     "data": {
      "text/plain": [
       "1"
      ]
     },
     "execution_count": null,
     "metadata": {},
     "output_type": "execute_result"
    }
   ],
   "source": [
    "dataset.append(test_model)\n",
    "len(dataset)"
   ]
  },
  {
   "cell_type": "code",
   "execution_count": null,
   "metadata": {},
   "outputs": [],
   "source": [
    "# | hide\n",
    "test_eq(len(dataset), 1)"
   ]
  },
  {
   "cell_type": "code",
   "execution_count": null,
   "metadata": {},
   "outputs": [],
   "source": [
    "# | export\n",
    "@patch\n",
    "def pop(self: Dataset, index: int = -1) -> PydanticModelType:\n",
    "    \"\"\"Remove and return entry at index, sync deletion to Notion.\"\"\"\n",
    "    entry = self._entries[index]\n",
    "    if not hasattr(entry, \"_page_id\"):\n",
    "        raise ValueError(\"Entry has no page_id\")\n",
    "\n",
    "    # Archive in Notion (soft delete)\n",
    "    assert entry._page_id is not None  # mypy fails to infer that we check for it above\n",
    "    self._ragas_api_client.update_page(page_id=entry._page_id, archived=True)\n",
    "\n",
    "    # Remove from local cache\n",
    "    return self._entries.pop(index)"
   ]
  },
  {
   "cell_type": "code",
   "execution_count": null,
   "metadata": {},
   "outputs": [
    {
     "data": {
      "text/plain": [
       "0"
      ]
     },
     "execution_count": null,
     "metadata": {},
     "output_type": "execute_result"
    }
   ],
   "source": [
    "dataset.pop()\n",
    "len(dataset)"
   ]
  },
  {
   "cell_type": "code",
   "execution_count": null,
   "metadata": {},
   "outputs": [],
   "source": [
    "# | hide\n",
    "test_eq(len(dataset), 0)"
   ]
  },
  {
   "cell_type": "code",
   "execution_count": null,
   "metadata": {},
   "outputs": [],
   "source": [
    "# | export\n",
    "@patch\n",
    "def load(self: Dataset) -> None:\n",
    "    \"\"\"Load all entries from the Notion database.\"\"\"\n",
    "    # Query the database\n",
    "    response = self._ragas_api_client.query_database(\n",
    "        database_id=self.dataset_id, archived=False\n",
    "    )\n",
    "\n",
    "    # Clear existing entries\n",
    "    self._entries.clear()\n",
    "\n",
    "    # Convert results to model instances\n",
    "    for page in response.get(\"results\", []):\n",
    "        entry = self.model.from_notion(page)\n",
    "        self._entries.append(entry)"
   ]
  },
  {
   "cell_type": "code",
   "execution_count": null,
   "metadata": {},
   "outputs": [],
   "source": [
    "dataset.load()"
   ]
  },
  {
   "cell_type": "code",
   "execution_count": null,
   "metadata": {},
   "outputs": [
    {
     "data": {
      "text/plain": [
       "3"
      ]
     },
     "execution_count": null,
     "metadata": {},
     "output_type": "execute_result"
    }
   ],
   "source": [
    "for i in range(3):\n",
    "    dataset.append(test_model)\n",
    "len(dataset)"
   ]
  },
  {
   "cell_type": "code",
   "execution_count": null,
   "metadata": {},
   "outputs": [
    {
     "data": {
      "text/plain": [
       "0"
      ]
     },
     "execution_count": null,
     "metadata": {},
     "output_type": "execute_result"
    }
   ],
   "source": [
    "# create a new instance of the dataset\n",
    "dataset = Dataset(\n",
    "    name=\"TestModel\",\n",
    "    model=TestModel,\n",
    "    dataset_id=datasets_id,\n",
    "    ragas_api_client=backend,\n",
    ")\n",
    "len(dataset)"
   ]
  },
  {
   "cell_type": "code",
   "execution_count": null,
   "metadata": {},
   "outputs": [],
   "source": [
    "dataset.load()\n",
    "test_eq(len(dataset), 3)"
   ]
  },
  {
   "cell_type": "code",
   "execution_count": null,
   "metadata": {},
   "outputs": [],
   "source": [
    "# | export\n",
    "@patch\n",
    "def get(self: Dataset, id: int) -> t.Optional[PydanticModelType]:\n",
    "    \"\"\"Get an entry by ID.\"\"\"\n",
    "    if not self._ragas_api_client:\n",
    "        return None\n",
    "\n",
    "    # Query the database for the specific ID\n",
    "    response = self._ragas_api_client.query_database(\n",
    "        database_id=self.dataset_id,\n",
    "        filter={\"property\": \"id\", \"unique_id\": {\"equals\": id}},\n",
    "    )\n",
    "\n",
    "    if not response.get(\"results\"):\n",
    "        return None\n",
    "\n",
    "    return self.model.from_notion(response[\"results\"][0])"
   ]
  },
  {
   "cell_type": "code",
   "execution_count": null,
   "metadata": {},
   "outputs": [
    {
     "data": {
      "text/plain": [
       "TestModel(name='test' description='test description')"
      ]
     },
     "execution_count": null,
     "metadata": {},
     "output_type": "execute_result"
    }
   ],
   "source": [
    "test_model = dataset.get(0)\n",
    "test_model"
   ]
  },
  {
   "cell_type": "code",
   "execution_count": null,
   "metadata": {},
   "outputs": [],
   "source": [
    "# | hide\n",
    "test_eq(test_model.description, \"test description\")"
   ]
  },
  {
   "cell_type": "code",
   "execution_count": null,
   "metadata": {},
   "outputs": [],
   "source": [
    "# | export\n",
    "@patch\n",
    "def save(self: Dataset, item: PydanticModelType) -> None:\n",
    "    \"\"\"Save changes to an item to Notion.\"\"\"\n",
    "    if not isinstance(item, self.model):\n",
    "        raise TypeError(f\"Item must be an instance of {self.model.__name__}\")\n",
    "\n",
    "    if not hasattr(item, \"_page_id\"):\n",
    "        raise ValueError(\"Item has no page_id\")\n",
    "\n",
    "    # Update in Notion\n",
    "    assert item._page_id is not None  # mypy fails to infer that we check for it above\n",
    "    response = self._ragas_api_client.update_page(\n",
    "        page_id=item._page_id, properties=item.to_notion()[\"properties\"]\n",
    "    )\n",
    "\n",
    "    # Update local cache\n",
    "    for i, existing in enumerate(self._entries):\n",
    "        if existing._page_id == item._page_id:\n",
    "            self._entries[i] = self.model.from_notion(response)\n",
    "            break"
   ]
  },
  {
   "cell_type": "code",
   "execution_count": null,
   "metadata": {},
   "outputs": [],
   "source": [
    "test_model.description = \"updated description\"\n",
    "dataset.save(test_model)"
   ]
  },
  {
   "cell_type": "code",
   "execution_count": null,
   "metadata": {},
   "outputs": [
    {
     "data": {
      "text/plain": [
       "TestModel(name='test' description='updated description')"
      ]
     },
     "execution_count": null,
     "metadata": {},
     "output_type": "execute_result"
    }
   ],
   "source": [
    "dataset.get(0)"
   ]
  },
  {
   "cell_type": "code",
   "execution_count": null,
   "metadata": {},
   "outputs": [],
   "source": [
    "# | hide\n",
    "test_eq(dataset.get(0).description, \"updated description\")"
   ]
  }
 ],
 "metadata": {
  "kernelspec": {
   "display_name": ".venv",
   "language": "python",
   "name": "python3"
  },
  "language_info": {
   "codemirror_mode": {
    "name": "ipython",
    "version": 3
   },
   "file_extension": ".py",
   "mimetype": "text/x-python",
   "name": "python",
   "nbconvert_exporter": "python",
   "pygments_lexer": "ipython3",
   "version": "3.12.8"
  }
 },
 "nbformat": 4,
 "nbformat_minor": 2
}
