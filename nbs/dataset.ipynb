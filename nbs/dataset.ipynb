{
 "cells": [
  {
   "cell_type": "markdown",
   "metadata": {},
   "source": [
    "# `Dataset`\n",
    "\n",
    "> A python list like object that contains your evaluation data."
   ]
  },
  {
   "cell_type": "code",
   "execution_count": 2,
   "metadata": {},
   "outputs": [],
   "source": [
    "# | default_exp dataset"
   ]
  },
  {
   "cell_type": "code",
   "execution_count": 3,
   "metadata": {},
   "outputs": [],
   "source": [
    "# | hide\n",
    "\n",
    "from unittest.mock import MagicMock"
   ]
  },
  {
   "cell_type": "code",
   "execution_count": 4,
   "metadata": {},
   "outputs": [],
   "source": [
    "# | export\n",
    "import typing as t\n",
    "\n",
    "from fastcore.utils import patch\n",
    "\n",
    "from ragas_annotator.model.notion_model import NotionModel\n",
    "from ragas_annotator.backends.notion_backend import NotionBackend"
   ]
  },
  {
   "cell_type": "code",
   "execution_count": 29,
   "metadata": {},
   "outputs": [],
   "source": [
    "# | export\n",
    "NotionModelType = t.TypeVar(\"NotionModelType\", bound=NotionModel)\n",
    "\n",
    "\n",
    "class Dataset(t.Generic[NotionModelType]):\n",
    "    \"\"\"A list-like interface for managing NotionModel instances in a Notion database.\"\"\"\n",
    "\n",
    "    def __init__(\n",
    "        self,\n",
    "        name: str,\n",
    "        model: t.Type[NotionModel],\n",
    "        database_id: str,\n",
    "        notion_backend: NotionBackend,\n",
    "    ):\n",
    "        self.name = name\n",
    "        self.model = model\n",
    "        self.database_id = database_id\n",
    "        self._notion_backend = notion_backend\n",
    "        self._entries: t.List[NotionModelType] = []\n",
    "\n",
    "    def __getitem__(\n",
    "        self, key: t.Union[int, slice]\n",
    "    ) -> t.Union[NotionModelType, \"Dataset[NotionModelType]\"]:\n",
    "        \"\"\"Get an entry by index or slice.\"\"\"\n",
    "        if isinstance(key, slice):\n",
    "            new_dataset = type(self)(\n",
    "                name=self.name,\n",
    "                model=self.model,\n",
    "                database_id=self.database_id,\n",
    "                notion_backend=self._notion_backend,\n",
    "            )\n",
    "            new_dataset._entries = self._entries[key]\n",
    "            return new_dataset\n",
    "        else:\n",
    "            return self._entries[key]\n",
    "\n",
    "    def __setitem__(self, index: int, entry: NotionModelType) -> None:\n",
    "        \"\"\"Update an entry at the given index and sync to Notion.\"\"\"\n",
    "        if not isinstance(entry, self.model):\n",
    "            raise TypeError(f\"Entry must be an instance of {self.model.__name__}\")\n",
    "\n",
    "        # Get existing entry to get Notion page ID\n",
    "        existing = self._entries[index]\n",
    "        if not hasattr(existing, \"_page_id\"):\n",
    "            raise ValueError(\"Existing entry has no page_id\")\n",
    "\n",
    "        # Update in Notion\n",
    "        assert (\n",
    "            existing._page_id is not None\n",
    "        )  # mypy fails to infer that we check for it above\n",
    "        response = self._notion_backend.update_page(\n",
    "            page_id=existing._page_id, properties=entry.to_notion()[\"properties\"]\n",
    "        )\n",
    "\n",
    "        # Update local cache with response data\n",
    "        self._entries[index] = self.model.from_notion(response)\n",
    "\n",
    "    def __repr__(self) -> str:\n",
    "        return f\"Dataset(name={self.name}, model={self.model.__name__}, len={len(self)})\"\n",
    "\n",
    "    def __len__(self) -> int:\n",
    "        return len(self._entries)\n",
    "\n",
    "    def __iter__(self) -> t.Iterator[NotionModelType]:\n",
    "        return iter(self._entries)"
   ]
  },
  {
   "cell_type": "code",
   "execution_count": 23,
   "metadata": {},
   "outputs": [],
   "source": [
    "#| hide\n",
    "import ragas_annotator.model.notion_typing as nmt"
   ]
  },
  {
   "cell_type": "code",
   "execution_count": 30,
   "metadata": {},
   "outputs": [],
   "source": [
    "#| hide\n",
    "example_notion_backend = MagicMock(spec=NotionBackend)\n",
    "test_database_id = \"test_database_id\"\n",
    "\n",
    "# test model\n",
    "class TestModel(NotionModel):\n",
    "    id: int = nmt.ID()\n",
    "    name: str = nmt.Title()\n",
    "    description: str = nmt.Text()\n",
    "\n",
    "# create a new dataset and slice it\n",
    "dataset = Dataset(\n",
    "    name=\"TestModel\",\n",
    "    model=TestModel,\n",
    "    database_id=test_database_id,\n",
    "    notion_backend=example_notion_backend,\n",
    ")\n",
    "\n",
    "# fill the _entries with mock data\n",
    "for i in range(10):\n",
    "    dataset._entries.append(TestModel(name=f\"test_{i}\", description=f\"test description {i}\"))"
   ]
  },
  {
   "cell_type": "code",
   "execution_count": 31,
   "metadata": {},
   "outputs": [],
   "source": [
    "#| hide\n",
    "assert len(dataset) == 10"
   ]
  },
  {
   "cell_type": "code",
   "execution_count": 32,
   "metadata": {},
   "outputs": [
    {
     "data": {
      "text/plain": [
       "Dataset(name=TestModel, model=TestModel, len=5)"
      ]
     },
     "execution_count": 32,
     "metadata": {},
     "output_type": "execute_result"
    }
   ],
   "source": [
    "dataset[0:5]"
   ]
  },
  {
   "cell_type": "code",
   "execution_count": 6,
   "metadata": {},
   "outputs": [],
   "source": [
    "test_database_id = \"1b25d9bf-94ff-81b8-ad75-fe31c9e3b2d2\"\n",
    "root_page_id = \"1b05d9bf94ff8092b52ae8d676e6abf2\"\n",
    "example_notion_backend = NotionBackend(root_page_id=root_page_id)"
   ]
  },
  {
   "cell_type": "code",
   "execution_count": 8,
   "metadata": {},
   "outputs": [
    {
     "data": {
      "text/plain": [
       "TestModel(name='test' description='test description')"
      ]
     },
     "execution_count": 8,
     "metadata": {},
     "output_type": "execute_result"
    }
   ],
   "source": [
    "# test model\n",
    "class TestModel(NotionModel):\n",
    "    id: int = nmt.ID()\n",
    "    name: str = nmt.Title()\n",
    "    description: str = nmt.Text()\n",
    "\n",
    "\n",
    "test_model = TestModel(name=\"test\", description=\"test description\")\n",
    "test_model"
   ]
  },
  {
   "cell_type": "code",
   "execution_count": 9,
   "metadata": {},
   "outputs": [],
   "source": [
    "dataset = Dataset(\n",
    "    name=\"TestModel\",\n",
    "    model=TestModel,\n",
    "    database_id=test_database_id,\n",
    "    notion_backend=example_notion_backend,\n",
    ")"
   ]
  },
  {
   "cell_type": "code",
   "execution_count": 10,
   "metadata": {},
   "outputs": [],
   "source": [
    "# | export\n",
    "@patch\n",
    "def append(self: Dataset, entry: NotionModelType) -> None:\n",
    "    \"\"\"Add a new entry to the dataset and sync to Notion.\"\"\"\n",
    "    # if not isinstance(entry, self.model):\n",
    "    #     raise TypeError(f\"Entry must be an instance of {self.model.__name__}\")\n",
    "\n",
    "    # Create in Notion and get response\n",
    "    response = self._notion_backend.create_page_in_database(\n",
    "        database_id=self.database_id, properties=entry.to_notion()[\"properties\"]\n",
    "    )\n",
    "\n",
    "    # Update entry with Notion data (like ID)\n",
    "    updated_entry = self.model.from_notion(response)\n",
    "    self._entries.append(updated_entry)"
   ]
  },
  {
   "cell_type": "code",
   "execution_count": 11,
   "metadata": {},
   "outputs": [],
   "source": [
    "test_model._page_id"
   ]
  },
  {
   "cell_type": "code",
   "execution_count": 12,
   "metadata": {},
   "outputs": [
    {
     "data": {
      "text/plain": [
       "1"
      ]
     },
     "execution_count": 12,
     "metadata": {},
     "output_type": "execute_result"
    }
   ],
   "source": [
    "dataset.append(test_model)\n",
    "len(dataset)"
   ]
  },
  {
   "cell_type": "code",
   "execution_count": 13,
   "metadata": {},
   "outputs": [],
   "source": [
    "test_model.id"
   ]
  },
  {
   "cell_type": "code",
   "execution_count": 14,
   "metadata": {},
   "outputs": [],
   "source": [
    "# | export\n",
    "@patch\n",
    "def pop(self: Dataset, index: int = -1) -> NotionModelType:\n",
    "    \"\"\"Remove and return entry at index, sync deletion to Notion.\"\"\"\n",
    "    entry = self._entries[index]\n",
    "    if not hasattr(entry, \"_page_id\"):\n",
    "        raise ValueError(\"Entry has no page_id\")\n",
    "\n",
    "    # Archive in Notion (soft delete)\n",
    "    assert entry._page_id is not None  # mypy fails to infer that we check for it above\n",
    "    self._notion_backend.update_page(page_id=entry._page_id, archived=True)\n",
    "\n",
    "    # Remove from local cache\n",
    "    return self._entries.pop(index)"
   ]
  },
  {
   "cell_type": "code",
   "execution_count": 15,
   "metadata": {},
   "outputs": [
    {
     "data": {
      "text/plain": [
       "0"
      ]
     },
     "execution_count": 15,
     "metadata": {},
     "output_type": "execute_result"
    }
   ],
   "source": [
    "dataset.pop()\n",
    "len(dataset)"
   ]
  },
  {
   "cell_type": "code",
   "execution_count": 16,
   "metadata": {},
   "outputs": [],
   "source": [
    "# | export\n",
    "@patch\n",
    "def load(self: Dataset) -> None:\n",
    "    \"\"\"Load all entries from the Notion database.\"\"\"\n",
    "    # Query the database\n",
    "    response = self._notion_backend.query_database(\n",
    "        database_id=self.database_id, archived=False\n",
    "    )\n",
    "\n",
    "    # Clear existing entries\n",
    "    self._entries.clear()\n",
    "\n",
    "    # Convert results to model instances\n",
    "    for page in response.get(\"results\", []):\n",
    "        entry = self.model.from_notion(page)\n",
    "        self._entries.append(entry)"
   ]
  },
  {
   "cell_type": "code",
   "execution_count": 17,
   "metadata": {},
   "outputs": [
    {
     "data": {
      "text/plain": [
       "3"
      ]
     },
     "execution_count": 17,
     "metadata": {},
     "output_type": "execute_result"
    }
   ],
   "source": [
    "for i in range(3):\n",
    "    dataset.append(test_model)\n",
    "len(dataset)"
   ]
  },
  {
   "cell_type": "code",
   "execution_count": 18,
   "metadata": {},
   "outputs": [
    {
     "data": {
      "text/plain": [
       "0"
      ]
     },
     "execution_count": 18,
     "metadata": {},
     "output_type": "execute_result"
    }
   ],
   "source": [
    "# create a new instance of the dataset\n",
    "dataset = Dataset(\n",
    "    name=\"TestModel\",\n",
    "    model=TestModel,\n",
    "    database_id=test_database_id,\n",
    "    notion_backend=example_notion_backend,\n",
    ")\n",
    "len(dataset)"
   ]
  },
  {
   "cell_type": "code",
   "execution_count": 19,
   "metadata": {},
   "outputs": [
    {
     "data": {
      "text/plain": [
       "17"
      ]
     },
     "execution_count": 19,
     "metadata": {},
     "output_type": "execute_result"
    }
   ],
   "source": [
    "dataset.load()\n",
    "len(dataset)"
   ]
  },
  {
   "cell_type": "code",
   "execution_count": 20,
   "metadata": {},
   "outputs": [],
   "source": [
    "# | export\n",
    "@patch\n",
    "def get(self: Dataset, id: int) -> t.Optional[NotionModelType]:\n",
    "    \"\"\"Get an entry by ID.\"\"\"\n",
    "    if not self._notion_backend:\n",
    "        return None\n",
    "\n",
    "    # Query the database for the specific ID\n",
    "    response = self._notion_backend.query_database(\n",
    "        database_id=self.database_id,\n",
    "        filter={\"property\": \"id\", \"unique_id\": {\"equals\": id}},\n",
    "    )\n",
    "\n",
    "    if not response.get(\"results\"):\n",
    "        return None\n",
    "\n",
    "    return self.model.from_notion(response[\"results\"][0])"
   ]
  },
  {
   "cell_type": "code",
   "execution_count": 21,
   "metadata": {},
   "outputs": [
    {
     "data": {
      "text/plain": [
       "TestModel(id=15 name='test' description='updated description')"
      ]
     },
     "execution_count": 21,
     "metadata": {},
     "output_type": "execute_result"
    }
   ],
   "source": [
    "test_model = dataset.get(15)\n",
    "test_model"
   ]
  },
  {
   "cell_type": "code",
   "execution_count": 22,
   "metadata": {},
   "outputs": [],
   "source": [
    "# | export\n",
    "@patch\n",
    "def save(self: Dataset, item: NotionModelType) -> None:\n",
    "    \"\"\"Save changes to an item to Notion.\"\"\"\n",
    "    if not isinstance(item, self.model):\n",
    "        raise TypeError(f\"Item must be an instance of {self.model.__name__}\")\n",
    "\n",
    "    if not hasattr(item, \"_page_id\"):\n",
    "        raise ValueError(\"Item has no page_id\")\n",
    "\n",
    "    # Update in Notion\n",
    "    assert item._page_id is not None  # mypy fails to infer that we check for it above\n",
    "    response = self._notion_backend.update_page(\n",
    "        page_id=item._page_id, properties=item.to_notion()[\"properties\"]\n",
    "    )\n",
    "\n",
    "    # Update local cache\n",
    "    for i, existing in enumerate(self._entries):\n",
    "        if existing._page_id == item._page_id:\n",
    "            self._entries[i] = self.model.from_notion(response)\n",
    "            break"
   ]
  },
  {
   "cell_type": "code",
   "execution_count": 23,
   "metadata": {},
   "outputs": [],
   "source": [
    "test_model.description = \"updated description\"\n",
    "dataset.save(test_model)"
   ]
  },
  {
   "cell_type": "code",
   "execution_count": 24,
   "metadata": {},
   "outputs": [
    {
     "data": {
      "text/plain": [
       "TestModel(id=15 name='test' description='updated description')"
      ]
     },
     "execution_count": 24,
     "metadata": {},
     "output_type": "execute_result"
    }
   ],
   "source": [
    "dataset.get(15)"
   ]
  },
  {
   "cell_type": "markdown",
   "metadata": {},
   "source": [
    "## [DELETE THIS] Comparsion View for SuperMe\n",
    "\n",
    "I'm going to build a comparison view for SuperMe.\n",
    "- get exp 1 data\n",
    "- get exp 2 data\n",
    "- make comparison view with grouped by id\n"
   ]
  },
  {
   "cell_type": "code",
   "execution_count": 25,
   "metadata": {},
   "outputs": [],
   "source": [
    "# configs\n",
    "# https://www.notion.so/ragas/Ragas-Dashboard-1a65d9bf94ff8061a82dd8dc31d69949?pvs=4\n",
    "root_page_id = \"1a65d9bf94ff8061a82dd8dc31d69949\"\n",
    "# https://www.notion.so/ragas/v=1aa5d9bf94ff817594b4000c6f22560c&pvs=4\n",
    "exp_1_database_id = \"1aa5d9bf94ff81468fe8ecf15d3cf8c2\"\n",
    "# https://www.notion.so/ragas/1aa5d9bf94ff81278818d8f1d7af1f16?v=1aa5d9bf94ff812b83ca000ceba9187c&pvs=4\n",
    "exp_2_database_id = \"1aa5d9bf94ff81278818d8f1d7af1f16\"\n",
    "\n",
    "\n",
    "super_me_notion_backend = NotionBackend(root_page_id=root_page_id)"
   ]
  },
  {
   "cell_type": "code",
   "execution_count": 26,
   "metadata": {},
   "outputs": [],
   "source": [
    "# exp 1 model\n",
    "class ExperimentModel1(NotionModel):\n",
    "    id: int = nmt.ID()\n",
    "    query: str = nmt.Title()\n",
    "    persona: str = nmt.Select()\n",
    "    response: str = nmt.Text()\n",
    "    grade: str = nmt.Select(required=False)\n",
    "    grading_notes: str = nmt.Text(required=False)\n",
    "    criteria: str = nmt.Text(required=False)\n",
    "    personalisation: str = nmt.Select(required=False)\n",
    "    citation_validity: str = nmt.Select(required=False)\n",
    "    citation_validity_notes: str = nmt.Text(required=False)\n",
    "\n",
    "\n",
    "# exp 2 model"
   ]
  },
  {
   "cell_type": "code",
   "execution_count": 27,
   "metadata": {},
   "outputs": [
    {
     "data": {
      "text/plain": [
       "30"
      ]
     },
     "execution_count": 27,
     "metadata": {},
     "output_type": "execute_result"
    }
   ],
   "source": [
    "exp_1 = Dataset(\n",
    "    name=\"experiment_one\",\n",
    "    model=ExperimentModel1,\n",
    "    database_id=exp_1_database_id,\n",
    "    notion_backend=super_me_notion_backend,\n",
    ")\n",
    "exp_1.load()\n",
    "len(exp_1)"
   ]
  },
  {
   "cell_type": "code",
   "execution_count": 28,
   "metadata": {},
   "outputs": [
    {
     "name": "stdout",
     "output_type": "stream",
     "text": [
      "List all the industries you have worked for\n",
      "\n",
      "         - Mention all industries worked in, including Software Development and Technology, E-commerce, Education and E-learning, Media and Publication, and Open Source Projects. \n",
      "         - Include specific companies like Robusta Dev, FrontRow, Spoyl, Pedagoge, GKToday.in, and AspecScire. \n",
      "         - Ensure no industries are omitted from the list provided.\n"
     ]
    }
   ],
   "source": [
    "eg = exp_1[10]\n",
    "print(eg.query)\n",
    "print(eg.criteria)"
   ]
  },
  {
   "cell_type": "code",
   "execution_count": 29,
   "metadata": {},
   "outputs": [],
   "source": [
    "class ExperimentModel2(NotionModel):\n",
    "    id: int = nmt.ID()\n",
    "    query: str = nmt.Title()\n",
    "    persona: str = nmt.Select()\n",
    "    response: str = nmt.Text()\n",
    "    grade: str = nmt.Select(required=False)\n",
    "    reason: str = nmt.Text(required=False)\n",
    "    criteria: str = nmt.Text(required=False)\n",
    "    annotator_grade: str = nmt.Select(required=False)\n",
    "    annotator_reason: str = nmt.Text(required=False)"
   ]
  },
  {
   "cell_type": "code",
   "execution_count": 30,
   "metadata": {},
   "outputs": [
    {
     "data": {
      "text/plain": [
       "30"
      ]
     },
     "execution_count": 30,
     "metadata": {},
     "output_type": "execute_result"
    }
   ],
   "source": [
    "exp_2 = Dataset(\n",
    "    name=\"experiment_two\",\n",
    "    model=ExperimentModel2,\n",
    "    database_id=exp_2_database_id,\n",
    "    notion_backend=super_me_notion_backend,\n",
    ")\n",
    "exp_2.load()\n",
    "len(exp_2)"
   ]
  },
  {
   "cell_type": "code",
   "execution_count": 31,
   "metadata": {},
   "outputs": [
    {
     "name": "stdout",
     "output_type": "stream",
     "text": [
      "what is the difference between ragas and deepeval\n",
      "\n",
      "\n",
      "         - Correctly explain what Ragas is and its role in evaluating LLM applications.\n",
      "         - Acknowledge the lack of information on Deepeval but suggest a willingness to provide more details if context is offered.\n",
      "         - Ensure any citations provided are correct and relevant to the discussion.\n"
     ]
    }
   ],
   "source": [
    "eg = exp_2[10]\n",
    "print(eg.query)\n",
    "print(eg.criteria)"
   ]
  },
  {
   "cell_type": "code",
   "execution_count": 32,
   "metadata": {},
   "outputs": [],
   "source": [
    "from notion_annotator_nbdev.model.notion_model import NotionModel"
   ]
  },
  {
   "cell_type": "code",
   "execution_count": 33,
   "metadata": {},
   "outputs": [
    {
     "data": {
      "text/plain": [
       "{}"
      ]
     },
     "execution_count": 33,
     "metadata": {},
     "output_type": "execute_result"
    }
   ],
   "source": [
    "NotionModel._fields"
   ]
  },
  {
   "cell_type": "code",
   "execution_count": 35,
   "metadata": {},
   "outputs": [
    {
     "data": {
      "text/plain": [
       "14"
      ]
     },
     "execution_count": 35,
     "metadata": {},
     "output_type": "execute_result"
    }
   ],
   "source": [
    "# combine both properties\n",
    "class CombinedModel(NotionModel):\n",
    "    id_str: str = nmt.Text()\n",
    "\n",
    "\n",
    "new_notion_model = CombinedModel\n",
    "for field in ExperimentModel1._fields.keys():\n",
    "    new_notion_model._fields[field] = ExperimentModel1._fields[field]\n",
    "for field in ExperimentModel2._fields.keys():\n",
    "    if field not in new_notion_model._fields:\n",
    "        new_notion_model._fields[field] = ExperimentModel2._fields[field]\n",
    "\n",
    "len(new_notion_model._fields)"
   ]
  },
  {
   "cell_type": "code",
   "execution_count": 36,
   "metadata": {},
   "outputs": [
    {
     "data": {
      "text/plain": [
       "{'id_str': {'type': 'rich_text', 'rich_text': {}},\n",
       " 'id': {'type': 'unique_id', 'unique_id': {'prefix': None}},\n",
       " 'query': {'type': 'title', 'title': {}},\n",
       " 'persona': {'type': 'select', 'select': {}},\n",
       " 'response': {'type': 'rich_text', 'rich_text': {}},\n",
       " 'grade': {'type': 'select', 'select': {}},\n",
       " 'grading_notes': {'type': 'rich_text', 'rich_text': {}},\n",
       " 'criteria': {'type': 'rich_text', 'rich_text': {}},\n",
       " 'personalisation': {'type': 'select', 'select': {}},\n",
       " 'citation_validity': {'type': 'select', 'select': {}},\n",
       " 'citation_validity_notes': {'type': 'rich_text', 'rich_text': {}},\n",
       " 'reason': {'type': 'rich_text', 'rich_text': {}},\n",
       " 'annotator_grade': {'type': 'select', 'select': {}},\n",
       " 'annotator_reason': {'type': 'rich_text', 'rich_text': {}}}"
      ]
     },
     "execution_count": 36,
     "metadata": {},
     "output_type": "execute_result"
    }
   ],
   "source": [
    "properties = {}\n",
    "for field in new_notion_model._fields.keys():\n",
    "    properties.update(new_notion_model._fields[field]._to_notion_property())\n",
    "\n",
    "properties"
   ]
  },
  {
   "cell_type": "code",
   "execution_count": 37,
   "metadata": {},
   "outputs": [],
   "source": [
    "# https://www.notion.so/ragas/Comparisons-1a65d9bf94ff81a582fff4100d52280d?pvs=4\n",
    "comparison_page_id = \"1a65d9bf94ff81a582fff4100d52280d\"\n",
    "\n",
    "# create a comparison view\n",
    "comparison_database_id = super_me_notion_backend.create_new_database(\n",
    "    parent_page_id=comparison_page_id,\n",
    "    title=\"experiment_one and experiment_two\",\n",
    "    properties=properties,\n",
    ")"
   ]
  },
  {
   "cell_type": "code",
   "execution_count": 38,
   "metadata": {},
   "outputs": [
    {
     "data": {
      "text/plain": [
       "30"
      ]
     },
     "execution_count": 38,
     "metadata": {},
     "output_type": "execute_result"
    }
   ],
   "source": [
    "# group together by query\n",
    "grouped = []\n",
    "for eg1 in exp_1:\n",
    "    for eg2 in exp_2:\n",
    "        if eg1.query == eg2.query:\n",
    "            grouped.append((eg1, eg2))\n",
    "\n",
    "len(grouped)"
   ]
  },
  {
   "cell_type": "code",
   "execution_count": 39,
   "metadata": {},
   "outputs": [
    {
     "data": {
      "text/plain": [
       "('How to build a career in datascience?',\n",
       " 'How to build a career in datascience?')"
      ]
     },
     "execution_count": 39,
     "metadata": {},
     "output_type": "execute_result"
    }
   ],
   "source": [
    "grouped[0][0].query, grouped[0][1].query"
   ]
  },
  {
   "cell_type": "code",
   "execution_count": 40,
   "metadata": {},
   "outputs": [
    {
     "data": {
      "text/plain": [
       "0"
      ]
     },
     "execution_count": 40,
     "metadata": {},
     "output_type": "execute_result"
    }
   ],
   "source": [
    "comparison_db = Dataset(\n",
    "    name=\"experiment_one and experiment_two\",\n",
    "    model=CombinedModel,\n",
    "    database_id=comparison_database_id,\n",
    "    notion_backend=super_me_notion_backend,\n",
    ")\n",
    "comparison_db.load()\n",
    "len(comparison_db)"
   ]
  },
  {
   "cell_type": "code",
   "execution_count": 45,
   "metadata": {},
   "outputs": [],
   "source": [
    "eg1_fields = {}\n",
    "eg2_fields = {}\n",
    "eg1, eg2 = grouped[0]\n",
    "for field in eg1._fields.keys():\n",
    "    eg1_fields[field] = eg1.__getattribute__(field)\n",
    "for field in eg2._fields.keys():\n",
    "    eg2_fields[field] = eg2.__getattribute__(field)\n",
    "\n",
    "combined_fields = (eg1_fields, eg2_fields)"
   ]
  },
  {
   "cell_type": "code",
   "execution_count": 46,
   "metadata": {},
   "outputs": [],
   "source": [
    "comparison_db.append(CombinedModel(id_str=\"1\", **combined_fields[0]))\n",
    "comparison_db.append(CombinedModel(id_str=\"1\", **combined_fields[1]))"
   ]
  },
  {
   "cell_type": "code",
   "execution_count": null,
   "metadata": {},
   "outputs": [],
   "source": [
    "from tqdm import tqdm"
   ]
  },
  {
   "cell_type": "code",
   "execution_count": 51,
   "metadata": {},
   "outputs": [
    {
     "name": "stderr",
     "output_type": "stream",
     "text": [
      "100%|██████████| 30/30 [02:03<00:00,  4.11s/it]\n"
     ]
    }
   ],
   "source": [
    "for i, (eg1, eg2) in enumerate(tqdm(grouped)):\n",
    "    # combine the fields\n",
    "    eg1_fields = {}\n",
    "    for field in eg1._fields.keys():\n",
    "        eg1_fields[field] = eg1.__getattribute__(field)\n",
    "\n",
    "    comparison_db.append(CombinedModel(id_str=str(i), **eg1_fields))\n",
    "\n",
    "    eg2_fields = {}\n",
    "    for field in eg2._fields.keys():\n",
    "        eg2_fields[field] = eg2.__getattribute__(field)\n",
    "    comparison_db.append(CombinedModel(id_str=str(i), **eg2_fields))"
   ]
  },
  {
   "cell_type": "code",
   "execution_count": null,
   "metadata": {},
   "outputs": [],
   "source": []
  }
 ],
 "metadata": {
  "kernelspec": {
   "display_name": ".venv",
   "language": "python",
   "name": "python3"
  },
  "language_info": {
   "codemirror_mode": {
    "name": "ipython",
    "version": 3
   },
   "file_extension": ".py",
   "mimetype": "text/x-python",
   "name": "python",
   "nbconvert_exporter": "python",
   "pygments_lexer": "ipython3",
   "version": "3.12.8"
  }
 },
 "nbformat": 4,
 "nbformat_minor": 2
}
