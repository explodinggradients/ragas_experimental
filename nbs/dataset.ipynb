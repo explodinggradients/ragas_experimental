{
 "cells": [
  {
   "cell_type": "markdown",
   "metadata": {},
   "source": [
    "# `Dataset`\n",
    "\n",
    "> A python list like object that contains your evaluation data."
   ]
  },
  {
   "cell_type": "code",
   "execution_count": 1,
   "metadata": {},
   "outputs": [],
   "source": [
    "# | default_exp dataset"
   ]
  },
  {
   "cell_type": "code",
   "execution_count": 2,
   "metadata": {},
   "outputs": [],
   "source": [
    "# | hide\n",
    "\n",
    "from unittest.mock import MagicMock\n",
    "from fastcore.test import *"
   ]
  },
  {
   "cell_type": "code",
   "execution_count": 3,
   "metadata": {},
   "outputs": [],
   "source": [
    "# | export\n",
    "import typing as t\n",
    "\n",
    "from fastcore.utils import patch\n",
    "\n",
    "from pydantic import BaseModel\n",
    "\n",
    "from ragas_annotator.backends.ragas_api_client import RagasApiClient"
   ]
  },
  {
   "cell_type": "code",
   "execution_count": 4,
   "metadata": {},
   "outputs": [],
   "source": [
    "# | export\n",
    "PydanticModelType = t.TypeVar(\"PydanticModelType\", bound=BaseModel)\n",
    "\n",
    "\n",
    "class Dataset(t.Generic[PydanticModelType]):\n",
    "    \"\"\"A list-like interface for managing NotionModel instances in a Notion database.\"\"\"\n",
    "\n",
    "    def __init__(\n",
    "        self,\n",
    "        name: str,\n",
    "        model: t.Type[BaseModel],\n",
    "        project_id: str,\n",
    "        dataset_id: str,\n",
    "        ragas_api_client: RagasApiClient,\n",
    "    ):\n",
    "        self.name = name\n",
    "        self.model = model\n",
    "        self.project_id = project_id\n",
    "        self.dataset_id = dataset_id\n",
    "        self._ragas_api_client = ragas_api_client\n",
    "        self._entries: t.List[PydanticModelType] = []\n",
    "\n",
    "    def __getitem__(\n",
    "        self, key: t.Union[int, slice]\n",
    "    ) -> t.Union[PydanticModelType, \"Dataset[PydanticModelType]\"]:\n",
    "        \"\"\"Get an entry by index or slice.\"\"\"\n",
    "        if isinstance(key, slice):\n",
    "            new_dataset = type(self)(\n",
    "                name=self.name,\n",
    "                model=self.model,\n",
    "                project_id=self.project_id,\n",
    "                dataset_id=self.dataset_id,\n",
    "                ragas_api_client=self._ragas_api_client,\n",
    "            )\n",
    "            new_dataset._entries = self._entries[key]\n",
    "            return new_dataset\n",
    "        else:\n",
    "            return self._entries[key]\n",
    "\n",
    "    def __setitem__(self, index: int, entry: PydanticModelType) -> None:\n",
    "        \"\"\"Update an entry at the given index and sync to Notion.\"\"\"\n",
    "        if not isinstance(entry, self.model):\n",
    "            raise TypeError(f\"Entry must be an instance of {self.model.__name__}\")\n",
    "\n",
    "        # Get existing entry to get Notion page ID\n",
    "        existing = self._entries[index]\n",
    "        if not hasattr(existing, \"_page_id\"):\n",
    "            raise ValueError(\"Existing entry has no page_id\")\n",
    "\n",
    "        # Update in Notion\n",
    "        assert (\n",
    "            existing._page_id is not None\n",
    "        )  # mypy fails to infer that we check for it above\n",
    "        response = self._ragas_api_client.update_page(\n",
    "            page_id=existing._page_id, properties=entry.to_notion()[\"properties\"]\n",
    "        )\n",
    "\n",
    "        # Update local cache with response data\n",
    "        self._entries[index] = self.model.from_notion(response)\n",
    "\n",
    "    def __repr__(self) -> str:\n",
    "        return (\n",
    "            f\"Dataset(name={self.name}, model={self.model.__name__}, len={len(self)})\"\n",
    "        )\n",
    "\n",
    "    def __len__(self) -> int:\n",
    "        return len(self._entries)\n",
    "\n",
    "    def __iter__(self) -> t.Iterator[PydanticModelType]:\n",
    "        return iter(self._entries)"
   ]
  },
  {
   "cell_type": "code",
   "execution_count": 5,
   "metadata": {},
   "outputs": [],
   "source": [
    "# | hide\n",
    "import ragas_annotator.typing as rt\n",
    "from pydantic import BaseModel\n",
    "from ragas_annotator.backends.factory import RagasApiClientFactory"
   ]
  },
  {
   "cell_type": "code",
   "execution_count": 6,
   "metadata": {},
   "outputs": [
    {
     "data": {
      "text/plain": [
       "TestModel(id=0, name='test', description='test description')"
      ]
     },
     "execution_count": 6,
     "metadata": {},
     "output_type": "execute_result"
    }
   ],
   "source": [
    "# test model\n",
    "class TestModel(BaseModel):\n",
    "    id: int\n",
    "    name: str\n",
    "    description: str\n",
    "\n",
    "\n",
    "test_model = TestModel(id=0, name=\"test\", description=\"test description\")\n",
    "test_model"
   ]
  },
  {
   "cell_type": "code",
   "execution_count": 7,
   "metadata": {},
   "outputs": [],
   "source": [
    "import os"
   ]
  },
  {
   "cell_type": "code",
   "execution_count": 8,
   "metadata": {},
   "outputs": [],
   "source": [
    "RAGAS_APP_TOKEN = \"apt.47bd-c55e4a45b27c-02f8-8446-1441f09b-651a8\"\n",
    "RAGAS_API_BASE_URL = \"https://api.dev.app.ragas.io\"\n",
    "\n",
    "os.environ[\"RAGAS_APP_TOKEN\"] = RAGAS_APP_TOKEN\n",
    "os.environ[\"RAGAS_API_BASE_URL\"] = RAGAS_API_BASE_URL"
   ]
  },
  {
   "cell_type": "code",
   "execution_count": 9,
   "metadata": {},
   "outputs": [],
   "source": [
    "ragas_api_client = RagasApiClientFactory.create()"
   ]
  },
  {
   "cell_type": "code",
   "execution_count": 11,
   "metadata": {},
   "outputs": [
    {
     "data": {
      "text/plain": [
       "{'id': 'a4f0d169-ebce-4a2b-b758-0ff49c0c4312',\n",
       " 'name': 'TestModel',\n",
       " 'description': None,\n",
       " 'created_at': '2025-04-10T02:41:25.077552+00:00',\n",
       " 'updated_at': '2025-04-10T02:41:25.077552+00:00',\n",
       " 'version_counter': 0,\n",
       " 'project_id': '0a7c4ecb-b313-4bb0-81c0-852c9634ce03'}"
      ]
     },
     "execution_count": 11,
     "metadata": {},
     "output_type": "execute_result"
    }
   ],
   "source": [
    "# https://dev.app.ragas.io/dashboard/projects/0a7c4ecb-b313-4bb0-81c0-852c9634ce03/datasets/a4f0d169-ebce-4a2b-b758-0ff49c0c4312\n",
    "TEST_PROJECT_ID = \"0a7c4ecb-b313-4bb0-81c0-852c9634ce03\"\n",
    "TEST_DATASET_ID = \"a4f0d169-ebce-4a2b-b758-0ff49c0c4312\"\n",
    "test_project = await ragas_api_client.get_project(project_id=TEST_PROJECT_ID)\n",
    "test_dataset = await ragas_api_client.get_dataset(project_id=TEST_PROJECT_ID, dataset_id=TEST_DATASET_ID)\n",
    "test_dataset"
   ]
  },
  {
   "cell_type": "code",
   "execution_count": 12,
   "metadata": {},
   "outputs": [],
   "source": [
    "dataset = Dataset(\n",
    "    name=\"TestModel\", model=TestModel, project_id=TEST_PROJECT_ID, dataset_id=TEST_DATASET_ID, ragas_api_client=ragas_api_client\n",
    ")"
   ]
  },
  {
   "cell_type": "code",
   "execution_count": null,
   "metadata": {},
   "outputs": [],
   "source": [
    "from ragas_annotator.project.core import async_to_sync"
   ]
  },
  {
   "cell_type": "code",
   "execution_count": 35,
   "metadata": {},
   "outputs": [],
   "source": [
    "@patch\n",
    "def get_column_id_map(self: Dataset, dataset_id: str) -> dict:\n",
    "    \"\"\"Get a map of column name to column id\"\"\"\n",
    "    sync_func = async_to_sync(self._ragas_api_client.list_dataset_columns)\n",
    "    columns = sync_func(project_id=self.project_id, dataset_id=dataset_id)\n",
    "    column_id_map = {column[\"name\"]: column[\"id\"] for column in columns[\"items\"]}\n",
    "    return column_id_map\n"
   ]
  },
  {
   "cell_type": "code",
   "execution_count": 38,
   "metadata": {},
   "outputs": [],
   "source": [
    "# | export\n",
    "@patch\n",
    "def append(self: Dataset, entry: PydanticModelType) -> None:\n",
    "    \"\"\"Add a new entry to the dataset and sync to Notion.\"\"\"\n",
    "    # Create row inside the table\n",
    "\n",
    "    # first get the columns for the dataset\n",
    "    # TODO: this is a hack to get the columns for the dataset\n",
    "    column_id_map = self.get_column_id_map(dataset_id=self.dataset_id)\n",
    "\n",
    "    # create the rows\n",
    "    row_dict = entry.model_dump()\n",
    "    row_id = create_nano_id()\n",
    "    row_data = {}\n",
    "    for key, value in row_dict.items():\n",
    "        if key in column_id_map:\n",
    "            row_data[column_id_map[key]] = value\n",
    "\n",
    "    sync_func = async_to_sync(self._ragas_api_client.create_dataset_row)\n",
    "    response = sync_func(\n",
    "        project_id=self.project_id,\n",
    "        dataset_id=self.dataset_id,\n",
    "        id=row_id,\n",
    "        data=row_data,\n",
    "    )\n",
    "    # Update entry with Notion data (like ID)\n",
    "    self._entries.append(entry)"
   ]
  },
  {
   "cell_type": "code",
   "execution_count": 39,
   "metadata": {},
   "outputs": [
    {
     "data": {
      "text/plain": [
       "4"
      ]
     },
     "execution_count": 39,
     "metadata": {},
     "output_type": "execute_result"
    }
   ],
   "source": [
    "dataset.append(test_model)\n",
    "len(dataset)"
   ]
  },
  {
   "cell_type": "code",
   "execution_count": null,
   "metadata": {},
   "outputs": [],
   "source": [
    "# | hide\n",
    "test_eq(len(dataset), 1)"
   ]
  },
  {
   "cell_type": "code",
   "execution_count": 20,
   "metadata": {},
   "outputs": [],
   "source": [
    "# | export\n",
    "@patch\n",
    "def pop(self: Dataset, index: int = -1) -> PydanticModelType:\n",
    "    \"\"\"Remove and return entry at index, sync deletion to Notion.\"\"\"\n",
    "    entry = self._entries[index]\n",
    "    # get the row id\n",
    "    # TODO: this is a hack to get the row id\n",
    "    sync_func = async_to_sync(self._ragas_api_client.list_dataset_rows)\n",
    "    rows = sync_func(project_id=self.project_id, dataset_id=self.dataset_id)\n",
    "    for row in rows[\"items\"]:\n",
    "        print(row, entry.id)\n",
    "    return\n",
    "    # Archive in Notion (soft delete)\n",
    "    assert entry._page_id is not None  # mypy fails to infer that we check for it above\n",
    "    self._ragas_api_client.update_page(page_id=entry._page_id, archived=True)\n",
    "\n",
    "    # Remove from local cache\n",
    "    return self._entries.pop(index)"
   ]
  },
  {
   "cell_type": "code",
   "execution_count": 21,
   "metadata": {},
   "outputs": [
    {
     "name": "stdout",
     "output_type": "stream",
     "text": [
      "{'id': 'bvthgi7gc7Kj', 'data': {'id': 'bvthgi7gc7Kj', 'bhPF1NFCoxrL': 'test description', 'crNbVl176nwv': 0, 'djZ0STd4j6zA': 'test'}, 'created_at': '2025-04-10T02:43:20.64121+00:00', 'updated_at': '2025-04-10T02:43:20.64121+00:00', 'datatable_id': 'a4f0d169-ebce-4a2b-b758-0ff49c0c4312'} 0\n"
     ]
    },
    {
     "data": {
      "text/plain": [
       "1"
      ]
     },
     "execution_count": 21,
     "metadata": {},
     "output_type": "execute_result"
    }
   ],
   "source": [
    "dataset.pop()\n",
    "len(dataset)"
   ]
  },
  {
   "cell_type": "code",
   "execution_count": null,
   "metadata": {},
   "outputs": [],
   "source": [
    "# | hide\n",
    "test_eq(len(dataset), 0)"
   ]
  },
  {
   "cell_type": "code",
   "execution_count": null,
   "metadata": {},
   "outputs": [],
   "source": [
    "# | export\n",
    "@patch\n",
    "def load(self: Dataset) -> None:\n",
    "    \"\"\"Load all entries from the Notion database.\"\"\"\n",
    "    # Query the database\n",
    "    response = self._ragas_api_client.query_database(\n",
    "        database_id=self.dataset_id, archived=False\n",
    "    )\n",
    "\n",
    "    # Clear existing entries\n",
    "    self._entries.clear()\n",
    "\n",
    "    # Convert results to model instances\n",
    "    for page in response.get(\"results\", []):\n",
    "        entry = self.model.from_notion(page)\n",
    "        self._entries.append(entry)"
   ]
  },
  {
   "cell_type": "code",
   "execution_count": null,
   "metadata": {},
   "outputs": [],
   "source": [
    "dataset.load()"
   ]
  },
  {
   "cell_type": "code",
   "execution_count": null,
   "metadata": {},
   "outputs": [
    {
     "data": {
      "text/plain": [
       "3"
      ]
     },
     "execution_count": null,
     "metadata": {},
     "output_type": "execute_result"
    }
   ],
   "source": [
    "for i in range(3):\n",
    "    dataset.append(test_model)\n",
    "len(dataset)"
   ]
  },
  {
   "cell_type": "code",
   "execution_count": null,
   "metadata": {},
   "outputs": [
    {
     "data": {
      "text/plain": [
       "0"
      ]
     },
     "execution_count": null,
     "metadata": {},
     "output_type": "execute_result"
    }
   ],
   "source": [
    "# create a new instance of the dataset\n",
    "dataset = Dataset(\n",
    "    name=\"TestModel\",\n",
    "    model=TestModel,\n",
    "    dataset_id=datasets_id,\n",
    "    ragas_api_client=backend,\n",
    ")\n",
    "len(dataset)"
   ]
  },
  {
   "cell_type": "code",
   "execution_count": null,
   "metadata": {},
   "outputs": [],
   "source": [
    "dataset.load()\n",
    "test_eq(len(dataset), 3)"
   ]
  },
  {
   "cell_type": "code",
   "execution_count": null,
   "metadata": {},
   "outputs": [],
   "source": [
    "# | export\n",
    "@patch\n",
    "def get(self: Dataset, id: int) -> t.Optional[PydanticModelType]:\n",
    "    \"\"\"Get an entry by ID.\"\"\"\n",
    "    if not self._ragas_api_client:\n",
    "        return None\n",
    "\n",
    "    # Query the database for the specific ID\n",
    "    response = self._ragas_api_client.query_database(\n",
    "        database_id=self.dataset_id,\n",
    "        filter={\"property\": \"id\", \"unique_id\": {\"equals\": id}},\n",
    "    )\n",
    "\n",
    "    if not response.get(\"results\"):\n",
    "        return None\n",
    "\n",
    "    return self.model.from_notion(response[\"results\"][0])"
   ]
  },
  {
   "cell_type": "code",
   "execution_count": null,
   "metadata": {},
   "outputs": [
    {
     "data": {
      "text/plain": [
       "TestModel(name='test' description='test description')"
      ]
     },
     "execution_count": null,
     "metadata": {},
     "output_type": "execute_result"
    }
   ],
   "source": [
    "test_model = dataset.get(0)\n",
    "test_model"
   ]
  },
  {
   "cell_type": "code",
   "execution_count": null,
   "metadata": {},
   "outputs": [],
   "source": [
    "# | hide\n",
    "test_eq(test_model.description, \"test description\")"
   ]
  },
  {
   "cell_type": "code",
   "execution_count": null,
   "metadata": {},
   "outputs": [],
   "source": [
    "# | export\n",
    "@patch\n",
    "def save(self: Dataset, item: PydanticModelType) -> None:\n",
    "    \"\"\"Save changes to an item to Notion.\"\"\"\n",
    "    if not isinstance(item, self.model):\n",
    "        raise TypeError(f\"Item must be an instance of {self.model.__name__}\")\n",
    "\n",
    "    if not hasattr(item, \"_page_id\"):\n",
    "        raise ValueError(\"Item has no page_id\")\n",
    "\n",
    "    # Update in Notion\n",
    "    assert item._page_id is not None  # mypy fails to infer that we check for it above\n",
    "    response = self._ragas_api_client.update_page(\n",
    "        page_id=item._page_id, properties=item.to_notion()[\"properties\"]\n",
    "    )\n",
    "\n",
    "    # Update local cache\n",
    "    for i, existing in enumerate(self._entries):\n",
    "        if existing._page_id == item._page_id:\n",
    "            self._entries[i] = self.model.from_notion(response)\n",
    "            break"
   ]
  },
  {
   "cell_type": "code",
   "execution_count": null,
   "metadata": {},
   "outputs": [],
   "source": [
    "test_model.description = \"updated description\"\n",
    "dataset.save(test_model)"
   ]
  },
  {
   "cell_type": "code",
   "execution_count": null,
   "metadata": {},
   "outputs": [
    {
     "data": {
      "text/plain": [
       "TestModel(name='test' description='updated description')"
      ]
     },
     "execution_count": null,
     "metadata": {},
     "output_type": "execute_result"
    }
   ],
   "source": [
    "dataset.get(0)"
   ]
  },
  {
   "cell_type": "code",
   "execution_count": null,
   "metadata": {},
   "outputs": [],
   "source": [
    "# | hide\n",
    "test_eq(dataset.get(0).description, \"updated description\")"
   ]
  }
 ],
 "metadata": {
  "kernelspec": {
   "display_name": ".venv",
   "language": "python",
   "name": "python3"
  },
  "language_info": {
   "codemirror_mode": {
    "name": "ipython",
    "version": 3
   },
   "file_extension": ".py",
   "mimetype": "text/x-python",
   "name": "python",
   "nbconvert_exporter": "python",
   "pygments_lexer": "ipython3",
   "version": "3.12.8"
  }
 },
 "nbformat": 4,
 "nbformat_minor": 2
}
