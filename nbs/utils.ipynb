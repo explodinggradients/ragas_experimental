{
 "cells": [
  {
   "cell_type": "code",
   "execution_count": null,
   "metadata": {},
   "outputs": [],
   "source": [
    "#| default_exp utils"
   ]
  },
  {
   "cell_type": "code",
   "execution_count": null,
   "metadata": {},
   "outputs": [],
   "source": [
    "#| export\n",
    "import string\n",
    "import uuid"
   ]
  },
  {
   "cell_type": "code",
   "execution_count": null,
   "metadata": {},
   "outputs": [],
   "source": [
    "#| export\n",
    "def create_nano_id(size=12):\n",
    "    # Define characters to use (alphanumeric)\n",
    "    alphabet = string.ascii_letters + string.digits\n",
    "    \n",
    "    # Generate UUID and convert to int\n",
    "    uuid_int = uuid.uuid4().int\n",
    "    \n",
    "    # Convert to base62\n",
    "    result = \"\"\n",
    "    while uuid_int:\n",
    "        uuid_int, remainder = divmod(uuid_int, len(alphabet))\n",
    "        result = alphabet[remainder] + result\n",
    "    \n",
    "    # Pad if necessary and return desired length\n",
    "    return result[:size]"
   ]
  },
  {
   "cell_type": "code",
   "execution_count": null,
   "metadata": {},
   "outputs": [],
   "source": []
  }
 ],
 "metadata": {
  "kernelspec": {
   "display_name": ".venv",
   "language": "python",
   "name": "python3"
  },
  "language_info": {
   "name": "python",
   "version": "3.12.8"
  }
 },
 "nbformat": 4,
 "nbformat_minor": 2
}
