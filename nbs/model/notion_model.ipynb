{
 "cells": [
  {
   "cell_type": "markdown",
   "metadata": {},
   "source": [
    "# `NotionModel`\n",
    "\n",
    "> NotionModel is a class that allows you to create a model of a Notion database."
   ]
  },
  {
   "cell_type": "code",
   "execution_count": 1,
   "metadata": {},
   "outputs": [],
   "source": [
    "# | default_exp model.notion_model"
   ]
  },
  {
   "cell_type": "code",
   "execution_count": 2,
   "metadata": {},
   "outputs": [],
   "source": [
    "# | export\n",
    "from dataclasses import dataclass\n",
    "import typing as t\n",
    "from datetime import datetime\n",
    "\n",
    "from fastcore.utils import patch, patch_to\n",
    "\n",
    "from ragas_annotator.exceptions import ValidationError\n",
    "from ragas_annotator.model.notion_typing import Field, ID"
   ]
  },
  {
   "cell_type": "code",
   "execution_count": 3,
   "metadata": {},
   "outputs": [],
   "source": [
    "# | export\n",
    "class NotionModelMeta(type):\n",
    "    \"\"\"Metaclass for NotionModel to handle field registration.\"\"\"\n",
    "\n",
    "    def __new__(mcs, name: str, bases: tuple, namespace: dict):\n",
    "        _fields: t.Dict[str, Field] = {}\n",
    "\n",
    "        # Collect fields from base classes\n",
    "        for base in bases:\n",
    "            if hasattr(base, \"_fields\"):\n",
    "                _fields.update(base._fields)\n",
    "\n",
    "        # Collect fields from class variables and type annotations\n",
    "        for key, value in namespace.items():\n",
    "            # Skip internal attributes\n",
    "            if key.startswith(\"_\"):\n",
    "                continue\n",
    "\n",
    "            # Handle field instances directly defined in class\n",
    "            if isinstance(value, Field):\n",
    "                _fields[key] = value\n",
    "            # Handle annotated but not instantiated fields\n",
    "            elif (\n",
    "                key in namespace.get(\"__annotations__\", {})\n",
    "                and isinstance(value, type)\n",
    "                and issubclass(value, Field)\n",
    "            ):\n",
    "                _fields[key] = value()\n",
    "\n",
    "        namespace[\"_fields\"] = _fields\n",
    "        return super().__new__(mcs, name, bases, namespace)"
   ]
  },
  {
   "cell_type": "code",
   "execution_count": 4,
   "metadata": {},
   "outputs": [],
   "source": [
    "# | export\n",
    "class NotionModel(metaclass=NotionModelMeta):\n",
    "    \"\"\"Base class for Notion database models.\n",
    "\n",
    "    Represents a row in a Notion database with typed fields that map to\n",
    "    Notion property values.\n",
    "    \"\"\"\n",
    "\n",
    "    _fields: t.ClassVar[t.Dict[str, Field]]\n",
    "    _created_time: t.Optional[datetime] = None\n",
    "    _last_edited_time: t.Optional[datetime] = None\n",
    "    _page_id: t.Optional[str] = None\n",
    "\n",
    "    def __init__(self, **kwargs):\n",
    "        self._values: t.Dict[str, t.Any] = {}\n",
    "        self._page_id = kwargs.pop(\"page_id\", None)  # Extract page_id from kwargs\n",
    "        self._created_time = kwargs.pop(\"created_time\", None)\n",
    "        self._last_edited_time = kwargs.pop(\"last_edited_time\", None)\n",
    "\n",
    "        # Get required fields\n",
    "        required_fields = {\n",
    "            name\n",
    "            for name, field in self._fields.items()\n",
    "            if field.required and name not in kwargs\n",
    "        }\n",
    "\n",
    "        if required_fields:\n",
    "            raise ValidationError(f\"Missing required fields: {required_fields}\")\n",
    "\n",
    "        # Set values and validate\n",
    "        for name, value in kwargs.items():\n",
    "            if name in self._fields:\n",
    "                setattr(self, name, value)\n",
    "            else:\n",
    "                raise ValidationError(f\"Unknown field: {name}\")\n",
    "\n",
    "    def __setattr__(self, name: str, value: t.Any):\n",
    "        \"\"\"Handle field validation on attribute setting.\"\"\"\n",
    "        if name.startswith(\"_\"):\n",
    "            super().__setattr__(name, value)\n",
    "            return\n",
    "\n",
    "        field = self._fields.get(name)\n",
    "        if field is not None:\n",
    "            value = field.validate(value)\n",
    "            self._values[name] = value\n",
    "        else:\n",
    "            super().__setattr__(name, value)\n",
    "\n",
    "    def __getattr__(self, name: str) -> t.Any:\n",
    "        \"\"\"Handle field access.\"\"\"\n",
    "        if name in self._values:\n",
    "            return self._values[name]\n",
    "        raise AttributeError(f\"'{self.__class__.__name__}' has no attribute '{name}'\")\n",
    "\n",
    "    def __repr__(self) -> str:\n",
    "        \"\"\"Return a string representation of the model instance.\"\"\"\n",
    "        class_name = self.__class__.__name__\n",
    "        parts = []\n",
    "\n",
    "        # First add ID fields\n",
    "        for name, field in self.__class__._fields.items():\n",
    "            if isinstance(field, ID) and name in self._values:\n",
    "                value = self._values[name]\n",
    "                if value is not None:\n",
    "                    parts.append(f\"{name}={repr(value)}\")\n",
    "\n",
    "        # Then add other fields in declaration order\n",
    "        for name, field in self.__class__._fields.items():\n",
    "            if not isinstance(field, ID) and name in self._values:\n",
    "                value = self._values[name]\n",
    "                if value is not None:\n",
    "                    if isinstance(value, str):\n",
    "                        parts.append(f\"{name}='{value}'\")\n",
    "                    else:\n",
    "                        parts.append(f\"{name}={repr(value)}\")\n",
    "\n",
    "        return f\"{class_name}({' '.join(parts)})\""
   ]
  },
  {
   "cell_type": "code",
   "execution_count": 5,
   "metadata": {},
   "outputs": [],
   "source": [
    "from ragas_annotator.model.notion_typing import ID, Text, URL\n",
    "\n",
    "\n",
    "class TestModel(NotionModel):\n",
    "    id: int = ID()\n",
    "    name: str = Text()\n",
    "    url: str = URL()"
   ]
  },
  {
   "cell_type": "code",
   "execution_count": 6,
   "metadata": {},
   "outputs": [
    {
     "data": {
      "text/plain": [
       "TestModel(id=1 name='test' url='https://www.google.com')"
      ]
     },
     "execution_count": 6,
     "metadata": {},
     "output_type": "execute_result"
    }
   ],
   "source": [
    "TestModel(id=1, name=\"test\", url=\"https://www.google.com\")"
   ]
  },
  {
   "cell_type": "code",
   "execution_count": 7,
   "metadata": {},
   "outputs": [],
   "source": [
    "# | export\n",
    "@patch\n",
    "def to_notion(self: NotionModel) -> dict:\n",
    "    \"\"\"Convert the model to Notion API format.\"\"\"\n",
    "    properties = {}\n",
    "    for name, field in self._fields.items():\n",
    "        if name in self._values:\n",
    "            value = self._values[name]\n",
    "            if value is not None:\n",
    "                properties.update(field._to_notion(value))\n",
    "    return {\"properties\": properties}\n",
    "\n",
    "\n",
    "@patch_to(NotionModel, cls_method=True)\n",
    "def from_notion(cls, data: dict) -> \"NotionModel\":\n",
    "    \"\"\"Create a model instance from Notion API data.\"\"\"\n",
    "    values = {}\n",
    "    for name, field in cls._fields.items():\n",
    "        if name in data.get(\"properties\", {}):\n",
    "            values[name] = field._from_notion({\"properties\": data[\"properties\"]})\n",
    "\n",
    "    # Handle system properties\n",
    "    if \"id\" in data:\n",
    "        values[\"page_id\"] = data[\"id\"]  # Set page_id from Notion's id\n",
    "    if \"created_time\" in data:\n",
    "        values[\"created_time\"] = datetime.fromisoformat(\n",
    "            data[\"created_time\"].replace(\"Z\", \"+00:00\")\n",
    "        )\n",
    "    if \"last_edited_time\" in data:\n",
    "        values[\"last_edited_time\"] = datetime.fromisoformat(\n",
    "            data[\"last_edited_time\"].replace(\"Z\", \"+00:00\")\n",
    "        )\n",
    "\n",
    "    return cls(**values)"
   ]
  },
  {
   "cell_type": "code",
   "execution_count": 8,
   "metadata": {},
   "outputs": [],
   "source": [
    "# | test\n",
    "test_model = TestModel(id=1, name=\"test\", url=\"https://www.google.com\")\n",
    "test_model_as_properties = {\n",
    "    \"properties\": {\n",
    "        \"id\": {\"type\": \"unique_id\", \"unique_id\": 1},\n",
    "        \"name\": {\"rich_text\": [{\"text\": {\"content\": \"test\"}}]},\n",
    "        \"url\": {\"url\": \"https://www.google.com\"},\n",
    "    }\n",
    "}\n",
    "\n",
    "assert test_model.to_notion() == test_model_as_properties"
   ]
  },
  {
   "cell_type": "code",
   "execution_count": 14,
   "metadata": {},
   "outputs": [
    {
     "ename": "TypeError",
     "evalue": "'int' object is not subscriptable",
     "output_type": "error",
     "traceback": [
      "\u001b[0;31m---------------------------------------------------------------------------\u001b[0m",
      "\u001b[0;31mTypeError\u001b[0m                                 Traceback (most recent call last)",
      "Cell \u001b[0;32mIn[14], line 1\u001b[0m\n\u001b[0;32m----> 1\u001b[0m test_model_from_notion \u001b[38;5;241m=\u001b[39m \u001b[43mTestModel\u001b[49m\u001b[38;5;241;43m.\u001b[39;49m\u001b[43mfrom_notion\u001b[49m\u001b[43m(\u001b[49m\u001b[43mtest_model_as_properties\u001b[49m\u001b[43m)\u001b[49m\n\u001b[1;32m      3\u001b[0m \u001b[38;5;28;01massert\u001b[39;00m test_model_from_notion\u001b[38;5;241m.\u001b[39mid \u001b[38;5;241m==\u001b[39m \u001b[38;5;241m1\u001b[39m\n\u001b[1;32m      4\u001b[0m \u001b[38;5;28;01massert\u001b[39;00m test_model_from_notion\u001b[38;5;241m.\u001b[39mname \u001b[38;5;241m==\u001b[39m \u001b[38;5;124m\"\u001b[39m\u001b[38;5;124mtest\u001b[39m\u001b[38;5;124m\"\u001b[39m\n",
      "Cell \u001b[0;32mIn[7], line 22\u001b[0m, in \u001b[0;36mfrom_notion\u001b[0;34m(cls, data)\u001b[0m\n\u001b[1;32m     20\u001b[0m \u001b[38;5;28;01mfor\u001b[39;00m name, field \u001b[38;5;129;01min\u001b[39;00m \u001b[38;5;28mcls\u001b[39m\u001b[38;5;241m.\u001b[39m_fields\u001b[38;5;241m.\u001b[39mitems():\n\u001b[1;32m     21\u001b[0m     \u001b[38;5;28;01mif\u001b[39;00m name \u001b[38;5;129;01min\u001b[39;00m data\u001b[38;5;241m.\u001b[39mget(\u001b[38;5;124m\"\u001b[39m\u001b[38;5;124mproperties\u001b[39m\u001b[38;5;124m\"\u001b[39m, {}):\n\u001b[0;32m---> 22\u001b[0m         values[name] \u001b[38;5;241m=\u001b[39m \u001b[43mfield\u001b[49m\u001b[38;5;241;43m.\u001b[39;49m\u001b[43m_from_notion\u001b[49m\u001b[43m(\u001b[49m\u001b[43m{\u001b[49m\u001b[38;5;124;43m\"\u001b[39;49m\u001b[38;5;124;43mproperties\u001b[39;49m\u001b[38;5;124;43m\"\u001b[39;49m\u001b[43m:\u001b[49m\u001b[43m \u001b[49m\u001b[43mdata\u001b[49m\u001b[43m[\u001b[49m\u001b[38;5;124;43m\"\u001b[39;49m\u001b[38;5;124;43mproperties\u001b[39;49m\u001b[38;5;124;43m\"\u001b[39;49m\u001b[43m]\u001b[49m\u001b[43m}\u001b[49m\u001b[43m)\u001b[49m\n\u001b[1;32m     24\u001b[0m \u001b[38;5;66;03m# Handle system properties\u001b[39;00m\n\u001b[1;32m     25\u001b[0m \u001b[38;5;28;01mif\u001b[39;00m \u001b[38;5;124m\"\u001b[39m\u001b[38;5;124mid\u001b[39m\u001b[38;5;124m\"\u001b[39m \u001b[38;5;129;01min\u001b[39;00m data:\n",
      "File \u001b[0;32m~/workspace/eglabs/scrappy-annotator/notion_annotator_nbdev/notion_annotator_nbdev/model/notion_typing.py:100\u001b[0m, in \u001b[0;36mID._from_notion\u001b[0;34m(self, data)\u001b[0m\n\u001b[1;32m     98\u001b[0m \u001b[38;5;28;01mif\u001b[39;00m \u001b[38;5;124m\"\u001b[39m\u001b[38;5;124mproperties\u001b[39m\u001b[38;5;124m\"\u001b[39m \u001b[38;5;129;01min\u001b[39;00m data:\n\u001b[1;32m     99\u001b[0m     \u001b[38;5;28;01mif\u001b[39;00m \u001b[38;5;28mself\u001b[39m\u001b[38;5;241m.\u001b[39mname \u001b[38;5;129;01min\u001b[39;00m data[\u001b[38;5;124m\"\u001b[39m\u001b[38;5;124mproperties\u001b[39m\u001b[38;5;124m\"\u001b[39m]:\n\u001b[0;32m--> 100\u001b[0m         \u001b[38;5;28;01mreturn\u001b[39;00m \u001b[43mdata\u001b[49m\u001b[43m[\u001b[49m\u001b[38;5;124;43m\"\u001b[39;49m\u001b[38;5;124;43mproperties\u001b[39;49m\u001b[38;5;124;43m\"\u001b[39;49m\u001b[43m]\u001b[49m\u001b[43m[\u001b[49m\u001b[38;5;28;43mself\u001b[39;49m\u001b[38;5;241;43m.\u001b[39;49m\u001b[43mname\u001b[49m\u001b[43m]\u001b[49m\u001b[43m[\u001b[49m\u001b[38;5;124;43m\"\u001b[39;49m\u001b[38;5;124;43munique_id\u001b[39;49m\u001b[38;5;124;43m\"\u001b[39;49m\u001b[43m]\u001b[49m\u001b[43m[\u001b[49m\u001b[38;5;124;43m\"\u001b[39;49m\u001b[38;5;124;43mnumber\u001b[39;49m\u001b[38;5;124;43m\"\u001b[39;49m\u001b[43m]\u001b[49m\n\u001b[1;32m    101\u001b[0m \u001b[38;5;28;01melse\u001b[39;00m:\n\u001b[1;32m    102\u001b[0m     \u001b[38;5;28;01mif\u001b[39;00m \u001b[38;5;28mself\u001b[39m\u001b[38;5;241m.\u001b[39mname \u001b[38;5;129;01min\u001b[39;00m data:\n",
      "\u001b[0;31mTypeError\u001b[0m: 'int' object is not subscriptable"
     ]
    }
   ],
   "source": [
    "test_model_from_notion = TestModel.from_notion(test_model_as_properties)\n",
    "\n",
    "assert test_model_from_notion.id == 1\n",
    "assert test_model_from_notion.name == \"test\"\n",
    "assert test_model_from_notion.url == \"https://www.google.com\""
   ]
  },
  {
   "cell_type": "code",
   "execution_count": null,
   "metadata": {},
   "outputs": [],
   "source": []
  }
 ],
 "metadata": {
  "kernelspec": {
   "display_name": ".venv",
   "language": "python",
   "name": "python3"
  },
  "language_info": {
   "codemirror_mode": {
    "name": "ipython",
    "version": 3
   },
   "file_extension": ".py",
   "mimetype": "text/x-python",
   "name": "python",
   "nbconvert_exporter": "python",
   "pygments_lexer": "ipython3",
   "version": "3.12.8"
  }
 },
 "nbformat": 4,
 "nbformat_minor": 2
}
