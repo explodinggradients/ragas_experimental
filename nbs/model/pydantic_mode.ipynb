{
 "cells": [
  {
   "cell_type": "markdown",
   "metadata": {},
   "source": [
    "# Ragas `BaseModel`\n",
    "\n",
    "> An Extended version of Pydantics `BaseModel` for some ragas specific stuff"
   ]
  },
  {
   "cell_type": "code",
   "execution_count": 1,
   "metadata": {},
   "outputs": [],
   "source": [
    "#| default_exp model.pydantic_model"
   ]
  },
  {
   "cell_type": "code",
   "execution_count": 1,
   "metadata": {},
   "outputs": [],
   "source": [
    "#| export\n",
    "import typing as t\n",
    "\n",
    "from pydantic import BaseModel, PrivateAttr\n",
    "\n",
    "from ragas_annotator.typing import FieldMeta as RagasFieldMeta"
   ]
  },
  {
   "cell_type": "code",
   "execution_count": 2,
   "metadata": {},
   "outputs": [],
   "source": [
    "#| export\n",
    "class ExtendedPydanticBaseModel(BaseModel):\n",
    "    \"\"\"Extended Pydantic BaseModel with database integration capabilities\"\"\"\n",
    "    \n",
    "    # Private attribute for storing the database row_id\n",
    "    _row_id: t.Optional[int] = PrivateAttr(default=None)\n",
    "    \n",
    "    # Class variable for storing column mapping overrides\n",
    "    __column_mapping__: t.ClassVar[t.Dict[str, str]] = {}\n",
    "    \n",
    "    def __init__(self, **data):\n",
    "        super().__init__(**data)\n",
    "        # Initialize column mapping if not already defined\n",
    "        if not self.__class__.__column_mapping__:\n",
    "            self._initialize_column_mapping()\n",
    "    \n",
    "    @classmethod\n",
    "    def _initialize_column_mapping(cls):\n",
    "        \"\"\"Initialize mapping from field names to column IDs.\"\"\"\n",
    "        for field_name, field_info in cls.model_fields.items():\n",
    "            # Check if field has Column metadata (for Pydantic v2)\n",
    "            column_id = None\n",
    "            for extra in field_info.metadata or []:\n",
    "                if isinstance(extra, RagasFieldMeta) and extra.id:\n",
    "                    column_id = extra.id\n",
    "                    break\n",
    "            \n",
    "            # If no Column metadata found, use field name as column ID\n",
    "            if not column_id:\n",
    "                column_id = field_name\n",
    "            \n",
    "            cls.__column_mapping__[field_name] = column_id\n",
    "    \n",
    "    @classmethod\n",
    "    def get_column_id(cls, field_name: str) -> str:\n",
    "        \"\"\"Get the column ID for a given field name.\"\"\"\n",
    "        if field_name not in cls.__column_mapping__:\n",
    "            raise ValueError(f\"No column mapping found for field {field_name}\")\n",
    "        return cls.__column_mapping__[field_name]\n",
    "    \n",
    "    @classmethod\n",
    "    def set_column_id(cls, field_name: str, column_id: str):\n",
    "        \"\"\"Set the column ID for a given field name.\"\"\"\n",
    "        if field_name not in cls.model_fields:\n",
    "            raise ValueError(f\"Field {field_name} not found in model\")\n",
    "        cls.__column_mapping__[field_name] = column_id\n",
    "    \n",
    "    def get_db_field_mapping(self) -> t.Dict[str, str]:\n",
    "        \"\"\"Get a mapping from field names to column IDs for this model.\"\"\"\n",
    "        return self.__class__.__column_mapping__\n",
    "\n"
   ]
  },
  {
   "cell_type": "code",
   "execution_count": 12,
   "metadata": {},
   "outputs": [],
   "source": [
    "import ragas_annotator.typing as rt"
   ]
  },
  {
   "cell_type": "code",
   "execution_count": 13,
   "metadata": {},
   "outputs": [],
   "source": [
    "# Example usage\n",
    "class TestDataRow(ExtendedPydanticBaseModel):\n",
    "    id: t.Optional[int] = None\n",
    "    query: t.Annotated[str, rt.Text(id=\"search_query\")]\n",
    "    persona: t.List[t.Literal[\"opt1\", \"opt2\", \"opt3\"]]"
   ]
  },
  {
   "cell_type": "code",
   "execution_count": 14,
   "metadata": {},
   "outputs": [
    {
     "data": {
      "text/plain": [
       "{}"
      ]
     },
     "execution_count": 14,
     "metadata": {},
     "output_type": "execute_result"
    }
   ],
   "source": [
    "TestDataRow.__column_mapping__"
   ]
  },
  {
   "cell_type": "code",
   "execution_count": 15,
   "metadata": {},
   "outputs": [],
   "source": [
    "t = TestDataRow(id=1, query=\"this is a test\", persona=[\"opt1\"])"
   ]
  },
  {
   "cell_type": "code",
   "execution_count": 16,
   "metadata": {},
   "outputs": [
    {
     "data": {
      "text/plain": [
       "{'id': 'id', 'query': 'search_query', 'persona': 'persona'}"
      ]
     },
     "execution_count": 16,
     "metadata": {},
     "output_type": "execute_result"
    }
   ],
   "source": [
    "t.__column_mapping__"
   ]
  },
  {
   "cell_type": "code",
   "execution_count": null,
   "metadata": {},
   "outputs": [],
   "source": []
  }
 ],
 "metadata": {
  "kernelspec": {
   "display_name": ".venv",
   "language": "python",
   "name": "python3"
  },
  "language_info": {
   "codemirror_mode": {
    "name": "ipython",
    "version": 3
   },
   "file_extension": ".py",
   "mimetype": "text/x-python",
   "name": "python",
   "nbconvert_exporter": "python",
   "pygments_lexer": "ipython3",
   "version": "3.12.8"
  }
 },
 "nbformat": 4,
 "nbformat_minor": 2
}
