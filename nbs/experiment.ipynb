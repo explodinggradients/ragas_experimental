{
 "cells": [
  {
   "cell_type": "markdown",
   "metadata": {},
   "source": [
    "# `Experiment`\n",
    "\n",
    "> Experiments hold the results of an experiment against a dataset."
   ]
  },
  {
   "cell_type": "code",
   "execution_count": null,
   "metadata": {},
   "outputs": [],
   "source": [
    "# | default_exp experiment"
   ]
  },
  {
   "cell_type": "code",
   "execution_count": 4,
   "metadata": {},
   "outputs": [],
   "source": [
    "# | export\n",
    "import typing as t\n",
    "\n",
    "from fastcore.utils import patch\n",
    "\n",
    "from ragas_annotator.model.notion_model import NotionModel\n",
    "from ragas_annotator.backends.notion_backend import NotionBackend\n",
    "from ragas_annotator.dataset import Dataset"
   ]
  },
  {
   "cell_type": "code",
   "execution_count": 11,
   "metadata": {},
   "outputs": [],
   "source": [
    "# | export\n",
    "class Experiment(Dataset):\n",
    "    def __init__(\n",
    "        self,\n",
    "        name: str,\n",
    "        model: t.Type[NotionModel],\n",
    "        database_id: str,\n",
    "        notion_backend: NotionBackend,\n",
    "    ):\n",
    "        super().__init__(name, model, database_id, notion_backend)\n",
    "\n",
    "    def __str__(self):\n",
    "        return f\"Experiment(name={self.name}, model={self.model.__name__})\"\n",
    "\n",
    "    __repr__ = __str__"
   ]
  },
  {
   "cell_type": "code",
   "execution_count": 12,
   "metadata": {},
   "outputs": [],
   "source": [
    "# | hide\n",
    "from unittest.mock import MagicMock"
   ]
  },
  {
   "cell_type": "code",
   "execution_count": 13,
   "metadata": {},
   "outputs": [
    {
     "data": {
      "text/plain": [
       "Experiment(name=test_experiment, model=NotionModel)"
      ]
     },
     "execution_count": 13,
     "metadata": {},
     "output_type": "execute_result"
    }
   ],
   "source": [
    "example_notion_backend = MagicMock(spec=NotionBackend)\n",
    "test_database_id = \"test_database_id\"\n",
    "\n",
    "test_experiment = Experiment(\n",
    "    \"test_experiment\", NotionModel, test_database_id, example_notion_backend\n",
    ")\n",
    "test_experiment"
   ]
  },
  {
   "cell_type": "code",
   "execution_count": null,
   "metadata": {},
   "outputs": [],
   "source": []
  }
 ],
 "metadata": {
  "kernelspec": {
   "display_name": ".venv",
   "language": "python",
   "name": "python3"
  },
  "language_info": {
   "codemirror_mode": {
    "name": "ipython",
    "version": 3
   },
   "file_extension": ".py",
   "mimetype": "text/x-python",
   "name": "python",
   "nbconvert_exporter": "python",
   "pygments_lexer": "ipython3",
   "version": "3.12.8"
  }
 },
 "nbformat": 4,
 "nbformat_minor": 2
}
