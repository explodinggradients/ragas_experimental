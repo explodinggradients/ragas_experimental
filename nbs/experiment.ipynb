{
 "cells": [
  {
   "cell_type": "markdown",
   "metadata": {},
   "source": [
    "# Experiment\n",
    "\n",
    "> Experiments hold the results of an experiment against a dataset."
   ]
  },
  {
   "cell_type": "code",
   "execution_count": null,
   "metadata": {},
   "outputs": [],
   "source": [
    "# | default_exp experiment"
   ]
  },
  {
   "cell_type": "code",
   "execution_count": null,
   "metadata": {},
   "outputs": [],
   "source": [
    "# | export\n",
    "import typing as t\n",
    "\n",
    "from fastcore.utils import patch\n",
    "\n",
    "from ragas_experimental.model.pydantic_model import ExtendedPydanticBaseModel as BaseModel\n",
    "from ragas_experimental.backends.ragas_api_client import RagasApiClient\n",
    "from ragas_experimental.dataset import Dataset"
   ]
  },
  {
   "cell_type": "code",
   "execution_count": null,
   "metadata": {},
   "outputs": [],
   "source": [
    "# | export\n",
    "class Experiment(Dataset):\n",
    "    def __init__(\n",
    "        self,\n",
    "        name: str,\n",
    "        model: t.Type[BaseModel],\n",
    "        project_id: str,\n",
    "        experiment_id: str,\n",
    "        ragas_api_client: RagasApiClient,\n",
    "    ):\n",
    "        self.experiment_id = experiment_id\n",
    "        super().__init__(name, model, project_id, experiment_id, ragas_api_client)\n",
    "\n",
    "    def __str__(self):\n",
    "        return f\"Experiment(name={self.name}, model={self.model.__name__})\"\n",
    "\n",
    "    __repr__ = __str__"
   ]
  }
 ],
 "metadata": {
  "kernelspec": {
   "display_name": ".venv",
   "language": "python",
   "name": "python3"
  },
  "language_info": {
   "name": "python",
   "version": "3.12.8"
  }
 },
 "nbformat": 4,
 "nbformat_minor": 2
}
