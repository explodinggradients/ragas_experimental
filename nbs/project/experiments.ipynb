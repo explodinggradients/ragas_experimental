{
 "cells": [
  {
   "cell_type": "markdown",
   "metadata": {},
   "source": [
    "# Experiments\n",
    "\n",
    "> How to run experiments"
   ]
  },
  {
   "cell_type": "code",
   "execution_count": null,
   "metadata": {},
   "outputs": [],
   "source": [
    "# | default_exp project.experiments"
   ]
  },
  {
   "cell_type": "code",
   "execution_count": null,
   "metadata": {},
   "outputs": [],
   "source": [
    "# | export\n",
    "from tqdm import tqdm\n",
    "from functools import wraps\n",
    "import asyncio\n",
    "from tqdm import tqdm\n",
    "\n",
    "import typing as t\n",
    "\n",
    "from fastcore.utils import patch\n",
    "\n",
    "from ragas_experimental.project.core import Project\n",
    "from ragas_experimental.model.pydantic_model import ExtendedPydanticBaseModel as BaseModel\n",
    "from ragas_experimental.utils import async_to_sync, create_nano_id\n",
    "from ragas_experimental.dataset import Dataset, BaseModelType\n",
    "from ragas_experimental.experiment import Experiment\n",
    "import ragas_experimental.typing as rt"
   ]
  },
  {
   "cell_type": "markdown",
   "metadata": {},
   "source": [
    "## Basics"
   ]
  },
  {
   "cell_type": "code",
   "execution_count": null,
   "metadata": {},
   "outputs": [],
   "source": [
    "# | export\n",
    "@patch\n",
    "def create_experiment(\n",
    "    self: Project, name: str, model: t.Type[BaseModel]\n",
    ") -> Experiment:\n",
    "    \"\"\"Create a new experiment.\n",
    "\n",
    "    Args:\n",
    "        name: Name of the experiment\n",
    "        model: Model class defining the experiment structure\n",
    "\n",
    "    Returns:\n",
    "        Experiment: An experiment object for managing results\n",
    "    \"\"\"\n",
    "    # Create the experiment\n",
    "    sync_version = async_to_sync(self._ragas_api_client.create_experiment)\n",
    "    experiment_info = sync_version(\n",
    "        project_id=self.project_id,\n",
    "        name=name,\n",
    "    )\n",
    "\n",
    "    # Create the columns for the experiment\n",
    "    column_types = rt.ModelConverter.model_to_columns(model)\n",
    "    sync_version = async_to_sync(create_experiment_columns)\n",
    "    sync_version(\n",
    "        project_id=self.project_id,\n",
    "        experiment_id=experiment_info[\"id\"],\n",
    "        columns=column_types,\n",
    "        create_experiment_column_func=self._ragas_api_client.create_experiment_column,\n",
    "    )\n",
    "    \n",
    "    # Return a new Experiment instance\n",
    "    return Experiment(\n",
    "        name=name,\n",
    "        model=model,\n",
    "        project_id=self.project_id,\n",
    "        experiment_id=experiment_info[\"id\"],\n",
    "        ragas_api_client=self._ragas_api_client,\n",
    "    )\n",
    "\n",
    "# Add this helper function similar to create_dataset_columns in core.ipynb\n",
    "async def create_experiment_columns(project_id, experiment_id, columns, create_experiment_column_func):\n",
    "    tasks = []\n",
    "    for column in columns:\n",
    "        tasks.append(create_experiment_column_func(\n",
    "            project_id=project_id,\n",
    "            experiment_id=experiment_id,\n",
    "            id=create_nano_id(),\n",
    "            name=column[\"name\"],\n",
    "            type=column[\"type\"],\n",
    "            settings={\n",
    "                \"max_length\": 255,\n",
    "                \"is_required\": True,\n",
    "            },\n",
    "        ))\n",
    "    return await asyncio.gather(*tasks)"
   ]
  },
  {
   "cell_type": "code",
   "execution_count": null,
   "metadata": {},
   "outputs": [
    {
     "data": {
      "text/plain": [
       "Project(name='yann-lecun-wisdom')"
      ]
     },
     "execution_count": null,
     "metadata": {},
     "output_type": "execute_result"
    }
   ],
   "source": [
    "import os\n",
    "\n",
    "RAGAS_APP_TOKEN = \"app-token\"\n",
    "RAGAS_API_BASE_URL = \"https://api.dev.app.ragas.io\"\n",
    "\n",
    "os.environ[\"RAGAS_APP_TOKEN\"] = RAGAS_APP_TOKEN\n",
    "os.environ[\"RAGAS_API_BASE_URL\"] = RAGAS_API_BASE_URL\n",
    "\n",
    "PROJECT_ID = \"919a4d42-aaf2-45cd-badd-152249788bfa\"\n",
    "p = Project(project_id=PROJECT_ID)\n",
    "p"
   ]
  },
  {
   "cell_type": "code",
   "execution_count": null,
   "metadata": {},
   "outputs": [],
   "source": [
    "class TestModel(BaseModel):\n",
    "    name: str\n",
    "    description: str\n",
    "    price: float\n"
   ]
  },
  {
   "cell_type": "code",
   "execution_count": null,
   "metadata": {},
   "outputs": [
    {
     "data": {
      "text/plain": [
       "Experiment(name=test-exp, model=TestModel)"
      ]
     },
     "execution_count": null,
     "metadata": {},
     "output_type": "execute_result"
    }
   ],
   "source": [
    "experiment_id = \"5d7752ab-17bf-46bc-a302-afe04ce1a763\"\n",
    "exp = p.create_experiment(name=\"test-exp\", model=TestModel)\n",
    "#exp = p.create_dataset(name=\"just name and desc 2\", model=TestModel)\n",
    "\n",
    "exp"
   ]
  },
  {
   "cell_type": "code",
   "execution_count": null,
   "metadata": {},
   "outputs": [],
   "source": [
    "# | export\n",
    "@patch\n",
    "def get_experiment_by_id(self: Project, experiment_id: str, model: t.Type[BaseModel]) -> Experiment:\n",
    "    \"\"\"Get an existing experiment by ID.\"\"\"\n",
    "    # Get experiment info\n",
    "    sync_version = async_to_sync(self._ragas_api_client.get_experiment)\n",
    "    experiment_info = sync_version(\n",
    "        project_id=self.project_id,\n",
    "        experiment_id=experiment_id\n",
    "    )\n",
    "\n",
    "    return Experiment(\n",
    "        name=experiment_info[\"name\"],\n",
    "        model=model,\n",
    "        project_id=self.project_id,\n",
    "        experiment_id=experiment_id,\n",
    "        ragas_api_client=self._ragas_api_client,\n",
    "    )"
   ]
  },
  {
   "cell_type": "code",
   "execution_count": null,
   "metadata": {},
   "outputs": [
    {
     "data": {
      "text/plain": [
       "'effe0e10-916d-4530-b974-91d5115f5dc2'"
      ]
     },
     "execution_count": null,
     "metadata": {},
     "output_type": "execute_result"
    }
   ],
   "source": [
    "exp.experiment_id"
   ]
  },
  {
   "cell_type": "code",
   "execution_count": null,
   "metadata": {},
   "outputs": [
    {
     "data": {
      "text/plain": [
       "Experiment(name=test-exp, model=TestModel)"
      ]
     },
     "execution_count": null,
     "metadata": {},
     "output_type": "execute_result"
    }
   ],
   "source": [
    "p.get_experiment_by_id(exp.experiment_id, TestModel)"
   ]
  },
  {
   "cell_type": "code",
   "execution_count": null,
   "metadata": {},
   "outputs": [],
   "source": [
    "# | export\n",
    "@patch\n",
    "def get_experiment(self: Project, dataset_name: str, model) -> Dataset:\n",
    "    \"\"\"Get an existing dataset by name.\"\"\"\n",
    "    # Search for dataset with given name\n",
    "    sync_version = async_to_sync(self._ragas_api_client.get_experiment_by_name)\n",
    "    exp_info = sync_version(\n",
    "        project_id=self.project_id,\n",
    "        experiment_name=dataset_name\n",
    "    )\n",
    "\n",
    "    # Return Dataset instance\n",
    "    return Experiment(\n",
    "        name=exp_info[\"name\"],\n",
    "        model=model,\n",
    "        project_id=self.project_id,\n",
    "        experiment_id=exp_info[\"id\"],\n",
    "        ragas_api_client=self._ragas_api_client,\n",
    "    )"
   ]
  },
  {
   "cell_type": "code",
   "execution_count": null,
   "metadata": {},
   "outputs": [
    {
     "data": {
      "text/plain": [
       "Experiment(name=test-exp, model=TestModel)"
      ]
     },
     "execution_count": null,
     "metadata": {},
     "output_type": "execute_result"
    }
   ],
   "source": [
    "p.get_experiment(\"test-exp\", TestModel)"
   ]
  },
  {
   "cell_type": "markdown",
   "metadata": {},
   "source": [
    "## Experiment Wrapper"
   ]
  },
  {
   "cell_type": "code",
   "execution_count": null,
   "metadata": {},
   "outputs": [],
   "source": [
    "# | export\n",
    "@t.runtime_checkable\n",
    "class ExperimentProtocol(t.Protocol):\n",
    "    async def __call__(self, *args, **kwargs): ...\n",
    "    async def run_async(self, name: str, dataset: Dataset): ..."
   ]
  },
  {
   "cell_type": "code",
   "execution_count": null,
   "metadata": {},
   "outputs": [],
   "source": [
    "# | export\n",
    "\n",
    "# this one we have to clean up\n",
    "from langfuse.decorators import observe"
   ]
  },
  {
   "cell_type": "code",
   "execution_count": null,
   "metadata": {},
   "outputs": [],
   "source": [
    "# | export\n",
    "from ragas_experimental.project.naming import MemorableNames"
   ]
  },
  {
   "cell_type": "code",
   "execution_count": null,
   "metadata": {},
   "outputs": [],
   "source": [
    "# | export\n",
    "memorable_names = MemorableNames()"
   ]
  },
  {
   "cell_type": "code",
   "execution_count": null,
   "metadata": {},
   "outputs": [],
   "source": [
    "# | export\n",
    "@patch\n",
    "def experiment(\n",
    "    self: Project, experiment_model, name_prefix: str = \"\"\n",
    "):\n",
    "    \"\"\"Decorator for creating experiment functions without Langfuse integration.\n",
    "\n",
    "    Args:\n",
    "        experiment_model: The NotionModel type to use for experiment results\n",
    "        name_prefix: Optional prefix for experiment names\n",
    "\n",
    "    Returns:\n",
    "        Decorator function that wraps experiment functions\n",
    "    \"\"\"\n",
    "\n",
    "    def decorator(func: t.Callable) -> ExperimentProtocol:\n",
    "        @wraps(func)\n",
    "        async def wrapped_experiment(*args, **kwargs):\n",
    "            # Simply call the function without Langfuse observation\n",
    "            return await func(*args, **kwargs)\n",
    "\n",
    "        # Add run method to the wrapped function\n",
    "        async def run_async(dataset: Dataset, name: t.Optional[str] = None):\n",
    "            # if name is not provided, generate a memorable name\n",
    "            if name is None:\n",
    "                name = memorable_names.generate_unique_name()\n",
    "            if name_prefix:\n",
    "                name = f\"{name_prefix}-{name}\"\n",
    "\n",
    "            # Create tasks for all items\n",
    "            tasks = []\n",
    "            for item in dataset:\n",
    "                tasks.append(wrapped_experiment(item))\n",
    "\n",
    "            # Use as_completed with tqdm for progress tracking\n",
    "            results = []\n",
    "            for future in tqdm(asyncio.as_completed(tasks), total=len(tasks)):\n",
    "                result = await future\n",
    "                # Add each result to experiment view as it completes\n",
    "                if result is not None:\n",
    "                    results.append(result)\n",
    "\n",
    "            # upload results to experiment view\n",
    "            experiment_view = self.create_experiment(name=name, model=experiment_model)\n",
    "            for result in results:\n",
    "                experiment_view.append(result)\n",
    "\n",
    "            return experiment_view\n",
    "\n",
    "        wrapped_experiment.__setattr__(\"run_async\", run_async)\n",
    "        return t.cast(ExperimentProtocol, wrapped_experiment)\n",
    "\n",
    "    return decorator"
   ]
  },
  {
   "cell_type": "code",
   "execution_count": null,
   "metadata": {},
   "outputs": [],
   "source": [
    "# create experimental test dataset\n",
    "test_dataset = p.create_dataset(name=\"test dataset for experiment\", model=TestModel)\n",
    "test_dataset.append(TestModel(name=\"test item 1\", description=\"test item 1 description\", price=100))\n",
    "test_dataset.append(TestModel(name=\"test item 2\", description=\"test item 2 description\", price=200))\n",
    "test_dataset.append(TestModel(name=\"test item 3\", description=\"test item 3 description\", price=300))"
   ]
  },
  {
   "cell_type": "code",
   "execution_count": null,
   "metadata": {},
   "outputs": [],
   "source": [
    "# create experiment model\n",
    "class TextExperimentModel(TestModel):\n",
    "    response: str\n",
    "    is_correct: t.Literal[\"yes\", \"no\"]\n",
    "\n",
    "# create a test experiment function\n",
    "@p.experiment(TextExperimentModel)\n",
    "async def test_experiment(item: TestModel):\n",
    "    print(item)\n",
    "    return TextExperimentModel(**item.model_dump(), response=\"test response\", is_correct=\"yes\")\n"
   ]
  },
  {
   "cell_type": "code",
   "execution_count": null,
   "metadata": {},
   "outputs": [
    {
     "name": "stderr",
     "output_type": "stream",
     "text": [
      "100%|██████████| 3/3 [00:00<00:00, 7752.87it/s]\n"
     ]
    },
    {
     "name": "stdout",
     "output_type": "stream",
     "text": [
      "name='test item 2' description='test item 2 description' price=200.0\n",
      "name='test item 1' description='test item 1 description' price=100.0\n",
      "name='test item 3' description='test item 3 description' price=300.0\n"
     ]
    },
    {
     "data": {
      "text/plain": [
       "Experiment(name=keen_backus, model=TextExperimentModel)"
      ]
     },
     "execution_count": null,
     "metadata": {},
     "output_type": "execute_result"
    }
   ],
   "source": [
    "# run the experiment\n",
    "await test_experiment.run_async(test_dataset)"
   ]
  },
  {
   "cell_type": "code",
   "execution_count": null,
   "metadata": {},
   "outputs": [],
   "source": [
    "# | export\n",
    "@patch\n",
    "def langfuse_experiment(\n",
    "    self: Project, experiment_model, name_prefix: str = \"\"\n",
    "):\n",
    "    \"\"\"Decorator for creating experiment functions with Langfuse integration.\n",
    "\n",
    "    Args:\n",
    "        experiment_model: The NotionModel type to use for experiment results\n",
    "        name_prefix: Optional prefix for experiment names\n",
    "\n",
    "    Returns:\n",
    "        Decorator function that wraps experiment functions with Langfuse observation\n",
    "    \"\"\"\n",
    "\n",
    "    def decorator(func: t.Callable) -> ExperimentProtocol:\n",
    "        # First, create a base experiment wrapper\n",
    "        base_experiment = self.experiment(experiment_model, name_prefix)(func)\n",
    "\n",
    "        # Override the wrapped function to add Langfuse observation\n",
    "        @wraps(func)\n",
    "        async def wrapped_with_langfuse(*args, **kwargs):\n",
    "            # wrap the function with langfuse observation\n",
    "            observed_func = observe(name=f\"{name_prefix}-{func.__name__}\")(func)\n",
    "            return await observed_func(*args, **kwargs)\n",
    "\n",
    "        # Replace the async function to use Langfuse\n",
    "        original_run_async = base_experiment.run_async\n",
    "\n",
    "        # Use the original run_async but with the Langfuse-wrapped function\n",
    "        async def run_async_with_langfuse(\n",
    "            dataset: Dataset, name: t.Optional[str] = None\n",
    "        ):\n",
    "            # Override the internal wrapped_experiment with our Langfuse version\n",
    "            base_experiment.__wrapped__ = wrapped_with_langfuse\n",
    "\n",
    "            # Call the original run_async which will now use our Langfuse-wrapped function\n",
    "            return await original_run_async(dataset, name)\n",
    "\n",
    "        # Replace the run_async method\n",
    "        base_experiment.__setattr__(\"run_async\", run_async_with_langfuse)\n",
    "\n",
    "        return t.cast(ExperimentProtocol, base_experiment)\n",
    "\n",
    "    return decorator"
   ]
  },
  {
   "cell_type": "code",
   "execution_count": null,
   "metadata": {},
   "outputs": [],
   "source": [
    "\n",
    "import logging\n",
    "from ragas_experimental.utils import plot_experiments_as_subplots\n",
    "\n",
    "@patch\n",
    "def compare_and_plot(self: Project, experiment_ids: t.List[str], model: t.Type[BaseModel], metric_names: t.List[str]):\n",
    "    \"\"\"Compare multiple experiments and generate a plot.\n",
    "\n",
    "    Args:\n",
    "        experiment_ids: List of experiment IDs to compare\n",
    "        model: Model class defining the experiment structure\n",
    "    \"\"\"\n",
    "    results = {}\n",
    "    for experiment_id in tqdm(experiment_ids, desc=\"Fetching experiments\"):\n",
    "        experiment = self.get_experiment(experiment_id, model)\n",
    "        experiment.load()\n",
    "        results[experiment_id] = {}\n",
    "        for row in experiment:\n",
    "            for metric in metric_names:\n",
    "                if metric not in results[experiment_id]:\n",
    "                    results[experiment_id][metric] = []\n",
    "                if hasattr(row, metric):\n",
    "                    results[experiment_id][metric].append(getattr(row, metric))\n",
    "                else:\n",
    "                    results[metric].append(None)\n",
    "                    logging.warning(f\"Metric {metric} not found in row: {row}\")\n",
    "                    \n",
    "    \n",
    "    \n",
    "    fig = plot_experiments_as_subplots(results,experiment_ids=experiment_ids)\n",
    "    fig.show()\n",
    "        \n",
    "        \n",
    "        \n",
    "        \n",
    "    "
   ]
  },
  {
   "cell_type": "code",
   "execution_count": null,
   "metadata": {},
   "outputs": [],
   "source": [
    "from ragas_experimental import BaseModel\n",
    "\n",
    "class TestDataset(BaseModel):\n",
    "    question: str\n",
    "    citations: list[str]\n",
    "    grading_notes: str\n",
    "    \n",
    "\n",
    "class ExperimentModel(TestDataset):\n",
    "    response: str\n",
    "    score: str\n",
    "    score_reason: str\n"
   ]
  },
  {
   "cell_type": "code",
   "execution_count": null,
   "metadata": {},
   "outputs": [
    {
     "name": "stderr",
     "output_type": "stream",
     "text": [
      "Fetching experiments: 100%|██████████| 2/2 [00:03<00:00,  1.85s/it]\n"
     ]
    },
    {
     "data": {
      "application/vnd.plotly.v1+json": {
       "config": {
        "plotlyServerURL": "https://plot.ly"
       },
       "data": [
        {
         "hoverinfo": "text",
         "hovertext": [
          "Fail: 30.0%",
          "Fail: 33.3%"
         ],
         "marker": {
          "color": "#e11185"
         },
         "name": "Fail",
         "showlegend": false,
         "type": "bar",
         "width": 0.5,
         "x": [
          "Exp 1",
          "Exp 2"
         ],
         "xaxis": "x",
         "y": [
          30,
          33.33333333333333
         ],
         "yaxis": "y"
        },
        {
         "hoverinfo": "text",
         "hovertext": [
          "Pass: 70.0%",
          "Pass: 66.7%"
         ],
         "marker": {
          "color": "#1a1dc9"
         },
         "name": "Pass",
         "showlegend": false,
         "type": "bar",
         "width": 0.5,
         "x": [
          "Exp 1",
          "Exp 2"
         ],
         "xaxis": "x",
         "y": [
          70,
          66.66666666666666
         ],
         "yaxis": "y"
        }
       ],
       "layout": {
        "annotations": [
         {
          "font": {
           "size": 16
          },
          "showarrow": false,
          "text": "Score Comparison",
          "x": 0.5,
          "xanchor": "center",
          "xref": "paper",
          "y": 1,
          "yanchor": "bottom",
          "yref": "paper"
         }
        ],
        "barmode": "stack",
        "height": 400,
        "hovermode": "closest",
        "margin": {
         "b": 50,
         "l": 50,
         "r": 50,
         "t": 80
        },
        "plot_bgcolor": "white",
        "showlegend": false,
        "template": {
         "data": {
          "bar": [
           {
            "error_x": {
             "color": "#2a3f5f"
            },
            "error_y": {
             "color": "#2a3f5f"
            },
            "marker": {
             "line": {
              "color": "#E5ECF6",
              "width": 0.5
             },
             "pattern": {
              "fillmode": "overlay",
              "size": 10,
              "solidity": 0.2
             }
            },
            "type": "bar"
           }
          ],
          "barpolar": [
           {
            "marker": {
             "line": {
              "color": "#E5ECF6",
              "width": 0.5
             },
             "pattern": {
              "fillmode": "overlay",
              "size": 10,
              "solidity": 0.2
             }
            },
            "type": "barpolar"
           }
          ],
          "carpet": [
           {
            "aaxis": {
             "endlinecolor": "#2a3f5f",
             "gridcolor": "white",
             "linecolor": "white",
             "minorgridcolor": "white",
             "startlinecolor": "#2a3f5f"
            },
            "baxis": {
             "endlinecolor": "#2a3f5f",
             "gridcolor": "white",
             "linecolor": "white",
             "minorgridcolor": "white",
             "startlinecolor": "#2a3f5f"
            },
            "type": "carpet"
           }
          ],
          "choropleth": [
           {
            "colorbar": {
             "outlinewidth": 0,
             "ticks": ""
            },
            "type": "choropleth"
           }
          ],
          "contour": [
           {
            "colorbar": {
             "outlinewidth": 0,
             "ticks": ""
            },
            "colorscale": [
             [
              0,
              "#0d0887"
             ],
             [
              0.1111111111111111,
              "#46039f"
             ],
             [
              0.2222222222222222,
              "#7201a8"
             ],
             [
              0.3333333333333333,
              "#9c179e"
             ],
             [
              0.4444444444444444,
              "#bd3786"
             ],
             [
              0.5555555555555556,
              "#d8576b"
             ],
             [
              0.6666666666666666,
              "#ed7953"
             ],
             [
              0.7777777777777778,
              "#fb9f3a"
             ],
             [
              0.8888888888888888,
              "#fdca26"
             ],
             [
              1,
              "#f0f921"
             ]
            ],
            "type": "contour"
           }
          ],
          "contourcarpet": [
           {
            "colorbar": {
             "outlinewidth": 0,
             "ticks": ""
            },
            "type": "contourcarpet"
           }
          ],
          "heatmap": [
           {
            "colorbar": {
             "outlinewidth": 0,
             "ticks": ""
            },
            "colorscale": [
             [
              0,
              "#0d0887"
             ],
             [
              0.1111111111111111,
              "#46039f"
             ],
             [
              0.2222222222222222,
              "#7201a8"
             ],
             [
              0.3333333333333333,
              "#9c179e"
             ],
             [
              0.4444444444444444,
              "#bd3786"
             ],
             [
              0.5555555555555556,
              "#d8576b"
             ],
             [
              0.6666666666666666,
              "#ed7953"
             ],
             [
              0.7777777777777778,
              "#fb9f3a"
             ],
             [
              0.8888888888888888,
              "#fdca26"
             ],
             [
              1,
              "#f0f921"
             ]
            ],
            "type": "heatmap"
           }
          ],
          "histogram": [
           {
            "marker": {
             "pattern": {
              "fillmode": "overlay",
              "size": 10,
              "solidity": 0.2
             }
            },
            "type": "histogram"
           }
          ],
          "histogram2d": [
           {
            "colorbar": {
             "outlinewidth": 0,
             "ticks": ""
            },
            "colorscale": [
             [
              0,
              "#0d0887"
             ],
             [
              0.1111111111111111,
              "#46039f"
             ],
             [
              0.2222222222222222,
              "#7201a8"
             ],
             [
              0.3333333333333333,
              "#9c179e"
             ],
             [
              0.4444444444444444,
              "#bd3786"
             ],
             [
              0.5555555555555556,
              "#d8576b"
             ],
             [
              0.6666666666666666,
              "#ed7953"
             ],
             [
              0.7777777777777778,
              "#fb9f3a"
             ],
             [
              0.8888888888888888,
              "#fdca26"
             ],
             [
              1,
              "#f0f921"
             ]
            ],
            "type": "histogram2d"
           }
          ],
          "histogram2dcontour": [
           {
            "colorbar": {
             "outlinewidth": 0,
             "ticks": ""
            },
            "colorscale": [
             [
              0,
              "#0d0887"
             ],
             [
              0.1111111111111111,
              "#46039f"
             ],
             [
              0.2222222222222222,
              "#7201a8"
             ],
             [
              0.3333333333333333,
              "#9c179e"
             ],
             [
              0.4444444444444444,
              "#bd3786"
             ],
             [
              0.5555555555555556,
              "#d8576b"
             ],
             [
              0.6666666666666666,
              "#ed7953"
             ],
             [
              0.7777777777777778,
              "#fb9f3a"
             ],
             [
              0.8888888888888888,
              "#fdca26"
             ],
             [
              1,
              "#f0f921"
             ]
            ],
            "type": "histogram2dcontour"
           }
          ],
          "mesh3d": [
           {
            "colorbar": {
             "outlinewidth": 0,
             "ticks": ""
            },
            "type": "mesh3d"
           }
          ],
          "parcoords": [
           {
            "line": {
             "colorbar": {
              "outlinewidth": 0,
              "ticks": ""
             }
            },
            "type": "parcoords"
           }
          ],
          "pie": [
           {
            "automargin": true,
            "type": "pie"
           }
          ],
          "scatter": [
           {
            "fillpattern": {
             "fillmode": "overlay",
             "size": 10,
             "solidity": 0.2
            },
            "type": "scatter"
           }
          ],
          "scatter3d": [
           {
            "line": {
             "colorbar": {
              "outlinewidth": 0,
              "ticks": ""
             }
            },
            "marker": {
             "colorbar": {
              "outlinewidth": 0,
              "ticks": ""
             }
            },
            "type": "scatter3d"
           }
          ],
          "scattercarpet": [
           {
            "marker": {
             "colorbar": {
              "outlinewidth": 0,
              "ticks": ""
             }
            },
            "type": "scattercarpet"
           }
          ],
          "scattergeo": [
           {
            "marker": {
             "colorbar": {
              "outlinewidth": 0,
              "ticks": ""
             }
            },
            "type": "scattergeo"
           }
          ],
          "scattergl": [
           {
            "marker": {
             "colorbar": {
              "outlinewidth": 0,
              "ticks": ""
             }
            },
            "type": "scattergl"
           }
          ],
          "scattermap": [
           {
            "marker": {
             "colorbar": {
              "outlinewidth": 0,
              "ticks": ""
             }
            },
            "type": "scattermap"
           }
          ],
          "scattermapbox": [
           {
            "marker": {
             "colorbar": {
              "outlinewidth": 0,
              "ticks": ""
             }
            },
            "type": "scattermapbox"
           }
          ],
          "scatterpolar": [
           {
            "marker": {
             "colorbar": {
              "outlinewidth": 0,
              "ticks": ""
             }
            },
            "type": "scatterpolar"
           }
          ],
          "scatterpolargl": [
           {
            "marker": {
             "colorbar": {
              "outlinewidth": 0,
              "ticks": ""
             }
            },
            "type": "scatterpolargl"
           }
          ],
          "scatterternary": [
           {
            "marker": {
             "colorbar": {
              "outlinewidth": 0,
              "ticks": ""
             }
            },
            "type": "scatterternary"
           }
          ],
          "surface": [
           {
            "colorbar": {
             "outlinewidth": 0,
             "ticks": ""
            },
            "colorscale": [
             [
              0,
              "#0d0887"
             ],
             [
              0.1111111111111111,
              "#46039f"
             ],
             [
              0.2222222222222222,
              "#7201a8"
             ],
             [
              0.3333333333333333,
              "#9c179e"
             ],
             [
              0.4444444444444444,
              "#bd3786"
             ],
             [
              0.5555555555555556,
              "#d8576b"
             ],
             [
              0.6666666666666666,
              "#ed7953"
             ],
             [
              0.7777777777777778,
              "#fb9f3a"
             ],
             [
              0.8888888888888888,
              "#fdca26"
             ],
             [
              1,
              "#f0f921"
             ]
            ],
            "type": "surface"
           }
          ],
          "table": [
           {
            "cells": {
             "fill": {
              "color": "#EBF0F8"
             },
             "line": {
              "color": "white"
             }
            },
            "header": {
             "fill": {
              "color": "#C8D4E3"
             },
             "line": {
              "color": "white"
             }
            },
            "type": "table"
           }
          ]
         },
         "layout": {
          "annotationdefaults": {
           "arrowcolor": "#2a3f5f",
           "arrowhead": 0,
           "arrowwidth": 1
          },
          "autotypenumbers": "strict",
          "coloraxis": {
           "colorbar": {
            "outlinewidth": 0,
            "ticks": ""
           }
          },
          "colorscale": {
           "diverging": [
            [
             0,
             "#8e0152"
            ],
            [
             0.1,
             "#c51b7d"
            ],
            [
             0.2,
             "#de77ae"
            ],
            [
             0.3,
             "#f1b6da"
            ],
            [
             0.4,
             "#fde0ef"
            ],
            [
             0.5,
             "#f7f7f7"
            ],
            [
             0.6,
             "#e6f5d0"
            ],
            [
             0.7,
             "#b8e186"
            ],
            [
             0.8,
             "#7fbc41"
            ],
            [
             0.9,
             "#4d9221"
            ],
            [
             1,
             "#276419"
            ]
           ],
           "sequential": [
            [
             0,
             "#0d0887"
            ],
            [
             0.1111111111111111,
             "#46039f"
            ],
            [
             0.2222222222222222,
             "#7201a8"
            ],
            [
             0.3333333333333333,
             "#9c179e"
            ],
            [
             0.4444444444444444,
             "#bd3786"
            ],
            [
             0.5555555555555556,
             "#d8576b"
            ],
            [
             0.6666666666666666,
             "#ed7953"
            ],
            [
             0.7777777777777778,
             "#fb9f3a"
            ],
            [
             0.8888888888888888,
             "#fdca26"
            ],
            [
             1,
             "#f0f921"
            ]
           ],
           "sequentialminus": [
            [
             0,
             "#0d0887"
            ],
            [
             0.1111111111111111,
             "#46039f"
            ],
            [
             0.2222222222222222,
             "#7201a8"
            ],
            [
             0.3333333333333333,
             "#9c179e"
            ],
            [
             0.4444444444444444,
             "#bd3786"
            ],
            [
             0.5555555555555556,
             "#d8576b"
            ],
            [
             0.6666666666666666,
             "#ed7953"
            ],
            [
             0.7777777777777778,
             "#fb9f3a"
            ],
            [
             0.8888888888888888,
             "#fdca26"
            ],
            [
             1,
             "#f0f921"
            ]
           ]
          },
          "colorway": [
           "#636efa",
           "#EF553B",
           "#00cc96",
           "#ab63fa",
           "#FFA15A",
           "#19d3f3",
           "#FF6692",
           "#B6E880",
           "#FF97FF",
           "#FECB52"
          ],
          "font": {
           "color": "#2a3f5f"
          },
          "geo": {
           "bgcolor": "white",
           "lakecolor": "white",
           "landcolor": "#E5ECF6",
           "showlakes": true,
           "showland": true,
           "subunitcolor": "white"
          },
          "hoverlabel": {
           "align": "left"
          },
          "hovermode": "closest",
          "mapbox": {
           "style": "light"
          },
          "paper_bgcolor": "white",
          "plot_bgcolor": "#E5ECF6",
          "polar": {
           "angularaxis": {
            "gridcolor": "white",
            "linecolor": "white",
            "ticks": ""
           },
           "bgcolor": "#E5ECF6",
           "radialaxis": {
            "gridcolor": "white",
            "linecolor": "white",
            "ticks": ""
           }
          },
          "scene": {
           "xaxis": {
            "backgroundcolor": "#E5ECF6",
            "gridcolor": "white",
            "gridwidth": 2,
            "linecolor": "white",
            "showbackground": true,
            "ticks": "",
            "zerolinecolor": "white"
           },
           "yaxis": {
            "backgroundcolor": "#E5ECF6",
            "gridcolor": "white",
            "gridwidth": 2,
            "linecolor": "white",
            "showbackground": true,
            "ticks": "",
            "zerolinecolor": "white"
           },
           "zaxis": {
            "backgroundcolor": "#E5ECF6",
            "gridcolor": "white",
            "gridwidth": 2,
            "linecolor": "white",
            "showbackground": true,
            "ticks": "",
            "zerolinecolor": "white"
           }
          },
          "shapedefaults": {
           "line": {
            "color": "#2a3f5f"
           }
          },
          "ternary": {
           "aaxis": {
            "gridcolor": "white",
            "linecolor": "white",
            "ticks": ""
           },
           "baxis": {
            "gridcolor": "white",
            "linecolor": "white",
            "ticks": ""
           },
           "bgcolor": "#E5ECF6",
           "caxis": {
            "gridcolor": "white",
            "linecolor": "white",
            "ticks": ""
           }
          },
          "title": {
           "x": 0.05
          },
          "xaxis": {
           "automargin": true,
           "gridcolor": "white",
           "linecolor": "white",
           "ticks": "",
           "title": {
            "standoff": 15
           },
           "zerolinecolor": "white",
           "zerolinewidth": 2
          },
          "yaxis": {
           "automargin": true,
           "gridcolor": "white",
           "linecolor": "white",
           "ticks": "",
           "title": {
            "standoff": 15
           },
           "zerolinecolor": "white",
           "zerolinewidth": 2
          }
         }
        },
        "title": {
         "text": "Experiment Comparison by Metrics"
        },
        "width": 400,
        "xaxis": {
         "anchor": "y",
         "domain": [
          0,
          1
         ],
         "linecolor": "black",
         "linewidth": 1,
         "showgrid": false,
         "showline": true,
         "tickangle": 0,
         "title": {
          "text": "Experiments"
         }
        },
        "yaxis": {
         "anchor": "x",
         "domain": [
          0,
          1
         ],
         "gridcolor": "lightgray",
         "linecolor": "black",
         "linewidth": 1,
         "range": [
          0,
          105
         ],
         "showgrid": true,
         "showline": true,
         "ticksuffix": "%",
         "title": {
          "text": "Percentage (%)"
         }
        }
       }
      }
     },
     "metadata": {},
     "output_type": "display_data"
    }
   ],
   "source": [
    "p.compare_and_plot(\n",
    "    experiment_ids=[\"21e2eae0-d21f-465a-adf8-b8026db33d54\",\"6dcf6d24-6982-4098-b430-5976bd8da237\"],\n",
    "    model=ExperimentModel,\n",
    "    metric_names=[\"score\"]\n",
    ")"
   ]
  },
  {
   "cell_type": "code",
   "execution_count": null,
   "metadata": {},
   "outputs": [],
   "source": []
  }
 ],
 "metadata": {
  "kernelspec": {
   "display_name": "python3",
   "language": "python",
   "name": "python3"
  }
 },
 "nbformat": 4,
 "nbformat_minor": 2
}
