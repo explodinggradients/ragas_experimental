{
 "cells": [
  {
   "cell_type": "markdown",
   "metadata": {},
   "source": [
    "# Experiments\n",
    "\n",
    "> How to run experiments"
   ]
  },
  {
   "cell_type": "code",
   "execution_count": null,
   "metadata": {},
   "outputs": [],
   "source": [
    "# | default_exp project.experiments"
   ]
  },
  {
   "cell_type": "code",
   "execution_count": null,
   "metadata": {},
   "outputs": [],
   "source": [
    "# | export\n",
    "from tqdm import tqdm\n",
    "from functools import wraps\n",
    "import asyncio\n",
    "from tqdm import tqdm\n",
    "\n",
    "import typing as t\n",
    "\n",
    "from fastcore.utils import patch\n",
    "\n",
    "from ragas_experimental.project.core import Project\n",
    "from ragas_experimental.model.pydantic_model import ExtendedPydanticBaseModel as BaseModel\n",
    "from ragas_experimental.utils import async_to_sync, create_nano_id\n",
    "from ragas_experimental.dataset import Dataset, BaseModelType\n",
    "from ragas_experimental.experiment import Experiment\n",
    "import ragas_experimental.typing as rt"
   ]
  },
  {
   "cell_type": "markdown",
   "metadata": {},
   "source": [
    "## Basics"
   ]
  },
  {
   "cell_type": "code",
   "execution_count": null,
   "metadata": {},
   "outputs": [],
   "source": [
    "#| export\n",
    "# Add this helper function similar to create_dataset_columns in core.ipynb\n",
    "async def create_experiment_columns(project_id, experiment_id, columns, create_experiment_column_func):\n",
    "    tasks = []\n",
    "    for column in columns:\n",
    "        tasks.append(create_experiment_column_func(\n",
    "            project_id=project_id,\n",
    "            experiment_id=experiment_id,\n",
    "            id=create_nano_id(),\n",
    "            name=column[\"name\"],\n",
    "            type=column[\"type\"],\n",
    "            settings=column[\"settings\"]\n",
    "        ))\n",
    "    return await asyncio.gather(*tasks)"
   ]
  },
  {
   "cell_type": "code",
   "execution_count": null,
   "metadata": {},
   "outputs": [],
   "source": [
    "# | export\n",
    "@patch\n",
    "def create_experiment(\n",
    "    self: Project, name: str, model: t.Type[BaseModel]\n",
    ") -> Experiment:\n",
    "    \"\"\"Create a new experiment.\n",
    "\n",
    "    Args:\n",
    "        name: Name of the experiment\n",
    "        model: Model class defining the experiment structure\n",
    "\n",
    "    Returns:\n",
    "        Experiment: An experiment object for managing results\n",
    "    \"\"\"\n",
    "    # Create the experiment\n",
    "    sync_version = async_to_sync(self._ragas_api_client.create_experiment)\n",
    "    experiment_info = sync_version(\n",
    "        project_id=self.project_id,\n",
    "        name=name,\n",
    "    )\n",
    "\n",
    "    # Create the columns for the experiment\n",
    "    column_types = rt.ModelConverter.model_to_columns(model)\n",
    "    sync_version = async_to_sync(create_experiment_columns)\n",
    "    sync_version(\n",
    "        project_id=self.project_id,\n",
    "        experiment_id=experiment_info[\"id\"],\n",
    "        columns=column_types,\n",
    "        create_experiment_column_func=self._ragas_api_client.create_experiment_column,\n",
    "    )\n",
    "    \n",
    "    # Return a new Experiment instance\n",
    "    return Experiment(\n",
    "        name=name,\n",
    "        model=model,\n",
    "        project_id=self.project_id,\n",
    "        experiment_id=experiment_info[\"id\"],\n",
    "        ragas_api_client=self._ragas_api_client,\n",
    "    )\n"
   ]
  },
  {
   "cell_type": "code",
   "execution_count": null,
   "metadata": {},
   "outputs": [],
   "source": [
    "import os"
   ]
  },
  {
   "cell_type": "code",
   "execution_count": null,
   "metadata": {},
   "outputs": [
    {
     "data": {
      "text/plain": [
       "Project(name='yann-lecun-wisdom')"
      ]
     },
     "execution_count": null,
     "metadata": {},
     "output_type": "execute_result"
    }
   ],
   "source": [
    "RAGAS_APP_TOKEN = \"apt.4e81-99ed3e6efdfe-bb9c-88e3-f88438f5-5dfef\"\n",
    "RAGAS_API_BASE_URL = \"https://api.dev.app.ragas.io\"\n",
    "\n",
    "os.environ[\"RAGAS_APP_TOKEN\"] = RAGAS_APP_TOKEN\n",
    "os.environ[\"RAGAS_API_BASE_URL\"] = RAGAS_API_BASE_URL\n",
    "\n",
    "PROJECT_ID = \"919a4d42-aaf2-45cd-badd-152249788bfa\"\n",
    "p = Project(project_id=PROJECT_ID)\n",
    "p"
   ]
  },
  {
   "cell_type": "code",
   "execution_count": null,
   "metadata": {},
   "outputs": [],
   "source": [
    "class TestModel(BaseModel):\n",
    "    name: str\n",
    "    description: str\n",
    "    price: float\n",
    "    url: t.Annotated[str, rt.Url()] = \"https://www.google.com\"\n",
    "    tags: t.Annotated[t.Literal[\"test\", \"test2\"], rt.Select(colors=[\"red\", \"blue\"])] = \"test\"\n"
   ]
  },
  {
   "cell_type": "code",
   "execution_count": null,
   "metadata": {},
   "outputs": [
    {
     "data": {
      "text/plain": [
       "Experiment(name=test-exp, model=TestModel)"
      ]
     },
     "execution_count": null,
     "metadata": {},
     "output_type": "execute_result"
    }
   ],
   "source": [
    "experiment_id = \"5d7752ab-17bf-46bc-a302-afe04ce1a763\"\n",
    "exp = p.create_experiment(name=\"test-exp\", model=TestModel)\n",
    "#exp = p.create_dataset(name=\"just name and desc 2\", model=TestModel)\n",
    "\n",
    "exp"
   ]
  },
  {
   "cell_type": "code",
   "execution_count": null,
   "metadata": {},
   "outputs": [],
   "source": [
    "# | export\n",
    "@patch\n",
    "def get_experiment_by_id(self: Project, experiment_id: str, model: t.Type[BaseModel]) -> Experiment:\n",
    "    \"\"\"Get an existing experiment by ID.\"\"\"\n",
    "    # Get experiment info\n",
    "    sync_version = async_to_sync(self._ragas_api_client.get_experiment)\n",
    "    experiment_info = sync_version(\n",
    "        project_id=self.project_id,\n",
    "        experiment_id=experiment_id\n",
    "    )\n",
    "\n",
    "    return Experiment(\n",
    "        name=experiment_info[\"name\"],\n",
    "        model=model,\n",
    "        project_id=self.project_id,\n",
    "        experiment_id=experiment_id,\n",
    "        ragas_api_client=self._ragas_api_client,\n",
    "    )"
   ]
  },
  {
   "cell_type": "code",
   "execution_count": null,
   "metadata": {},
   "outputs": [
    {
     "data": {
      "text/plain": [
       "'effe0e10-916d-4530-b974-91d5115f5dc2'"
      ]
     },
     "execution_count": null,
     "metadata": {},
     "output_type": "execute_result"
    }
   ],
   "source": [
    "exp.experiment_id"
   ]
  },
  {
   "cell_type": "code",
   "execution_count": null,
   "metadata": {},
   "outputs": [
    {
     "data": {
      "text/plain": [
       "Experiment(name=test-exp, model=TestModel)"
      ]
     },
     "execution_count": null,
     "metadata": {},
     "output_type": "execute_result"
    }
   ],
   "source": [
    "p.get_experiment_by_id(exp.experiment_id, TestModel)"
   ]
  },
  {
   "cell_type": "code",
   "execution_count": null,
   "metadata": {},
   "outputs": [],
   "source": [
    "# | export\n",
    "@patch\n",
    "def get_experiment(self: Project, experiment_name: str, model) -> Dataset:\n",
    "    \"\"\"Get an existing dataset by name.\"\"\"\n",
    "    # Search for dataset with given name\n",
    "    sync_version = async_to_sync(self._ragas_api_client.get_experiment_by_name)\n",
    "    exp_info = sync_version(\n",
    "        project_id=self.project_id,\n",
    "        experiment_name=experiment_name\n",
    "    )\n",
    "\n",
    "    # Return Dataset instance\n",
    "    return Experiment(\n",
    "        name=exp_info[\"name\"],\n",
    "        model=model,\n",
    "        project_id=self.project_id,\n",
    "        experiment_id=exp_info[\"id\"],\n",
    "        ragas_api_client=self._ragas_api_client,\n",
    "    )"
   ]
  },
  {
   "cell_type": "code",
   "execution_count": null,
   "metadata": {},
   "outputs": [
    {
     "data": {
      "text/plain": [
       "Experiment(name=test-exp, model=TestModel)"
      ]
     },
     "execution_count": null,
     "metadata": {},
     "output_type": "execute_result"
    }
   ],
   "source": [
    "p.get_experiment(\"test-exp\", TestModel)"
   ]
  },
  {
   "cell_type": "markdown",
   "metadata": {},
   "source": [
    "## Git Versioning for Experiments"
   ]
  },
  {
   "cell_type": "code",
   "execution_count": null,
   "metadata": {},
   "outputs": [],
   "source": [
    "# | export\n",
    "import git\n",
    "from pathlib import Path"
   ]
  },
  {
   "cell_type": "code",
   "execution_count": null,
   "metadata": {},
   "outputs": [],
   "source": [
    "# | export\n",
    "def find_git_root(\n",
    "        start_path: t.Union[str, Path, None] = None # starting path to search from\n",
    "    ) -> Path:\n",
    "    \"\"\"Find the root directory of a git repository by traversing up from the start path.\"\"\"\n",
    "    # Start from the current directory if no path is provided\n",
    "    if start_path is None:\n",
    "        start_path = Path.cwd()\n",
    "    else:\n",
    "        start_path = Path(start_path).resolve()\n",
    "    \n",
    "    # Check if the current directory is a git repository\n",
    "    current_path = start_path\n",
    "    while current_path != current_path.parent:  # Stop at filesystem root\n",
    "        if (current_path / '.git').exists() and (current_path / '.git').is_dir():\n",
    "            return current_path\n",
    "        \n",
    "        # Move up to the parent directory\n",
    "        current_path = current_path.parent\n",
    "    \n",
    "    # Final check for the root directory\n",
    "    if (current_path / '.git').exists() and (current_path / '.git').is_dir():\n",
    "        return current_path\n",
    "    \n",
    "    # No git repository found\n",
    "    raise ValueError(f\"No git repository found in or above {start_path}\")"
   ]
  },
  {
   "cell_type": "code",
   "execution_count": null,
   "metadata": {},
   "outputs": [
    {
     "data": {
      "text/plain": [
       "Path('/Users/jjmachan/workspace/eglabs/ragas_annotator')"
      ]
     },
     "execution_count": null,
     "metadata": {},
     "output_type": "execute_result"
    }
   ],
   "source": [
    "find_git_root()"
   ]
  },
  {
   "cell_type": "code",
   "execution_count": null,
   "metadata": {},
   "outputs": [
    {
     "data": {
      "text/plain": [
       "<git.repo.base.Repo '/Users/jjmachan/workspace/eglabs/ragas_annotator/.git'>"
      ]
     },
     "execution_count": null,
     "metadata": {},
     "output_type": "execute_result"
    }
   ],
   "source": [
    "git.Repo(find_git_root())"
   ]
  },
  {
   "cell_type": "code",
   "execution_count": null,
   "metadata": {},
   "outputs": [],
   "source": [
    "# | export\n",
    "\n",
    "def version_experiment(\n",
    "    experiment_name: str,\n",
    "    commit_message: t.Optional[str] = None,\n",
    "    repo_path: t.Union[str, Path, None] = None,\n",
    "    create_branch: bool = True,\n",
    "    stage_all: bool = False,\n",
    ") -> str:\n",
    "    \"Version control the current state of the codebase for an experiment.\"\n",
    "    # Default to current directory if no repo path is provided\n",
    "    if repo_path is None:\n",
    "        repo_path = find_git_root()\n",
    "    \n",
    "    # Initialize git repo object\n",
    "    repo = git.Repo(repo_path)\n",
    "\n",
    "    # check if there are any changes to the repo\n",
    "    has_changes = False\n",
    "    if stage_all and repo.is_dirty(untracked_files=True):\n",
    "        print(\"Staging all changes\")\n",
    "        repo.git.add('.')\n",
    "        has_changes = True\n",
    "    elif repo.is_dirty(untracked_files=False):\n",
    "        print(\"Staging changes to tracked files\")\n",
    "        repo.git.add('-u')\n",
    "        has_changes = True\n",
    "    \n",
    "    # Check if there are uncommitted changes\n",
    "    if has_changes:\n",
    "        # Default commit message if none provided\n",
    "        if commit_message is None:\n",
    "            commit_message = f\"Experiment: {experiment_name}\"\n",
    "        \n",
    "        # Commit changes\n",
    "        commit = repo.index.commit(commit_message)\n",
    "        commit_hash = commit.hexsha\n",
    "        print(f\"Changes committed with hash: {commit_hash[:8]}\")\n",
    "    else:\n",
    "        # No changes to commit, use current HEAD\n",
    "        commit_hash = repo.head.commit.hexsha\n",
    "        print(\"No changes detected, nothing to commit\")\n",
    "    \n",
    "    # Format the branch/tag name\n",
    "    version_name = f\"ragas/{experiment_name}\"\n",
    "    \n",
    "    # Create branch if requested\n",
    "    if create_branch:\n",
    "        branch = repo.create_head(version_name, commit_hash)\n",
    "        print(f\"Created branch: {version_name}\")\n",
    "    \n",
    "    return commit_hash"
   ]
  },
  {
   "cell_type": "code",
   "execution_count": null,
   "metadata": {},
   "outputs": [
    {
     "name": "stdout",
     "output_type": "stream",
     "text": [
      "\u001b[31mSignature:\u001b[39m\n",
      "show_doc(\n",
      "    sym,\n",
      "    renderer=\u001b[38;5;28;01mNone\u001b[39;00m,\n",
      "    name: \u001b[33m'str | None'\u001b[39m = \u001b[38;5;28;01mNone\u001b[39;00m,\n",
      "    title_level: \u001b[33m'int'\u001b[39m = \u001b[32m3\u001b[39m,\n",
      ")\n",
      "\u001b[31mDocstring:\u001b[39m Show signature and docstring for `sym`\n",
      "\u001b[31mFile:\u001b[39m      ~/workspace/eglabs/ragas_annotator/.venv/lib/python3.12/site-packages/nbdev/showdoc.py\n",
      "\u001b[31mType:\u001b[39m      function"
     ]
    }
   ],
   "source": [
    "show_doc?"
   ]
  },
  {
   "cell_type": "code",
   "execution_count": null,
   "metadata": {},
   "outputs": [],
   "source": [
    "# | export\n",
    "def cleanup_experiment_branches(\n",
    "    prefix: str = \"ragas/\", \n",
    "    repo_path: t.Union[str, Path, None] = None,\n",
    "    interactive: bool = True,\n",
    "    dry_run: bool = False\n",
    ") -> t.List[str]:\n",
    "    \"\"\"Clean up git branches with the specified prefix.\"\"\"\n",
    "    # Find the git repository root if not provided\n",
    "    if repo_path is None:\n",
    "        try:\n",
    "            repo_path = find_git_root()\n",
    "        except ValueError as e:\n",
    "            raise ValueError(f\"Cannot cleanup branches: {str(e)}\")\n",
    "    \n",
    "    # Initialize git repo object\n",
    "    repo = git.Repo(repo_path)\n",
    "    current_branch = repo.active_branch.name\n",
    "    \n",
    "    # Get all branches matching the prefix\n",
    "    matching_branches = []\n",
    "    for branch in repo.branches:\n",
    "        if branch.name.startswith(prefix):\n",
    "            matching_branches.append(branch.name)\n",
    "    \n",
    "    if not matching_branches:\n",
    "        print(f\"No branches found with prefix '{prefix}'\")\n",
    "        return []\n",
    "    \n",
    "    # Remove current branch from the list if present\n",
    "    if current_branch in matching_branches:\n",
    "        print(f\"Note: Current branch '{current_branch}' will be excluded from deletion\")\n",
    "        matching_branches.remove(current_branch)\n",
    "        \n",
    "    if not matching_branches:\n",
    "        print(\"No branches available for deletion after excluding current branch\")\n",
    "        return []\n",
    "    \n",
    "    # Show branches to the user\n",
    "    print(f\"Found {len(matching_branches)} branches with prefix '{prefix}':\")\n",
    "    for branch_name in matching_branches:\n",
    "        print(f\"- {branch_name}\")\n",
    "    \n",
    "    # Handle confirmation in interactive mode\n",
    "    proceed = True\n",
    "    if interactive and not dry_run:\n",
    "        confirm = input(f\"\\nDelete these {len(matching_branches)} branches? (y/n): \").strip().lower()\n",
    "        proceed = (confirm == 'y')\n",
    "    \n",
    "    if not proceed:\n",
    "        print(\"Operation cancelled\")\n",
    "        return []\n",
    "    \n",
    "    # Perform deletion\n",
    "    deleted_branches = []\n",
    "    for branch_name in matching_branches:\n",
    "        if dry_run:\n",
    "            print(f\"Would delete branch: {branch_name}\")\n",
    "            deleted_branches.append(branch_name)\n",
    "        else:\n",
    "            try:\n",
    "                # Delete the branch\n",
    "                repo.git.branch('-D', branch_name)\n",
    "                print(f\"Deleted branch: {branch_name}\")\n",
    "                deleted_branches.append(branch_name)\n",
    "            except git.GitCommandError as e:\n",
    "                print(f\"Error deleting branch '{branch_name}': {str(e)}\")\n",
    "    \n",
    "    if dry_run:\n",
    "        print(f\"\\nDry run complete. {len(deleted_branches)} branches would be deleted.\")\n",
    "    else:\n",
    "        print(f\"\\nCleanup complete. {len(deleted_branches)} branches deleted.\")\n",
    "    \n",
    "    return deleted_branches"
   ]
  },
  {
   "cell_type": "code",
   "execution_count": null,
   "metadata": {},
   "outputs": [
    {
     "name": "stdout",
     "output_type": "stream",
     "text": [
      "No branches found with prefix 'ragas/'\n"
     ]
    },
    {
     "data": {
      "text/plain": [
       "[]"
      ]
     },
     "execution_count": null,
     "metadata": {},
     "output_type": "execute_result"
    }
   ],
   "source": [
    "cleanup_experiment_branches(dry_run=True)"
   ]
  },
  {
   "cell_type": "markdown",
   "metadata": {},
   "source": [
    "## Experiment Wrapper"
   ]
  },
  {
   "cell_type": "code",
   "execution_count": null,
   "metadata": {},
   "outputs": [],
   "source": [
    "# | export\n",
    "@t.runtime_checkable\n",
    "class ExperimentProtocol(t.Protocol):\n",
    "    async def __call__(self, *args, **kwargs): ...\n",
    "    async def run_async(self, name: str, dataset: Dataset): ..."
   ]
  },
  {
   "cell_type": "code",
   "execution_count": null,
   "metadata": {},
   "outputs": [],
   "source": [
    "# | export\n",
    "from ragas_experimental.project.naming import MemorableNames"
   ]
  },
  {
   "cell_type": "code",
   "execution_count": null,
   "metadata": {},
   "outputs": [],
   "source": [
    "# | export\n",
    "memorable_names = MemorableNames()"
   ]
  },
  {
   "cell_type": "code",
   "execution_count": null,
   "metadata": {},
   "outputs": [],
   "source": [
    "# | export\n",
    "@patch\n",
    "def experiment(\n",
    "    self: Project, experiment_model, name_prefix: str = \"\", save_to_git: bool = True, stage_all: bool = False\n",
    "):\n",
    "    \"\"\"Decorator for creating experiment functions without Langfuse integration.\n",
    "\n",
    "    Args:\n",
    "        experiment_model: The NotionModel type to use for experiment results\n",
    "        name_prefix: Optional prefix for experiment names\n",
    "\n",
    "    Returns:\n",
    "        Decorator function that wraps experiment functions\n",
    "    \"\"\"\n",
    "\n",
    "    def decorator(func: t.Callable) -> ExperimentProtocol:\n",
    "        @wraps(func)\n",
    "        async def wrapped_experiment(*args, **kwargs):\n",
    "            # Simply call the function without Langfuse observation\n",
    "            return await func(*args, **kwargs)\n",
    "\n",
    "        # Add run method to the wrapped function\n",
    "        async def run_async(dataset: Dataset, name: t.Optional[str] = None, save_to_git: bool = save_to_git, stage_all: bool = stage_all):\n",
    "            # if name is not provided, generate a memorable name\n",
    "            if name is None:\n",
    "                name = memorable_names.generate_unique_name()\n",
    "            if name_prefix:\n",
    "                name = f\"{name_prefix}-{name}\"\n",
    "\n",
    "            experiment_view = None\n",
    "            try:\n",
    "                # Create the experiment view upfront\n",
    "                experiment_view = self.create_experiment(name=name, model=experiment_model)\n",
    "                \n",
    "                # Create tasks for all items\n",
    "                tasks = []\n",
    "                for item in dataset:\n",
    "                    tasks.append(wrapped_experiment(item))\n",
    "\n",
    "                # Calculate total operations (processing + appending)\n",
    "                total_operations = len(tasks) * 2  # Each item requires processing and appending\n",
    "                \n",
    "                # Use tqdm for combined progress tracking\n",
    "                results = []\n",
    "                progress_bar = tqdm(total=total_operations, desc=\"Running experiment\")\n",
    "                \n",
    "                # Process all items\n",
    "                for future in asyncio.as_completed(tasks):\n",
    "                    result = await future\n",
    "                    if result is not None:\n",
    "                        results.append(result)\n",
    "                    progress_bar.update(1)  # Update for task completion\n",
    "                \n",
    "                # Append results to experiment view\n",
    "                for result in results:\n",
    "                    experiment_view.append(result)\n",
    "                    progress_bar.update(1)  # Update for append operation\n",
    "                    \n",
    "                progress_bar.close()\n",
    "                \n",
    "            except Exception as e:\n",
    "                # Clean up the experiment if there was an error and it was created\n",
    "                if experiment_view is not None:\n",
    "                    try:\n",
    "                        # Delete the experiment (you might need to implement this method)\n",
    "                        sync_version = async_to_sync(self._ragas_api_client.delete_experiment)\n",
    "                        sync_version(project_id=self.project_id, experiment_id=experiment_view.experiment_id)\n",
    "                    except Exception as cleanup_error:\n",
    "                        print(f\"Failed to clean up experiment after error: {cleanup_error}\")\n",
    "                \n",
    "                # Re-raise the original exception\n",
    "                raise e\n",
    "\n",
    "            # save to git if requested\n",
    "            if save_to_git:\n",
    "                repo_path = find_git_root()\n",
    "                version_experiment(experiment_name=name, repo_path=repo_path, stage_all=stage_all)\n",
    "\n",
    "            return experiment_view\n",
    "\n",
    "        wrapped_experiment.__setattr__(\"run_async\", run_async)\n",
    "        return t.cast(ExperimentProtocol, wrapped_experiment)\n",
    "\n",
    "    return decorator\n",
    "\n"
   ]
  },
  {
   "cell_type": "code",
   "execution_count": null,
   "metadata": {},
   "outputs": [],
   "source": [
    "# create experimental test dataset\n",
    "test_dataset = p.create_dataset(name=\"test dataset for experiment\", model=TestModel)\n",
    "test_dataset.append(TestModel(name=\"test item 1\", description=\"test item 1 description\", price=100))\n",
    "test_dataset.append(TestModel(name=\"test item 2\", description=\"test item 2 description\", price=200))\n",
    "test_dataset.append(TestModel(name=\"test item 3\", description=\"test item 3 description\", price=300))"
   ]
  },
  {
   "cell_type": "code",
   "execution_count": null,
   "metadata": {},
   "outputs": [],
   "source": [
    "# create experiment model\n",
    "class TextExperimentModel(TestModel):\n",
    "    response: str\n",
    "    is_correct: t.Literal[\"yes\", \"no\"]\n",
    "\n",
    "# create a test experiment function\n",
    "@p.experiment(TextExperimentModel, save_to_git=False, stage_all=True)\n",
    "async def test_experiment(item: TestModel):\n",
    "    return TextExperimentModel(**item.model_dump(), response=\"test response\", is_correct=\"yes\")\n"
   ]
  },
  {
   "cell_type": "code",
   "execution_count": null,
   "metadata": {},
   "outputs": [
    {
     "name": "stderr",
     "output_type": "stream",
     "text": [
      "Running experiment: 100%|██████████| 6/6 [00:01<00:00,  3.05it/s]\n"
     ]
    },
    {
     "data": {
      "text/plain": [
       "Experiment(name=xenodochial_dorsey, model=TextExperimentModel)"
      ]
     },
     "execution_count": null,
     "metadata": {},
     "output_type": "execute_result"
    }
   ],
   "source": [
    "# run the experiment\n",
    "await test_experiment.run_async(test_dataset)"
   ]
  },
  {
   "cell_type": "code",
   "execution_count": null,
   "metadata": {},
   "outputs": [],
   "source": [
    "# | export\n",
    "\n",
    "# this one we have to clean up\n",
    "from langfuse.decorators import observe"
   ]
  },
  {
   "cell_type": "code",
   "execution_count": null,
   "metadata": {},
   "outputs": [],
   "source": [
    "# | export\n",
    "@patch\n",
    "def langfuse_experiment(\n",
    "    self: Project, experiment_model, name_prefix: str = \"\"\n",
    "):\n",
    "    \"\"\"Decorator for creating experiment functions with Langfuse integration.\n",
    "\n",
    "    Args:\n",
    "        experiment_model: The NotionModel type to use for experiment results\n",
    "        name_prefix: Optional prefix for experiment names\n",
    "\n",
    "    Returns:\n",
    "        Decorator function that wraps experiment functions with Langfuse observation\n",
    "    \"\"\"\n",
    "\n",
    "    def decorator(func: t.Callable) -> ExperimentProtocol:\n",
    "        @wraps(func)\n",
    "        async def langfuse_wrapped_func(*args, **kwargs):\n",
    "            # Apply langfuse observation directly here\n",
    "            trace_name = f\"{name_prefix}-{func.__name__}\" if name_prefix else func.__name__\n",
    "            observed_func = observe(name=trace_name)(func)\n",
    "            return await observed_func(*args, **kwargs)\n",
    "        \n",
    "        # Now create the experiment wrapper with our already-observed function\n",
    "        experiment_wrapper = self.experiment(experiment_model, name_prefix)(langfuse_wrapped_func)\n",
    "        \n",
    "        return t.cast(ExperimentProtocol, experiment_wrapper)\n",
    "\n",
    "    return decorator"
   ]
  },
  {
   "cell_type": "code",
   "execution_count": null,
   "metadata": {},
   "outputs": [],
   "source": [
    "import os\n",
    "# import langfuse\n",
    "from langfuse import Langfuse"
   ]
  },
  {
   "cell_type": "code",
   "execution_count": null,
   "metadata": {},
   "outputs": [],
   "source": [
    "\n",
    "langfuse = Langfuse(\n",
    "  secret_key=os.getenv(\"LANGFUSE_SECRET_KEY\"),\n",
    "  public_key=os.getenv(\"LANGFUSE_PUBLIC_KEY\"),\n",
    "  host=\"https://us.cloud.langfuse.com\"\n",
    ")"
   ]
  },
  {
   "cell_type": "code",
   "execution_count": null,
   "metadata": {},
   "outputs": [],
   "source": [
    "@p.langfuse_experiment(TextExperimentModel)\n",
    "async def test_experiment(item: TestModel):\n",
    "    return TextExperimentModel(**item.model_dump(), response=\"test response\", is_correct=\"yes\")"
   ]
  },
  {
   "cell_type": "code",
   "execution_count": null,
   "metadata": {},
   "outputs": [
    {
     "data": {
      "text/plain": [
       "TextExperimentModel(name='test item 1', description='test item 1 description', price=100.0, url='https://www.google.com', tags='test', response='test response', is_correct='yes')"
      ]
     },
     "execution_count": null,
     "metadata": {},
     "output_type": "execute_result"
    }
   ],
   "source": [
    "await test_experiment(test_dataset[0])"
   ]
  },
  {
   "cell_type": "code",
   "execution_count": null,
   "metadata": {},
   "outputs": [
    {
     "name": "stderr",
     "output_type": "stream",
     "text": [
      "Running experiment: 100%|██████████| 6/6 [00:01<00:00,  4.01it/s]\n"
     ]
    },
    {
     "data": {
      "text/plain": [
       "Experiment(name=cool_matsumoto, model=TextExperimentModel)"
      ]
     },
     "execution_count": null,
     "metadata": {},
     "output_type": "execute_result"
    }
   ],
   "source": [
    "await test_experiment.run_async(test_dataset)"
   ]
  },
  {
   "cell_type": "markdown",
   "metadata": {},
   "source": [
    "## Compare and Plot"
   ]
  },
  {
   "cell_type": "code",
   "execution_count": null,
   "metadata": {},
   "outputs": [],
   "source": [
    "# | export\n",
    "\n",
    "import logging\n",
    "from ragas_experimental.utils import plot_experiments_as_subplots\n",
    "\n",
    "@patch\n",
    "def compare_and_plot(self: Project, experiment_names: t.List[str], model: t.Type[BaseModel], metric_names: t.List[str]):\n",
    "    \"\"\"Compare multiple experiments and generate a plot.\n",
    "\n",
    "    Args:\n",
    "        experiment_names: List of experiment IDs to compare\n",
    "        model: Model class defining the experiment structure\n",
    "    \"\"\"\n",
    "    results = {}\n",
    "    for experiment_name in tqdm(experiment_names, desc=\"Fetching experiments\"):\n",
    "        experiment = self.get_experiment(experiment_name, model)\n",
    "        experiment.load()\n",
    "        results[experiment_name] = {}\n",
    "        for row in experiment:\n",
    "            for metric in metric_names:\n",
    "                if metric not in results[experiment_name]:\n",
    "                    results[experiment_name][metric] = []\n",
    "                if hasattr(row, metric):\n",
    "                    results[experiment_name][metric].append(getattr(row, metric))\n",
    "                else:\n",
    "                    results[metric].append(None)\n",
    "                    logging.warning(f\"Metric {metric} not found in row: {row}\")\n",
    "                    \n",
    "    \n",
    "    \n",
    "    fig = plot_experiments_as_subplots(results,experiment_ids=experiment_names)\n",
    "    fig.show()\n",
    "        \n",
    "        \n",
    "        \n",
    "        \n",
    "    "
   ]
  },
  {
   "cell_type": "code",
   "execution_count": null,
   "metadata": {},
   "outputs": [],
   "source": [
    "from ragas_experimental import BaseModel\n",
    "\n",
    "class TestDataset(BaseModel):\n",
    "    question: str\n",
    "    citations: list[str]\n",
    "    grading_notes: str\n",
    "    \n",
    "\n",
    "class ExperimentModel(TestDataset):\n",
    "    response: str\n",
    "    score: str\n",
    "    score_reason: str\n"
   ]
  },
  {
   "cell_type": "code",
   "execution_count": null,
   "metadata": {},
   "outputs": [
    {
     "name": "stderr",
     "output_type": "stream",
     "text": [
      "Fetching experiments: 100%|██████████| 2/2 [00:06<00:00,  3.01s/it]\n"
     ]
    },
    {
     "data": {
      "application/vnd.plotly.v1+json": {
       "config": {
        "plotlyServerURL": "https://plot.ly"
       },
       "data": [
        {
         "hoverinfo": "text",
         "hovertext": [
          "Fail: 30.0%",
          "Fail: 33.3%"
         ],
         "marker": {
          "color": "#e11185"
         },
         "name": "Fail",
         "showlegend": false,
         "type": "bar",
         "width": 0.5,
         "x": [
          "Exp 1",
          "Exp 2"
         ],
         "xaxis": "x",
         "y": [
          30,
          33.33333333333333
         ],
         "yaxis": "y"
        },
        {
         "hoverinfo": "text",
         "hovertext": [
          "Pass: 70.0%",
          "Pass: 66.7%"
         ],
         "marker": {
          "color": "#1a1dc9"
         },
         "name": "Pass",
         "showlegend": false,
         "type": "bar",
         "width": 0.5,
         "x": [
          "Exp 1",
          "Exp 2"
         ],
         "xaxis": "x",
         "y": [
          70,
          66.66666666666666
         ],
         "yaxis": "y"
        }
       ],
       "layout": {
        "annotations": [
         {
          "font": {
           "size": 16
          },
          "showarrow": false,
          "text": "Score Comparison",
          "x": 0.5,
          "xanchor": "center",
          "xref": "paper",
          "y": 1,
          "yanchor": "bottom",
          "yref": "paper"
         }
        ],
        "barmode": "stack",
        "height": 400,
        "hovermode": "closest",
        "margin": {
         "b": 50,
         "l": 50,
         "r": 50,
         "t": 80
        },
        "plot_bgcolor": "white",
        "showlegend": false,
        "template": {
         "data": {
          "bar": [
           {
            "error_x": {
             "color": "#2a3f5f"
            },
            "error_y": {
             "color": "#2a3f5f"
            },
            "marker": {
             "line": {
              "color": "#E5ECF6",
              "width": 0.5
             },
             "pattern": {
              "fillmode": "overlay",
              "size": 10,
              "solidity": 0.2
             }
            },
            "type": "bar"
           }
          ],
          "barpolar": [
           {
            "marker": {
             "line": {
              "color": "#E5ECF6",
              "width": 0.5
             },
             "pattern": {
              "fillmode": "overlay",
              "size": 10,
              "solidity": 0.2
             }
            },
            "type": "barpolar"
           }
          ],
          "carpet": [
           {
            "aaxis": {
             "endlinecolor": "#2a3f5f",
             "gridcolor": "white",
             "linecolor": "white",
             "minorgridcolor": "white",
             "startlinecolor": "#2a3f5f"
            },
            "baxis": {
             "endlinecolor": "#2a3f5f",
             "gridcolor": "white",
             "linecolor": "white",
             "minorgridcolor": "white",
             "startlinecolor": "#2a3f5f"
            },
            "type": "carpet"
           }
          ],
          "choropleth": [
           {
            "colorbar": {
             "outlinewidth": 0,
             "ticks": ""
            },
            "type": "choropleth"
           }
          ],
          "contour": [
           {
            "colorbar": {
             "outlinewidth": 0,
             "ticks": ""
            },
            "colorscale": [
             [
              0,
              "#0d0887"
             ],
             [
              0.1111111111111111,
              "#46039f"
             ],
             [
              0.2222222222222222,
              "#7201a8"
             ],
             [
              0.3333333333333333,
              "#9c179e"
             ],
             [
              0.4444444444444444,
              "#bd3786"
             ],
             [
              0.5555555555555556,
              "#d8576b"
             ],
             [
              0.6666666666666666,
              "#ed7953"
             ],
             [
              0.7777777777777778,
              "#fb9f3a"
             ],
             [
              0.8888888888888888,
              "#fdca26"
             ],
             [
              1,
              "#f0f921"
             ]
            ],
            "type": "contour"
           }
          ],
          "contourcarpet": [
           {
            "colorbar": {
             "outlinewidth": 0,
             "ticks": ""
            },
            "type": "contourcarpet"
           }
          ],
          "heatmap": [
           {
            "colorbar": {
             "outlinewidth": 0,
             "ticks": ""
            },
            "colorscale": [
             [
              0,
              "#0d0887"
             ],
             [
              0.1111111111111111,
              "#46039f"
             ],
             [
              0.2222222222222222,
              "#7201a8"
             ],
             [
              0.3333333333333333,
              "#9c179e"
             ],
             [
              0.4444444444444444,
              "#bd3786"
             ],
             [
              0.5555555555555556,
              "#d8576b"
             ],
             [
              0.6666666666666666,
              "#ed7953"
             ],
             [
              0.7777777777777778,
              "#fb9f3a"
             ],
             [
              0.8888888888888888,
              "#fdca26"
             ],
             [
              1,
              "#f0f921"
             ]
            ],
            "type": "heatmap"
           }
          ],
          "histogram": [
           {
            "marker": {
             "pattern": {
              "fillmode": "overlay",
              "size": 10,
              "solidity": 0.2
             }
            },
            "type": "histogram"
           }
          ],
          "histogram2d": [
           {
            "colorbar": {
             "outlinewidth": 0,
             "ticks": ""
            },
            "colorscale": [
             [
              0,
              "#0d0887"
             ],
             [
              0.1111111111111111,
              "#46039f"
             ],
             [
              0.2222222222222222,
              "#7201a8"
             ],
             [
              0.3333333333333333,
              "#9c179e"
             ],
             [
              0.4444444444444444,
              "#bd3786"
             ],
             [
              0.5555555555555556,
              "#d8576b"
             ],
             [
              0.6666666666666666,
              "#ed7953"
             ],
             [
              0.7777777777777778,
              "#fb9f3a"
             ],
             [
              0.8888888888888888,
              "#fdca26"
             ],
             [
              1,
              "#f0f921"
             ]
            ],
            "type": "histogram2d"
           }
          ],
          "histogram2dcontour": [
           {
            "colorbar": {
             "outlinewidth": 0,
             "ticks": ""
            },
            "colorscale": [
             [
              0,
              "#0d0887"
             ],
             [
              0.1111111111111111,
              "#46039f"
             ],
             [
              0.2222222222222222,
              "#7201a8"
             ],
             [
              0.3333333333333333,
              "#9c179e"
             ],
             [
              0.4444444444444444,
              "#bd3786"
             ],
             [
              0.5555555555555556,
              "#d8576b"
             ],
             [
              0.6666666666666666,
              "#ed7953"
             ],
             [
              0.7777777777777778,
              "#fb9f3a"
             ],
             [
              0.8888888888888888,
              "#fdca26"
             ],
             [
              1,
              "#f0f921"
             ]
            ],
            "type": "histogram2dcontour"
           }
          ],
          "mesh3d": [
           {
            "colorbar": {
             "outlinewidth": 0,
             "ticks": ""
            },
            "type": "mesh3d"
           }
          ],
          "parcoords": [
           {
            "line": {
             "colorbar": {
              "outlinewidth": 0,
              "ticks": ""
             }
            },
            "type": "parcoords"
           }
          ],
          "pie": [
           {
            "automargin": true,
            "type": "pie"
           }
          ],
          "scatter": [
           {
            "fillpattern": {
             "fillmode": "overlay",
             "size": 10,
             "solidity": 0.2
            },
            "type": "scatter"
           }
          ],
          "scatter3d": [
           {
            "line": {
             "colorbar": {
              "outlinewidth": 0,
              "ticks": ""
             }
            },
            "marker": {
             "colorbar": {
              "outlinewidth": 0,
              "ticks": ""
             }
            },
            "type": "scatter3d"
           }
          ],
          "scattercarpet": [
           {
            "marker": {
             "colorbar": {
              "outlinewidth": 0,
              "ticks": ""
             }
            },
            "type": "scattercarpet"
           }
          ],
          "scattergeo": [
           {
            "marker": {
             "colorbar": {
              "outlinewidth": 0,
              "ticks": ""
             }
            },
            "type": "scattergeo"
           }
          ],
          "scattergl": [
           {
            "marker": {
             "colorbar": {
              "outlinewidth": 0,
              "ticks": ""
             }
            },
            "type": "scattergl"
           }
          ],
          "scattermap": [
           {
            "marker": {
             "colorbar": {
              "outlinewidth": 0,
              "ticks": ""
             }
            },
            "type": "scattermap"
           }
          ],
          "scattermapbox": [
           {
            "marker": {
             "colorbar": {
              "outlinewidth": 0,
              "ticks": ""
             }
            },
            "type": "scattermapbox"
           }
          ],
          "scatterpolar": [
           {
            "marker": {
             "colorbar": {
              "outlinewidth": 0,
              "ticks": ""
             }
            },
            "type": "scatterpolar"
           }
          ],
          "scatterpolargl": [
           {
            "marker": {
             "colorbar": {
              "outlinewidth": 0,
              "ticks": ""
             }
            },
            "type": "scatterpolargl"
           }
          ],
          "scatterternary": [
           {
            "marker": {
             "colorbar": {
              "outlinewidth": 0,
              "ticks": ""
             }
            },
            "type": "scatterternary"
           }
          ],
          "surface": [
           {
            "colorbar": {
             "outlinewidth": 0,
             "ticks": ""
            },
            "colorscale": [
             [
              0,
              "#0d0887"
             ],
             [
              0.1111111111111111,
              "#46039f"
             ],
             [
              0.2222222222222222,
              "#7201a8"
             ],
             [
              0.3333333333333333,
              "#9c179e"
             ],
             [
              0.4444444444444444,
              "#bd3786"
             ],
             [
              0.5555555555555556,
              "#d8576b"
             ],
             [
              0.6666666666666666,
              "#ed7953"
             ],
             [
              0.7777777777777778,
              "#fb9f3a"
             ],
             [
              0.8888888888888888,
              "#fdca26"
             ],
             [
              1,
              "#f0f921"
             ]
            ],
            "type": "surface"
           }
          ],
          "table": [
           {
            "cells": {
             "fill": {
              "color": "#EBF0F8"
             },
             "line": {
              "color": "white"
             }
            },
            "header": {
             "fill": {
              "color": "#C8D4E3"
             },
             "line": {
              "color": "white"
             }
            },
            "type": "table"
           }
          ]
         },
         "layout": {
          "annotationdefaults": {
           "arrowcolor": "#2a3f5f",
           "arrowhead": 0,
           "arrowwidth": 1
          },
          "autotypenumbers": "strict",
          "coloraxis": {
           "colorbar": {
            "outlinewidth": 0,
            "ticks": ""
           }
          },
          "colorscale": {
           "diverging": [
            [
             0,
             "#8e0152"
            ],
            [
             0.1,
             "#c51b7d"
            ],
            [
             0.2,
             "#de77ae"
            ],
            [
             0.3,
             "#f1b6da"
            ],
            [
             0.4,
             "#fde0ef"
            ],
            [
             0.5,
             "#f7f7f7"
            ],
            [
             0.6,
             "#e6f5d0"
            ],
            [
             0.7,
             "#b8e186"
            ],
            [
             0.8,
             "#7fbc41"
            ],
            [
             0.9,
             "#4d9221"
            ],
            [
             1,
             "#276419"
            ]
           ],
           "sequential": [
            [
             0,
             "#0d0887"
            ],
            [
             0.1111111111111111,
             "#46039f"
            ],
            [
             0.2222222222222222,
             "#7201a8"
            ],
            [
             0.3333333333333333,
             "#9c179e"
            ],
            [
             0.4444444444444444,
             "#bd3786"
            ],
            [
             0.5555555555555556,
             "#d8576b"
            ],
            [
             0.6666666666666666,
             "#ed7953"
            ],
            [
             0.7777777777777778,
             "#fb9f3a"
            ],
            [
             0.8888888888888888,
             "#fdca26"
            ],
            [
             1,
             "#f0f921"
            ]
           ],
           "sequentialminus": [
            [
             0,
             "#0d0887"
            ],
            [
             0.1111111111111111,
             "#46039f"
            ],
            [
             0.2222222222222222,
             "#7201a8"
            ],
            [
             0.3333333333333333,
             "#9c179e"
            ],
            [
             0.4444444444444444,
             "#bd3786"
            ],
            [
             0.5555555555555556,
             "#d8576b"
            ],
            [
             0.6666666666666666,
             "#ed7953"
            ],
            [
             0.7777777777777778,
             "#fb9f3a"
            ],
            [
             0.8888888888888888,
             "#fdca26"
            ],
            [
             1,
             "#f0f921"
            ]
           ]
          },
          "colorway": [
           "#636efa",
           "#EF553B",
           "#00cc96",
           "#ab63fa",
           "#FFA15A",
           "#19d3f3",
           "#FF6692",
           "#B6E880",
           "#FF97FF",
           "#FECB52"
          ],
          "font": {
           "color": "#2a3f5f"
          },
          "geo": {
           "bgcolor": "white",
           "lakecolor": "white",
           "landcolor": "#E5ECF6",
           "showlakes": true,
           "showland": true,
           "subunitcolor": "white"
          },
          "hoverlabel": {
           "align": "left"
          },
          "hovermode": "closest",
          "mapbox": {
           "style": "light"
          },
          "paper_bgcolor": "white",
          "plot_bgcolor": "#E5ECF6",
          "polar": {
           "angularaxis": {
            "gridcolor": "white",
            "linecolor": "white",
            "ticks": ""
           },
           "bgcolor": "#E5ECF6",
           "radialaxis": {
            "gridcolor": "white",
            "linecolor": "white",
            "ticks": ""
           }
          },
          "scene": {
           "xaxis": {
            "backgroundcolor": "#E5ECF6",
            "gridcolor": "white",
            "gridwidth": 2,
            "linecolor": "white",
            "showbackground": true,
            "ticks": "",
            "zerolinecolor": "white"
           },
           "yaxis": {
            "backgroundcolor": "#E5ECF6",
            "gridcolor": "white",
            "gridwidth": 2,
            "linecolor": "white",
            "showbackground": true,
            "ticks": "",
            "zerolinecolor": "white"
           },
           "zaxis": {
            "backgroundcolor": "#E5ECF6",
            "gridcolor": "white",
            "gridwidth": 2,
            "linecolor": "white",
            "showbackground": true,
            "ticks": "",
            "zerolinecolor": "white"
           }
          },
          "shapedefaults": {
           "line": {
            "color": "#2a3f5f"
           }
          },
          "ternary": {
           "aaxis": {
            "gridcolor": "white",
            "linecolor": "white",
            "ticks": ""
           },
           "baxis": {
            "gridcolor": "white",
            "linecolor": "white",
            "ticks": ""
           },
           "bgcolor": "#E5ECF6",
           "caxis": {
            "gridcolor": "white",
            "linecolor": "white",
            "ticks": ""
           }
          },
          "title": {
           "x": 0.05
          },
          "xaxis": {
           "automargin": true,
           "gridcolor": "white",
           "linecolor": "white",
           "ticks": "",
           "title": {
            "standoff": 15
           },
           "zerolinecolor": "white",
           "zerolinewidth": 2
          },
          "yaxis": {
           "automargin": true,
           "gridcolor": "white",
           "linecolor": "white",
           "ticks": "",
           "title": {
            "standoff": 15
           },
           "zerolinecolor": "white",
           "zerolinewidth": 2
          }
         }
        },
        "title": {
         "text": "Experiment Comparison by Metrics"
        },
        "width": 400,
        "xaxis": {
         "anchor": "y",
         "domain": [
          0,
          1
         ],
         "linecolor": "black",
         "linewidth": 1,
         "showgrid": false,
         "showline": true,
         "tickangle": 0,
         "title": {
          "text": "Experiments"
         }
        },
        "yaxis": {
         "anchor": "x",
         "domain": [
          0,
          1
         ],
         "gridcolor": "lightgray",
         "linecolor": "black",
         "linewidth": 1,
         "range": [
          0,
          105
         ],
         "showgrid": true,
         "showline": true,
         "ticksuffix": "%",
         "title": {
          "text": "Percentage (%)"
         }
        }
       }
      }
     },
     "metadata": {},
     "output_type": "display_data"
    }
   ],
   "source": [
    "p.compare_and_plot(\n",
    "    experiment_names=[\"xenodochial_hoare\",\"confident_liskov\"],\n",
    "    model=ExperimentModel,\n",
    "    metric_names=[\"score\"]\n",
    ")"
   ]
  },
  {
   "cell_type": "code",
   "execution_count": null,
   "metadata": {},
   "outputs": [],
   "source": []
  }
 ],
 "metadata": {
  "kernelspec": {
   "display_name": "python3",
   "language": "python",
   "name": "python3"
  }
 },
 "nbformat": 4,
 "nbformat_minor": 2
}
