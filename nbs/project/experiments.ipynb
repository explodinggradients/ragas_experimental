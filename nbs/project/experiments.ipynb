{
 "cells": [
  {
   "cell_type": "markdown",
   "metadata": {},
   "source": [
    "# Experiments\n",
    "\n",
    "> How to run experiments"
   ]
  },
  {
   "cell_type": "code",
   "execution_count": null,
   "metadata": {},
   "outputs": [],
   "source": [
    "# | default_exp project.experiments"
   ]
  },
  {
   "cell_type": "code",
   "execution_count": 3,
   "metadata": {},
   "outputs": [],
   "source": [
    "# | export\n",
    "from tqdm import tqdm\n",
    "from functools import wraps\n",
    "import asyncio\n",
    "\n",
    "import typing as t\n",
    "\n",
    "from fastcore.utils import patch\n",
    "\n",
    "from ragas_annotator.project.core import Project\n",
    "from ragas_annotator.model.notion_model import NotionModel\n",
    "from ragas_annotator.experiment import Experiment\n",
    "from ragas_annotator.dataset import Dataset"
   ]
  },
  {
   "cell_type": "code",
   "execution_count": 3,
   "metadata": {},
   "outputs": [],
   "source": [
    "# | export\n",
    "@patch\n",
    "def create_experiment(\n",
    "    self: Project, name: str, model: t.Type[NotionModel]\n",
    ") -> Experiment:\n",
    "    \"\"\"Create a new experiment view.\n",
    "\n",
    "    Args:\n",
    "        name: Name of the experiment\n",
    "        model: Model class defining the experiment structure\n",
    "\n",
    "    Returns:\n",
    "        ExperimentView: View for managing experiment results\n",
    "    \"\"\"\n",
    "    if self.experiments_page_id == \"\":\n",
    "        raise ValueError(\"Experiments page ID is not set\")\n",
    "\n",
    "    # Collect all properties from model fields\n",
    "    properties = {}\n",
    "    for field_name, field in model._fields.items():\n",
    "        properties.update(field._to_notion_property())\n",
    "\n",
    "    # Create the database\n",
    "    database_id = self._notion_backend.create_new_database(\n",
    "        parent_page_id=self.experiments_page_id, title=name, properties=properties\n",
    "    )\n",
    "\n",
    "    return Experiment(\n",
    "        name=name,\n",
    "        model=model,\n",
    "        database_id=database_id,\n",
    "        notion_backend=self._notion_backend,\n",
    "    )"
   ]
  },
  {
   "cell_type": "code",
   "execution_count": 4,
   "metadata": {},
   "outputs": [],
   "source": [
    "# | export\n",
    "@patch\n",
    "def get_experiment(self: Project, name: str, model: t.Type[NotionModel]) -> Experiment:\n",
    "    \"\"\"Get an existing experiment by name.\"\"\"\n",
    "    if self.experiments_page_id == \"\":\n",
    "        raise ValueError(\"Experiments page ID is not set\")\n",
    "\n",
    "    # Search for database with given name\n",
    "    database_id = self._notion_backend.get_database_id(\n",
    "        parent_page_id=self.experiments_page_id, name=name, return_multiple=False\n",
    "    )\n",
    "\n",
    "    return Experiment(\n",
    "        name=name,\n",
    "        model=model,\n",
    "        database_id=database_id,\n",
    "        notion_backend=self._notion_backend,\n",
    "    )"
   ]
  },
  {
   "cell_type": "code",
   "execution_count": 6,
   "metadata": {},
   "outputs": [],
   "source": [
    "# | export\n",
    "@t.runtime_checkable\n",
    "class ExperimentProtocol(t.Protocol):\n",
    "    async def __call__(self, *args, **kwargs): ...\n",
    "    async def run_async(self, name: str, dataset: Dataset): ..."
   ]
  },
  {
   "cell_type": "code",
   "execution_count": 3,
   "metadata": {},
   "outputs": [],
   "source": [
    "# | export\n",
    "\n",
    "# this one we have to clean up\n",
    "from langfuse.decorators import observe"
   ]
  },
  {
   "cell_type": "code",
   "execution_count": 2,
   "metadata": {},
   "outputs": [],
   "source": [
    "#| export\n",
    "from ragas_annotator.project.naming import MemorableNames"
   ]
  },
  {
   "cell_type": "code",
   "execution_count": 3,
   "metadata": {},
   "outputs": [],
   "source": [
    "#| export\n",
    "memorable_names = MemorableNames()"
   ]
  },
  {
   "cell_type": "code",
   "execution_count": 7,
   "metadata": {},
   "outputs": [],
   "source": [
    "# | export\n",
    "@patch\n",
    "def langfuse_experiment(\n",
    "    self: Project, experiment_model: t.Type[NotionModel], name_prefix: str = \"\"\n",
    "):\n",
    "    \"\"\"Decorator for creating experiment functions.\n",
    "\n",
    "    Args:\n",
    "        name_prefix: Optional prefix for experiment names\n",
    "\n",
    "    Returns:\n",
    "        Decorator function that wraps experiment functions\n",
    "    \"\"\"\n",
    "\n",
    "    def decorator(func: t.Callable) -> ExperimentProtocol:\n",
    "        @wraps(func)\n",
    "        async def wrapped_experiment(*args, **kwargs):\n",
    "            # wrap the function with langfuse observation so that it can be traced\n",
    "            # and spans inside the function can be retrieved with sync_trace()\n",
    "            observed_func = observe(name=f\"{name_prefix}-{func.__name__}\")(func)\n",
    "\n",
    "            return await observed_func(*args, **kwargs)\n",
    "\n",
    "        # Add run method to the wrapped function\n",
    "        async def run_async(dataset: Dataset, name: t.Optional[str] = None):\n",
    "            # if name is not provided, generate a memorable name\n",
    "            if name is None:\n",
    "                name = memorable_names.generate_unique_name()\n",
    "\n",
    "            # Create tasks for all items\n",
    "            tasks = []\n",
    "            for item in dataset:\n",
    "                tasks.append(wrapped_experiment(item))\n",
    "\n",
    "            # Use as_completed with tqdm for progress tracking\n",
    "            results = []\n",
    "            for future in tqdm(asyncio.as_completed(tasks), total=len(tasks)):\n",
    "                result = await future\n",
    "                # Add each result to experiment view as it completes\n",
    "                results.append(result) if result is not None else None\n",
    "\n",
    "            # upload results to experiment view\n",
    "            experiment_view = self.create_experiment(name=name, model=experiment_model)\n",
    "            for result in results:\n",
    "                experiment_view.append(result)\n",
    "\n",
    "            return experiment_view\n",
    "\n",
    "        wrapped_experiment.__setattr__(\"run_async\", run_async)\n",
    "        return t.cast(ExperimentProtocol, wrapped_experiment)\n",
    "\n",
    "    return decorator"
   ]
  },
  {
   "cell_type": "code",
   "execution_count": null,
   "metadata": {},
   "outputs": [],
   "source": []
  }
 ],
 "metadata": {
  "kernelspec": {
   "display_name": ".venv",
   "language": "python",
   "name": "python3"
  },
  "language_info": {
   "codemirror_mode": {
    "name": "ipython",
    "version": 3
   },
   "file_extension": ".py",
   "mimetype": "text/x-python",
   "name": "python",
   "nbconvert_exporter": "python",
   "pygments_lexer": "ipython3",
   "version": "3.12.8"
  }
 },
 "nbformat": 4,
 "nbformat_minor": 2
}
