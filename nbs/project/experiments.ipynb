{
 "cells": [
  {
   "cell_type": "markdown",
   "metadata": {},
   "source": [
    "# Experiments\n",
    "\n",
    "> How to run experiments"
   ]
  },
  {
   "cell_type": "code",
   "execution_count": null,
   "metadata": {},
   "outputs": [],
   "source": [
    "# | default_exp project.experiments"
   ]
  },
  {
   "cell_type": "code",
   "execution_count": null,
   "metadata": {},
   "outputs": [],
   "source": [
    "# | export\n",
    "from tqdm import tqdm\n",
    "from functools import wraps\n",
    "import asyncio\n",
    "\n",
    "import typing as t\n",
    "\n",
    "from fastcore.utils import patch\n",
    "\n",
    "from ragas_annotator.project.core import Project\n",
    "from ragas_annotator.model.pydantic_model import ExtendedPydanticBaseModel as BaseModel\n",
    "from ragas_annotator.utils import async_to_sync, create_nano_id\n",
    "from ragas_annotator.dataset import Dataset, BaseModelType\n",
    "from ragas_annotator.experiment import Experiment\n",
    "import ragas_annotator.typing as rt"
   ]
  },
  {
   "cell_type": "code",
   "execution_count": null,
   "metadata": {},
   "outputs": [],
   "source": [
    "# | export\n",
    "@patch\n",
    "def create_experiment(\n",
    "    self: Project, name: str, model: t.Type[BaseModel]\n",
    ") -> Experiment:\n",
    "    \"\"\"Create a new experiment.\n",
    "\n",
    "    Args:\n",
    "        name: Name of the experiment\n",
    "        model: Model class defining the experiment structure\n",
    "\n",
    "    Returns:\n",
    "        Experiment: An experiment object for managing results\n",
    "    \"\"\"\n",
    "    # Create the experiment\n",
    "    sync_version = async_to_sync(self._ragas_api_client.create_experiment)\n",
    "    experiment_info = sync_version(\n",
    "        project_id=self.project_id,\n",
    "        name=name,\n",
    "    )\n",
    "\n",
    "    # Create the columns for the experiment\n",
    "    column_types = rt.ModelConverter.model_to_columns(model)\n",
    "    sync_version = async_to_sync(create_experiment_columns)\n",
    "    sync_version(\n",
    "        project_id=self.project_id,\n",
    "        experiment_id=experiment_info[\"id\"],\n",
    "        columns=column_types,\n",
    "        create_experiment_column_func=self._ragas_api_client.create_experiment_column,\n",
    "    )\n",
    "    \n",
    "    # Return a new Experiment instance\n",
    "    return Experiment(\n",
    "        name=name,\n",
    "        model=model,\n",
    "        project_id=self.project_id,\n",
    "        experiment_id=experiment_info[\"id\"],\n",
    "        ragas_api_client=self._ragas_api_client,\n",
    "    )\n",
    "\n",
    "# Add this helper function similar to create_dataset_columns in core.ipynb\n",
    "async def create_experiment_columns(project_id, experiment_id, columns, create_experiment_column_func):\n",
    "    tasks = []\n",
    "    for column in columns:\n",
    "        tasks.append(create_experiment_column_func(\n",
    "            project_id=project_id,\n",
    "            experiment_id=experiment_id,\n",
    "            id=create_nano_id(),\n",
    "            name=column[\"name\"],\n",
    "            type=column[\"type\"],\n",
    "            settings={\n",
    "                \"max_length\": 255,\n",
    "                \"is_required\": True,\n",
    "            },\n",
    "        ))\n",
    "    return await asyncio.gather(*tasks)"
   ]
  },
  {
   "cell_type": "code",
   "execution_count": null,
   "metadata": {},
   "outputs": [
    {
     "data": {
      "text/plain": [
       "Project(name='SuperMe')"
      ]
     },
     "execution_count": null,
     "metadata": {},
     "output_type": "execute_result"
    }
   ],
   "source": [
    "import os\n",
    "\n",
    "RAGAS_APP_TOKEN = \"apt.47bd-c55e4a45b27c-02f8-8446-1441f09b-651a8\"\n",
    "RAGAS_API_BASE_URL = \"https://api.dev.app.ragas.io\"\n",
    "\n",
    "os.environ[\"RAGAS_APP_TOKEN\"] = RAGAS_APP_TOKEN\n",
    "os.environ[\"RAGAS_API_BASE_URL\"] = RAGAS_API_BASE_URL\n",
    "\n",
    "PROJECT_ID = \"a6ccabe0-7b8d-4866-98af-f167a36b94ff\"\n",
    "p = Project(project_id=PROJECT_ID)\n",
    "p"
   ]
  },
  {
   "cell_type": "code",
   "execution_count": null,
   "metadata": {},
   "outputs": [],
   "source": [
    "class TestModel(BaseModel):\n",
    "    name: str\n",
    "    description: str\n",
    "    price: float\n"
   ]
  },
  {
   "cell_type": "code",
   "execution_count": null,
   "metadata": {},
   "outputs": [
    {
     "data": {
      "text/plain": [
       "Experiment(name=just name, desc, price 2, model=TestModel)"
      ]
     },
     "execution_count": null,
     "metadata": {},
     "output_type": "execute_result"
    }
   ],
   "source": [
    "experiment_id = \"5d7752ab-17bf-46bc-a302-afe04ce1a763\"\n",
    "exp = p.create_experiment(name=\"just name, desc, price 2\", model=TestModel)\n",
    "#exp = p.create_dataset(name=\"just name and desc 2\", model=TestModel)\n",
    "\n",
    "exp"
   ]
  },
  {
   "cell_type": "code",
   "execution_count": null,
   "metadata": {},
   "outputs": [],
   "source": [
    "# | export\n",
    "@patch\n",
    "def get_experiment(self: Project, experiment_id: str, model: t.Type[BaseModel]) -> Experiment:\n",
    "    \"\"\"Get an existing experiment by ID.\"\"\"\n",
    "    # Get experiment info\n",
    "    sync_version = async_to_sync(self._ragas_api_client.get_experiment)\n",
    "    experiment_info = sync_version(\n",
    "        project_id=self.project_id,\n",
    "        experiment_id=experiment_id\n",
    "    )\n",
    "\n",
    "    return Experiment(\n",
    "        name=experiment_info[\"name\"],\n",
    "        model=model,\n",
    "        project_id=self.project_id,\n",
    "        experiment_id=experiment_id,\n",
    "        ragas_api_client=self._ragas_api_client,\n",
    "    )"
   ]
  },
  {
   "cell_type": "code",
   "execution_count": null,
   "metadata": {},
   "outputs": [
    {
     "data": {
      "text/plain": [
       "'22bbb40c-1fc0-4a09-b26a-ccc93c8bd595'"
      ]
     },
     "execution_count": null,
     "metadata": {},
     "output_type": "execute_result"
    }
   ],
   "source": [
    "exp.dataset_id"
   ]
  },
  {
   "cell_type": "code",
   "execution_count": null,
   "metadata": {},
   "outputs": [
    {
     "data": {
      "text/plain": [
       "Project(name='SuperMe')"
      ]
     },
     "execution_count": null,
     "metadata": {},
     "output_type": "execute_result"
    }
   ],
   "source": [
    "p"
   ]
  },
  {
   "cell_type": "code",
   "execution_count": null,
   "metadata": {},
   "outputs": [
    {
     "data": {
      "text/plain": [
       "Experiment(name=just name, desc, price 2, model=TestModel)"
      ]
     },
     "execution_count": null,
     "metadata": {},
     "output_type": "execute_result"
    }
   ],
   "source": [
    "p.get_experiment(exp.dataset_id, TestModel)"
   ]
  },
  {
   "cell_type": "code",
   "execution_count": null,
   "metadata": {},
   "outputs": [],
   "source": [
    "# | export\n",
    "@t.runtime_checkable\n",
    "class ExperimentProtocol(t.Protocol):\n",
    "    async def __call__(self, *args, **kwargs): ...\n",
    "    async def run_async(self, name: str, dataset: Dataset): ..."
   ]
  },
  {
   "cell_type": "code",
   "execution_count": null,
   "metadata": {},
   "outputs": [],
   "source": [
    "# | export\n",
    "\n",
    "# this one we have to clean up\n",
    "from langfuse.decorators import observe"
   ]
  },
  {
   "cell_type": "code",
   "execution_count": null,
   "metadata": {},
   "outputs": [],
   "source": [
    "# | export\n",
    "from ragas_annotator.project.naming import MemorableNames"
   ]
  },
  {
   "cell_type": "code",
   "execution_count": null,
   "metadata": {},
   "outputs": [],
   "source": [
    "# | export\n",
    "memorable_names = MemorableNames()"
   ]
  },
  {
   "cell_type": "code",
   "execution_count": null,
   "metadata": {},
   "outputs": [],
   "source": [
    "# | export\n",
    "@patch\n",
    "def experiment(\n",
    "    self: Project, experiment_model, name_prefix: str = \"\"\n",
    "):\n",
    "    \"\"\"Decorator for creating experiment functions without Langfuse integration.\n",
    "\n",
    "    Args:\n",
    "        experiment_model: The NotionModel type to use for experiment results\n",
    "        name_prefix: Optional prefix for experiment names\n",
    "\n",
    "    Returns:\n",
    "        Decorator function that wraps experiment functions\n",
    "    \"\"\"\n",
    "\n",
    "    def decorator(func: t.Callable) -> ExperimentProtocol:\n",
    "        @wraps(func)\n",
    "        async def wrapped_experiment(*args, **kwargs):\n",
    "            # Simply call the function without Langfuse observation\n",
    "            return await func(*args, **kwargs)\n",
    "\n",
    "        # Add run method to the wrapped function\n",
    "        async def run_async(dataset: Dataset, name: t.Optional[str] = None):\n",
    "            # if name is not provided, generate a memorable name\n",
    "            if name is None:\n",
    "                name = memorable_names.generate_unique_name()\n",
    "            if name_prefix:\n",
    "                name = f\"{name_prefix}-{name}\"\n",
    "\n",
    "            # Create tasks for all items\n",
    "            tasks = []\n",
    "            for item in dataset:\n",
    "                tasks.append(wrapped_experiment(item))\n",
    "\n",
    "            # Use as_completed with tqdm for progress tracking\n",
    "            results = []\n",
    "            for future in tqdm(asyncio.as_completed(tasks), total=len(tasks)):\n",
    "                result = await future\n",
    "                # Add each result to experiment view as it completes\n",
    "                if result is not None:\n",
    "                    results.append(result)\n",
    "\n",
    "            # upload results to experiment view\n",
    "            experiment_view = self.create_experiment(name=name, model=experiment_model)\n",
    "            for result in results:\n",
    "                experiment_view.append(result)\n",
    "\n",
    "            return experiment_view\n",
    "\n",
    "        wrapped_experiment.__setattr__(\"run_async\", run_async)\n",
    "        return t.cast(ExperimentProtocol, wrapped_experiment)\n",
    "\n",
    "    return decorator"
   ]
  },
  {
   "cell_type": "code",
   "execution_count": null,
   "metadata": {},
   "outputs": [],
   "source": [
    "# | export\n",
    "@patch\n",
    "def langfuse_experiment(\n",
    "    self: Project, experiment_model, name_prefix: str = \"\"\n",
    "):\n",
    "    \"\"\"Decorator for creating experiment functions with Langfuse integration.\n",
    "\n",
    "    Args:\n",
    "        experiment_model: The NotionModel type to use for experiment results\n",
    "        name_prefix: Optional prefix for experiment names\n",
    "\n",
    "    Returns:\n",
    "        Decorator function that wraps experiment functions with Langfuse observation\n",
    "    \"\"\"\n",
    "\n",
    "    def decorator(func: t.Callable) -> ExperimentProtocol:\n",
    "        # First, create a base experiment wrapper\n",
    "        base_experiment = self.experiment(experiment_model, name_prefix)(func)\n",
    "\n",
    "        # Override the wrapped function to add Langfuse observation\n",
    "        @wraps(func)\n",
    "        async def wrapped_with_langfuse(*args, **kwargs):\n",
    "            # wrap the function with langfuse observation\n",
    "            observed_func = observe(name=f\"{name_prefix}-{func.__name__}\")(func)\n",
    "            return await observed_func(*args, **kwargs)\n",
    "\n",
    "        # Replace the async function to use Langfuse\n",
    "        original_run_async = base_experiment.run_async\n",
    "\n",
    "        # Use the original run_async but with the Langfuse-wrapped function\n",
    "        async def run_async_with_langfuse(\n",
    "            dataset: Dataset, name: t.Optional[str] = None\n",
    "        ):\n",
    "            # Override the internal wrapped_experiment with our Langfuse version\n",
    "            base_experiment.__wrapped__ = wrapped_with_langfuse\n",
    "\n",
    "            # Call the original run_async which will now use our Langfuse-wrapped function\n",
    "            return await original_run_async(dataset, name)\n",
    "\n",
    "        # Replace the run_async method\n",
    "        base_experiment.__setattr__(\"run_async\", run_async_with_langfuse)\n",
    "\n",
    "        return t.cast(ExperimentProtocol, base_experiment)\n",
    "\n",
    "    return decorator"
   ]
  },
  {
   "cell_type": "code",
   "execution_count": null,
   "metadata": {},
   "outputs": [],
   "source": []
  }
 ],
 "metadata": {
  "kernelspec": {
   "display_name": "python3",
   "language": "python",
   "name": "python3"
  }
 },
 "nbformat": 4,
 "nbformat_minor": 2
}
