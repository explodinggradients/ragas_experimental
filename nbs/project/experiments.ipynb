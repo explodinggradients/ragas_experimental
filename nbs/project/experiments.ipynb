{
 "cells": [
  {
   "cell_type": "markdown",
   "metadata": {},
   "source": [
    "# Experiments\n",
    "\n",
    "> How to run experiments"
   ]
  },
  {
   "cell_type": "code",
   "execution_count": null,
   "metadata": {},
   "outputs": [],
   "source": [
    "# | default_exp project.experiments"
   ]
  },
  {
   "cell_type": "code",
   "execution_count": null,
   "metadata": {},
   "outputs": [],
   "source": [
    "# | export\n",
    "from tqdm import tqdm\n",
    "from functools import wraps\n",
    "import asyncio\n",
    "\n",
    "import typing as t\n",
    "\n",
    "from fastcore.utils import patch\n",
    "\n",
    "from ragas_experimental.project.core import Project\n",
    "from ragas_experimental.model.pydantic_model import ExtendedPydanticBaseModel as BaseModel\n",
    "from ragas_experimental.utils import async_to_sync, create_nano_id\n",
    "from ragas_experimental.dataset import Dataset, BaseModelType\n",
    "from ragas_experimental.experiment import Experiment\n",
    "import ragas_experimental.typing as rt"
   ]
  },
  {
   "cell_type": "markdown",
   "metadata": {},
   "source": [
    "## Basics"
   ]
  },
  {
   "cell_type": "code",
   "execution_count": null,
   "metadata": {},
   "outputs": [],
   "source": [
    "#| export\n",
    "# Add this helper function similar to create_dataset_columns in core.ipynb\n",
    "async def create_experiment_columns(project_id, experiment_id, columns, create_experiment_column_func):\n",
    "    tasks = []\n",
    "    for column in columns:\n",
    "        tasks.append(create_experiment_column_func(\n",
    "            project_id=project_id,\n",
    "            experiment_id=experiment_id,\n",
    "            id=create_nano_id(),\n",
    "            name=column[\"name\"],\n",
    "            type=column[\"type\"],\n",
    "            settings=column[\"settings\"]\n",
    "        ))\n",
    "    return await asyncio.gather(*tasks)"
   ]
  },
  {
   "cell_type": "code",
   "execution_count": null,
   "metadata": {},
   "outputs": [],
   "source": [
    "# | export\n",
    "@patch\n",
    "def create_experiment(\n",
    "    self: Project, name: str, model: t.Type[BaseModel]\n",
    ") -> Experiment:\n",
    "    \"\"\"Create a new experiment.\n",
    "\n",
    "    Args:\n",
    "        name: Name of the experiment\n",
    "        model: Model class defining the experiment structure\n",
    "\n",
    "    Returns:\n",
    "        Experiment: An experiment object for managing results\n",
    "    \"\"\"\n",
    "    # Create the experiment\n",
    "    sync_version = async_to_sync(self._ragas_api_client.create_experiment)\n",
    "    experiment_info = sync_version(\n",
    "        project_id=self.project_id,\n",
    "        name=name,\n",
    "    )\n",
    "\n",
    "    # Create the columns for the experiment\n",
    "    column_types = rt.ModelConverter.model_to_columns(model)\n",
    "    sync_version = async_to_sync(create_experiment_columns)\n",
    "    sync_version(\n",
    "        project_id=self.project_id,\n",
    "        experiment_id=experiment_info[\"id\"],\n",
    "        columns=column_types,\n",
    "        create_experiment_column_func=self._ragas_api_client.create_experiment_column,\n",
    "    )\n",
    "    \n",
    "    # Return a new Experiment instance\n",
    "    return Experiment(\n",
    "        name=name,\n",
    "        model=model,\n",
    "        project_id=self.project_id,\n",
    "        experiment_id=experiment_info[\"id\"],\n",
    "        ragas_api_client=self._ragas_api_client,\n",
    "    )\n"
   ]
  },
  {
   "cell_type": "code",
   "execution_count": null,
   "metadata": {},
   "outputs": [
    {
     "data": {
      "text/plain": [
       "Project(name='SuperMe')"
      ]
     },
     "execution_count": null,
     "metadata": {},
     "output_type": "execute_result"
    }
   ],
   "source": [
    "import os\n",
    "\n",
    "RAGAS_APP_TOKEN = \"apt.47bd-c55e4a45b27c-02f8-8446-1441f09b-651a8\"\n",
    "RAGAS_API_BASE_URL = \"https://api.dev.app.ragas.io\"\n",
    "\n",
    "os.environ[\"RAGAS_APP_TOKEN\"] = RAGAS_APP_TOKEN\n",
    "os.environ[\"RAGAS_API_BASE_URL\"] = RAGAS_API_BASE_URL\n",
    "\n",
    "PROJECT_ID = \"a6ccabe0-7b8d-4866-98af-f167a36b94ff\"\n",
    "p = Project(project_id=PROJECT_ID)\n",
    "p"
   ]
  },
  {
   "cell_type": "code",
   "execution_count": null,
   "metadata": {},
   "outputs": [],
   "source": [
    "class TestModel(BaseModel):\n",
    "    name: str\n",
    "    description: str\n",
    "    price: float\n",
    "    url: t.Annotated[str, rt.Url()] = \"https://www.google.com\"\n",
    "    tags: t.Annotated[t.Literal[\"test\", \"test2\"], rt.Select(colors=[\"red\", \"blue\"])] = \"test\"\n"
   ]
  },
  {
   "cell_type": "code",
   "execution_count": null,
   "metadata": {},
   "outputs": [
    {
     "data": {
      "text/plain": [
       "Experiment(name=test-exp, model=TestModel)"
      ]
     },
     "execution_count": null,
     "metadata": {},
     "output_type": "execute_result"
    }
   ],
   "source": [
    "experiment_id = \"5d7752ab-17bf-46bc-a302-afe04ce1a763\"\n",
    "exp = p.create_experiment(name=\"test-exp\", model=TestModel)\n",
    "#exp = p.create_dataset(name=\"just name and desc 2\", model=TestModel)\n",
    "\n",
    "exp"
   ]
  },
  {
   "cell_type": "code",
   "execution_count": null,
   "metadata": {},
   "outputs": [],
   "source": [
    "# | export\n",
    "@patch\n",
    "def get_experiment_by_id(self: Project, experiment_id: str, model: t.Type[BaseModel]) -> Experiment:\n",
    "    \"\"\"Get an existing experiment by ID.\"\"\"\n",
    "    # Get experiment info\n",
    "    sync_version = async_to_sync(self._ragas_api_client.get_experiment)\n",
    "    experiment_info = sync_version(\n",
    "        project_id=self.project_id,\n",
    "        experiment_id=experiment_id\n",
    "    )\n",
    "\n",
    "    return Experiment(\n",
    "        name=experiment_info[\"name\"],\n",
    "        model=model,\n",
    "        project_id=self.project_id,\n",
    "        experiment_id=experiment_id,\n",
    "        ragas_api_client=self._ragas_api_client,\n",
    "    )"
   ]
  },
  {
   "cell_type": "code",
   "execution_count": null,
   "metadata": {},
   "outputs": [
    {
     "data": {
      "text/plain": [
       "'effe0e10-916d-4530-b974-91d5115f5dc2'"
      ]
     },
     "execution_count": null,
     "metadata": {},
     "output_type": "execute_result"
    }
   ],
   "source": [
    "exp.experiment_id"
   ]
  },
  {
   "cell_type": "code",
   "execution_count": null,
   "metadata": {},
   "outputs": [
    {
     "data": {
      "text/plain": [
       "Experiment(name=test-exp, model=TestModel)"
      ]
     },
     "execution_count": null,
     "metadata": {},
     "output_type": "execute_result"
    }
   ],
   "source": [
    "p.get_experiment_by_id(exp.experiment_id, TestModel)"
   ]
  },
  {
   "cell_type": "code",
   "execution_count": null,
   "metadata": {},
   "outputs": [],
   "source": [
    "# | export\n",
    "@patch\n",
    "def get_experiment(self: Project, dataset_name: str, model) -> Dataset:\n",
    "    \"\"\"Get an existing dataset by name.\"\"\"\n",
    "    # Search for dataset with given name\n",
    "    sync_version = async_to_sync(self._ragas_api_client.get_experiment_by_name)\n",
    "    exp_info = sync_version(\n",
    "        project_id=self.project_id,\n",
    "        experiment_name=dataset_name\n",
    "    )\n",
    "\n",
    "    # Return Dataset instance\n",
    "    return Experiment(\n",
    "        name=exp_info[\"name\"],\n",
    "        model=model,\n",
    "        project_id=self.project_id,\n",
    "        experiment_id=exp_info[\"id\"],\n",
    "        ragas_api_client=self._ragas_api_client,\n",
    "    )"
   ]
  },
  {
   "cell_type": "code",
   "execution_count": null,
   "metadata": {},
   "outputs": [
    {
     "data": {
      "text/plain": [
       "Experiment(name=test-exp, model=TestModel)"
      ]
     },
     "execution_count": null,
     "metadata": {},
     "output_type": "execute_result"
    }
   ],
   "source": [
    "p.get_experiment(\"test-exp\", TestModel)"
   ]
  },
  {
   "cell_type": "markdown",
   "metadata": {},
   "source": [
    "## Experiment Wrapper"
   ]
  },
  {
   "cell_type": "code",
   "execution_count": null,
   "metadata": {},
   "outputs": [],
   "source": [
    "# | export\n",
    "@t.runtime_checkable\n",
    "class ExperimentProtocol(t.Protocol):\n",
    "    async def __call__(self, *args, **kwargs): ...\n",
    "    async def run_async(self, name: str, dataset: Dataset): ..."
   ]
  },
  {
   "cell_type": "code",
   "execution_count": null,
   "metadata": {},
   "outputs": [],
   "source": [
    "# | export\n",
    "\n",
    "# this one we have to clean up\n",
    "from langfuse.decorators import observe"
   ]
  },
  {
   "cell_type": "code",
   "execution_count": null,
   "metadata": {},
   "outputs": [],
   "source": [
    "# | export\n",
    "from ragas_experimental.project.naming import MemorableNames"
   ]
  },
  {
   "cell_type": "code",
   "execution_count": null,
   "metadata": {},
   "outputs": [],
   "source": [
    "# | export\n",
    "memorable_names = MemorableNames()"
   ]
  },
  {
   "cell_type": "code",
   "execution_count": null,
   "metadata": {},
   "outputs": [],
   "source": [
    "# | export\n",
    "@patch\n",
    "def experiment(\n",
    "    self: Project, experiment_model, name_prefix: str = \"\"\n",
    "):\n",
    "    \"\"\"Decorator for creating experiment functions without Langfuse integration.\n",
    "\n",
    "    Args:\n",
    "        experiment_model: The NotionModel type to use for experiment results\n",
    "        name_prefix: Optional prefix for experiment names\n",
    "\n",
    "    Returns:\n",
    "        Decorator function that wraps experiment functions\n",
    "    \"\"\"\n",
    "\n",
    "    def decorator(func: t.Callable) -> ExperimentProtocol:\n",
    "        @wraps(func)\n",
    "        async def wrapped_experiment(*args, **kwargs):\n",
    "            # Simply call the function without Langfuse observation\n",
    "            return await func(*args, **kwargs)\n",
    "\n",
    "        # Add run method to the wrapped function\n",
    "        async def run_async(dataset: Dataset, name: t.Optional[str] = None):\n",
    "            # if name is not provided, generate a memorable name\n",
    "            if name is None:\n",
    "                name = memorable_names.generate_unique_name()\n",
    "            if name_prefix:\n",
    "                name = f\"{name_prefix}-{name}\"\n",
    "\n",
    "            experiment_view = None\n",
    "            try:\n",
    "                # Create the experiment view upfront\n",
    "                experiment_view = self.create_experiment(name=name, model=experiment_model)\n",
    "                \n",
    "                # Create tasks for all items\n",
    "                tasks = []\n",
    "                for item in dataset:\n",
    "                    tasks.append(wrapped_experiment(item))\n",
    "\n",
    "                # Calculate total operations (processing + appending)\n",
    "                total_operations = len(tasks) * 2  # Each item requires processing and appending\n",
    "                \n",
    "                # Use tqdm for combined progress tracking\n",
    "                results = []\n",
    "                progress_bar = tqdm(total=total_operations, desc=\"Running experiment\")\n",
    "                \n",
    "                # Process all items\n",
    "                for future in asyncio.as_completed(tasks):\n",
    "                    result = await future\n",
    "                    if result is not None:\n",
    "                        results.append(result)\n",
    "                    progress_bar.update(1)  # Update for task completion\n",
    "                \n",
    "                # Append results to experiment view\n",
    "                for result in results:\n",
    "                    experiment_view.append(result)\n",
    "                    progress_bar.update(1)  # Update for append operation\n",
    "                    \n",
    "                progress_bar.close()\n",
    "                return experiment_view\n",
    "                \n",
    "            except Exception as e:\n",
    "                # Clean up the experiment if there was an error and it was created\n",
    "                if experiment_view is not None:\n",
    "                    try:\n",
    "                        # Delete the experiment (you might need to implement this method)\n",
    "                        sync_version = async_to_sync(self._ragas_api_client.delete_experiment)\n",
    "                        sync_version(project_id=self.project_id, experiment_id=experiment_view.experiment_id)\n",
    "                    except Exception as cleanup_error:\n",
    "                        print(f\"Failed to clean up experiment after error: {cleanup_error}\")\n",
    "                \n",
    "                # Re-raise the original exception\n",
    "                raise e\n",
    "\n",
    "        wrapped_experiment.__setattr__(\"run_async\", run_async)\n",
    "        return t.cast(ExperimentProtocol, wrapped_experiment)\n",
    "\n",
    "    return decorator"
   ]
  },
  {
   "cell_type": "code",
   "execution_count": null,
   "metadata": {},
   "outputs": [],
   "source": [
    "# create experimental test dataset\n",
    "test_dataset = p.create_dataset(name=\"test dataset for experiment\", model=TestModel)\n",
    "test_dataset.append(TestModel(name=\"test item 1\", description=\"test item 1 description\", price=100))\n",
    "test_dataset.append(TestModel(name=\"test item 2\", description=\"test item 2 description\", price=200))\n",
    "test_dataset.append(TestModel(name=\"test item 3\", description=\"test item 3 description\", price=300))"
   ]
  },
  {
   "cell_type": "code",
   "execution_count": null,
   "metadata": {},
   "outputs": [],
   "source": [
    "# create experiment model\n",
    "class TextExperimentModel(TestModel):\n",
    "    response: str\n",
    "    is_correct: t.Literal[\"yes\", \"no\"]\n",
    "\n",
    "# create a test experiment function\n",
    "@p.experiment(TextExperimentModel)\n",
    "async def test_experiment(item: TestModel):\n",
    "    return TextExperimentModel(**item.model_dump(), response=\"test response\", is_correct=\"yes\")\n"
   ]
  },
  {
   "cell_type": "code",
   "execution_count": null,
   "metadata": {},
   "outputs": [
    {
     "name": "stderr",
     "output_type": "stream",
     "text": [
      "Running experiment: 100%|██████████| 6/6 [00:01<00:00,  3.84it/s]\n"
     ]
    },
    {
     "data": {
      "text/plain": [
       "Experiment(name=gallant_torvalds, model=TextExperimentModel)"
      ]
     },
     "execution_count": null,
     "metadata": {},
     "output_type": "execute_result"
    }
   ],
   "source": [
    "# run the experiment\n",
    "await test_experiment.run_async(test_dataset)"
   ]
  },
  {
   "cell_type": "code",
   "execution_count": null,
   "metadata": {},
   "outputs": [],
   "source": [
    "# | export\n",
    "@patch\n",
    "def langfuse_experiment(\n",
    "    self: Project, experiment_model, name_prefix: str = \"\"\n",
    "):\n",
    "    \"\"\"Decorator for creating experiment functions with Langfuse integration.\n",
    "\n",
    "    Args:\n",
    "        experiment_model: The NotionModel type to use for experiment results\n",
    "        name_prefix: Optional prefix for experiment names\n",
    "\n",
    "    Returns:\n",
    "        Decorator function that wraps experiment functions with Langfuse observation\n",
    "    \"\"\"\n",
    "\n",
    "    def decorator(func: t.Callable) -> ExperimentProtocol:\n",
    "        # First, create a base experiment wrapper\n",
    "        base_experiment = self.experiment(experiment_model, name_prefix)(func)\n",
    "\n",
    "        # Override the wrapped function to add Langfuse observation\n",
    "        @wraps(func)\n",
    "        async def wrapped_with_langfuse(*args, **kwargs):\n",
    "            # wrap the function with langfuse observation\n",
    "            observed_func = observe(name=f\"{name_prefix}-{func.__name__}\")(func)\n",
    "            return await observed_func(*args, **kwargs)\n",
    "\n",
    "        # Replace the async function to use Langfuse\n",
    "        original_run_async = base_experiment.run_async\n",
    "\n",
    "        # Use the original run_async but with the Langfuse-wrapped function\n",
    "        async def run_async_with_langfuse(\n",
    "            dataset: Dataset, name: t.Optional[str] = None\n",
    "        ):\n",
    "            # Override the internal wrapped_experiment with our Langfuse version\n",
    "            base_experiment.__wrapped__ = wrapped_with_langfuse\n",
    "\n",
    "            # Call the original run_async which will now use our Langfuse-wrapped function\n",
    "            return await original_run_async(dataset, name)\n",
    "\n",
    "        # Replace the run_async method\n",
    "        base_experiment.__setattr__(\"run_async\", run_async_with_langfuse)\n",
    "\n",
    "        return t.cast(ExperimentProtocol, base_experiment)\n",
    "\n",
    "    return decorator"
   ]
  },
  {
   "cell_type": "code",
   "execution_count": null,
   "metadata": {},
   "outputs": [],
   "source": []
  }
 ],
 "metadata": {
  "kernelspec": {
   "display_name": "python3",
   "language": "python",
   "name": "python3"
  }
 },
 "nbformat": 4,
 "nbformat_minor": 2
}
