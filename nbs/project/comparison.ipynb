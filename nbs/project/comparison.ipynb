{
 "cells": [
  {
   "cell_type": "markdown",
   "metadata": {},
   "source": [
    "# `Comparison` \n",
    "\n",
    "> Create Comparison views with different experiments"
   ]
  },
  {
   "cell_type": "code",
   "execution_count": 1,
   "metadata": {},
   "outputs": [],
   "source": [
    "#| default_exp project.comparison"
   ]
  },
  {
   "cell_type": "code",
   "execution_count": 22,
   "metadata": {},
   "outputs": [],
   "source": [
    "#| hide\n",
    "import pytest\n",
    "from unittest.mock import MagicMock\n",
    "from fastcore.test import *\n",
    "\n",
    "from ragas_annotator.backends.notion_backend import NotionBackend"
   ]
  },
  {
   "cell_type": "code",
   "execution_count": 127,
   "metadata": {},
   "outputs": [],
   "source": [
    "# | export\n",
    "import typing as t\n",
    "import logging\n",
    "\n",
    "from fastcore.utils import patch\n",
    "from tqdm import tqdm\n",
    "\n",
    "from ragas_annotator.project.core import Project\n",
    "from ragas_annotator.model.notion_model import NotionModel\n",
    "import ragas_annotator.model.notion_typing as nmt\n",
    "from ragas_annotator.experiment import Experiment\n",
    "from ragas_annotator.dataset import Dataset"
   ]
  },
  {
   "cell_type": "code",
   "execution_count": 20,
   "metadata": {},
   "outputs": [],
   "source": [
    "#| export\n",
    "logger = logging.getLogger(__name__)"
   ]
  },
  {
   "cell_type": "code",
   "execution_count": 124,
   "metadata": {},
   "outputs": [],
   "source": [
    "#| export\n",
    "# utility function to check if a model has a title property and get the name of the title property\n",
    "@t.overload\n",
    "def _get_title_property(model: NotionModel|t.Type[NotionModel], raise_exception: t.Literal[True] = True) -> str:\n",
    "    ...\n",
    "@t.overload\n",
    "def _get_title_property(model: NotionModel|t.Type[NotionModel], raise_exception: t.Literal[False] = False) -> t.Optional[str]:\n",
    "    ...\n",
    "def _get_title_property(model: NotionModel|t.Type[NotionModel], raise_exception: bool = True) -> t.Optional[str]:\n",
    "    has_title = False\n",
    "    for field in model._fields.keys():\n",
    "        if isinstance(model._fields[field], nmt.Title):\n",
    "            has_title = True\n",
    "            title_property = field\n",
    "            return title_property\n",
    "\n",
    "    if not has_title:\n",
    "        if raise_exception:\n",
    "            raise ValueError(\"Model has no title property\")\n",
    "        else:\n",
    "            return None"
   ]
  },
  {
   "cell_type": "code",
   "execution_count": 37,
   "metadata": {},
   "outputs": [],
   "source": [
    "#| hide\n",
    "class ModelWithoutTitle(NotionModel):\n",
    "    id: int = nmt.ID()\n",
    "    select: str = nmt.Select()\n",
    "\n",
    "class ModelWithTitle(ModelWithoutTitle):\n",
    "    some_title: str = nmt.Title()\n"
   ]
  },
  {
   "cell_type": "code",
   "execution_count": 38,
   "metadata": {},
   "outputs": [],
   "source": [
    "#| hide\n",
    "test_eq(_get_title_property(ModelWithoutTitle, raise_exception=False), None)\n",
    "pytest.raises(ValueError, _get_title_property, ModelWithoutTitle)\n",
    "test_eq(_get_title_property(ModelWithTitle), \"some_title\")"
   ]
  },
  {
   "cell_type": "code",
   "execution_count": 39,
   "metadata": {},
   "outputs": [],
   "source": [
    "#| export\n",
    "def _validate_experiments(experiments: t.Sequence[Experiment]):\n",
    "    # validate we have more than 2 experiments\n",
    "    if len(experiments) < 2:\n",
    "        raise ValueError(\"We need at least 2 experiments to compare\")\n",
    "\n",
    "    # validate that all experiments are of the same model\n",
    "    top_exp = experiments[0]\n",
    "    title_property = _get_title_property(top_exp.model)\n",
    "    for exp in experiments:\n",
    "        if not isinstance(exp, Experiment):\n",
    "            raise ValueError(\"All experiments must be of type Experiment\")\n",
    "        if top_exp != exp.model:\n",
    "            logger.warning(f\"Experiments have different models: {top_exp.model} and {exp.model}\")\n",
    "        if title_property != _get_title_property(exp.model):\n",
    "            raise ValueError(\"All experiments must have the same title property.\")"
   ]
  },
  {
   "cell_type": "code",
   "execution_count": 40,
   "metadata": {},
   "outputs": [
    {
     "name": "stderr",
     "output_type": "stream",
     "text": [
      "Experiments have different models: <class '__main__.ModelWithTitle'> and <class '__main__.ModelWithTitle'>\n",
      "Experiments have different models: <class '__main__.ModelWithTitle'> and <class '__main__.ModelWithoutTitle'>\n",
      "Experiments have different models: <class '__main__.ModelWithTitle'> and <class '__main__.ModelWithTitle'>\n",
      "Experiments have different models: <class '__main__.ModelWithTitle'> and <class '__main__.ModelWithTitle'>\n",
      "Experiments have different models: <class '__main__.ModelWithTitle'> and <class '__main__.ModelWithTitle'>\n",
      "Experiments have different models: <class '__main__.ModelWithTitle'> and <class '__main__.ModelWithTitle'>\n",
      "Experiments have different models: <class '__main__.ModelWithTitle'> and <class '__main__.DifferentTitleModel'>\n",
      "Experiments have different models: <class '__main__.ModelWithTitle'> and <class '__main__.ModelWithTitle'>\n",
      "Experiments have different models: <class '__main__.ModelWithTitle'> and <class '__main__.DifferentTitleNameModel'>\n"
     ]
    }
   ],
   "source": [
    "#| hide\n",
    "\n",
    "example_notion_backend = MagicMock(spec=NotionBackend)\n",
    "\n",
    "# test the validation logics\n",
    "with pytest.raises(ValueError):\n",
    "    _validate_experiments([\n",
    "        Experiment(\"test_experiment_1\", ModelWithTitle, \"test_database_id\", example_notion_backend), \n",
    "        Experiment(\"test_experiment_1\", ModelWithoutTitle, \"test_database_id\", example_notion_backend), \n",
    "        Experiment(\"test_experiment_2\", ModelWithTitle, \"test_database_id\", example_notion_backend),\n",
    "    ])\n",
    "\n",
    "\n",
    "# with should pass\n",
    "_validate_experiments([\n",
    "    Experiment(\"test_experiment_1\", ModelWithTitle, \"test_database_id\", example_notion_backend), \n",
    "    Experiment(\"test_experiment_2\", ModelWithTitle, \"test_database_id\", example_notion_backend)\n",
    "])\n",
    "\n",
    "# throw a warning if the models are different\n",
    "class DifferentTitleModel(ModelWithoutTitle):\n",
    "    some_title: str = nmt.Title()\n",
    "\n",
    "_validate_experiments([\n",
    "    Experiment(\"test_experiment_1\", ModelWithTitle, \"test_database_id\", example_notion_backend), \n",
    "    Experiment(\"test_experiment_2\", ModelWithTitle, \"test_database_id\", example_notion_backend),\n",
    "    Experiment(\"test_experiment_3\", DifferentTitleModel, \"test_database_id\", example_notion_backend)\n",
    "])\n",
    "\n",
    "# throw an error if the title properties are different\n",
    "class DifferentTitleNameModel(ModelWithoutTitle):\n",
    "    some_title_other: str = nmt.Title()\n",
    "with pytest.raises(ValueError):\n",
    "    _validate_experiments([\n",
    "        Experiment(\"test_experiment_1\", ModelWithTitle, \"test_database_id\", example_notion_backend), \n",
    "        Experiment(\"test_experiment_2\", DifferentTitleNameModel, \"test_database_id\", example_notion_backend),\n",
    "    ])"
   ]
  },
  {
   "cell_type": "code",
   "execution_count": 123,
   "metadata": {},
   "outputs": [],
   "source": [
    "#| hide\n",
    "test_eq(_get_title_property(ModelWithTitle), \"some_title\")\n",
    "test_eq(_get_title_property(DifferentTitleNameModel), \"some_title_other\")\n",
    "with pytest.raises(ValueError):\n",
    "    _get_title_property(ModelWithoutTitle)"
   ]
  },
  {
   "cell_type": "code",
   "execution_count": 89,
   "metadata": {},
   "outputs": [
    {
     "data": {
      "text/plain": [
       "[{'id_str': '1',\n",
       "  'experiment_name': 'test_experiment_1',\n",
       "  'some_title': 'test_1',\n",
       "  'select': 'test_exp_1_1'},\n",
       " {'id_str': '1',\n",
       "  'experiment_name': 'test_experiment_2',\n",
       "  'some_title': 'test_1',\n",
       "  'select': 'test_exp_2_1'},\n",
       " {'id_str': '1',\n",
       "  'experiment_name': 'test_experiment_3',\n",
       "  'some_title': 'test_1',\n",
       "  'select': 'test_exp_3_1'}]"
      ]
     },
     "execution_count": 89,
     "metadata": {},
     "output_type": "execute_result"
    }
   ],
   "source": [
    "#| hide\n",
    "# a test for grouping experiments\n",
    "NUM_EXPS = 3\n",
    "# dummy experiments\n",
    "exp1 = Experiment(\"test_experiment_1\", ModelWithTitle, \"test_database_id\", example_notion_backend)\n",
    "exp2 = Experiment(\"test_experiment_2\", ModelWithTitle, \"test_database_id\", example_notion_backend)\n",
    "exp3 = Experiment(\"test_experiment_3\", ModelWithTitle, \"test_database_id\", example_notion_backend)\n",
    "# fill the experiments with dummy data\n",
    "for i in range(NUM_EXPS):\n",
    "    exp1._entries.append(ModelWithTitle(some_title=f\"test_{i}\", id=i, select=f\"test_exp_1_{i}\"))\n",
    "for i in range(NUM_EXPS):\n",
    "    exp2._entries.append(ModelWithTitle(some_title=f\"test_{i}\", id=i, select=f\"test_exp_2_{i}\"))\n",
    "for i in range(NUM_EXPS):\n",
    "    exp3._entries.append(ModelWithTitle(some_title=f\"test_{i}\", id=i, select=f\"test_exp_3_{i}\"))\n",
    "\n",
    "\n",
    "# manually create the combined fields\n",
    "combined_experiments_fields = []\n",
    "for i in range(NUM_EXPS):\n",
    "    exp1_as_field = {\n",
    "        \"id_str\": str(i),\n",
    "        \"experiment_name\": \"test_experiment_1\",\n",
    "        \"some_title\": f\"test_{i}\",\n",
    "        \"select\": f\"test_exp_1_{i}\",\n",
    "    }\n",
    "    exp2_as_field = exp1_as_field.copy()\n",
    "    exp2_as_field[\"experiment_name\"] = \"test_experiment_2\"\n",
    "    exp2_as_field[\"some_title\"] = f\"test_{i}\"\n",
    "    exp2_as_field[\"select\"] = f\"test_exp_2_{i}\"\n",
    "    exp3_as_field = exp1_as_field.copy()\n",
    "    exp3_as_field[\"experiment_name\"] = \"test_experiment_3\"\n",
    "    exp3_as_field[\"some_title\"] = f\"test_{i}\"\n",
    "    exp3_as_field[\"select\"] = f\"test_exp_3_{i}\"\n",
    "    combined_experiments_fields.append([exp1_as_field, exp2_as_field, exp3_as_field])\n",
    "\n",
    "combined_experiments_fields[1]\n"
   ]
  },
  {
   "cell_type": "code",
   "execution_count": 131,
   "metadata": {},
   "outputs": [],
   "source": [
    "#| export\n",
    "def _model_to_dict(model: NotionModel) -> dict:\n",
    "    # drop ID filed\n",
    "    data = {}\n",
    "    for field_name in model._fields.keys():\n",
    "        if isinstance(model._fields[field_name], nmt.ID):\n",
    "            continue\n",
    "        data[field_name] = model.__getattribute__(field_name)\n",
    "    return data\n"
   ]
  },
  {
   "cell_type": "code",
   "execution_count": 132,
   "metadata": {},
   "outputs": [],
   "source": [
    "#| hide\n",
    "# test it\n",
    "for i, grouped_row in enumerate(combined_experiments_fields):\n",
    "    # add the missing fields to exp1\n",
    "    exp1_dict = _model_to_dict(exp1._entries[i])\n",
    "    exp1_dict[\"id_str\"] = str(i)\n",
    "    exp1_dict[\"experiment_name\"] = \"test_experiment_1\"\n",
    "    test_eq(grouped_row[0], exp1_dict)"
   ]
  },
  {
   "cell_type": "code",
   "execution_count": 125,
   "metadata": {},
   "outputs": [],
   "source": [
    "#| export\n",
    "def _combine_experiments(experiments: t.Sequence[Experiment]):\n",
    "    \"\"\"Group experiment rows by their title property value.\"\"\"\n",
    "    if not experiments:\n",
    "        return []\n",
    "    \n",
    "    title_property: str = _get_title_property(experiments[0].model)\n",
    "    \n",
    "    # Create a dictionary to group rows by title value\n",
    "    grouped_by_title = {}\n",
    "    \n",
    "    # Process each experiment\n",
    "    for exp in experiments:\n",
    "        for row in exp:\n",
    "            title_value = getattr(row, title_property)\n",
    "            \n",
    "            # Create key if it doesn't exist\n",
    "            if title_value not in grouped_by_title:\n",
    "                grouped_by_title[title_value] = []\n",
    "            \n",
    "            # Add this row to the appropriate group\n",
    "            row_dict = _model_to_dict(row)\n",
    "            row_dict[\"experiment_name\"] = exp.name\n",
    "            grouped_by_title[title_value].append(row_dict)\n",
    "    \n",
    "    # Convert dictionary to list and add id_str\n",
    "    result = []\n",
    "    for i, (_, rows) in enumerate(grouped_by_title.items()):\n",
    "        for row in rows:\n",
    "            row[\"id_str\"] = str(i)\n",
    "        result.append(rows)\n",
    "    \n",
    "    return result"
   ]
  },
  {
   "cell_type": "code",
   "execution_count": 129,
   "metadata": {},
   "outputs": [],
   "source": [
    "#| hide\n",
    "# lets see if the asserts pass though\n",
    "test_eq(_combine_experiments([exp1, exp2, exp3]), combined_experiments_fields)"
   ]
  },
  {
   "cell_type": "markdown",
   "metadata": {},
   "source": [
    "TODO:\n",
    "- leverage the `Dataset` object here to reduce duplicate code."
   ]
  },
  {
   "cell_type": "code",
   "execution_count": 133,
   "metadata": {},
   "outputs": [],
   "source": [
    "#| export\n",
    "@patch\n",
    "def compare_experiments(\n",
    "    self: Project,\n",
    "    *experiments: Experiment,\n",
    "):\n",
    "    _validate_experiments(experiments)\n",
    "\n",
    "    # create a combined Model with all the fields of the experiments\n",
    "    class CombinedModel(NotionModel):\n",
    "        id_str: str = nmt.Text()\n",
    "        experiment_name: str = nmt.Text()\n",
    "    for exp in experiments:\n",
    "        for field in exp.model._fields.keys():\n",
    "            if field not in CombinedModel._fields:\n",
    "                CombinedModel._fields[field] = exp.model._fields[field]\n",
    "\n",
    "    # create a new database with the combined model\n",
    "    properties = {}\n",
    "    for field in CombinedModel._fields.keys():\n",
    "        properties.update(CombinedModel._fields[field]._to_notion_property())\n",
    "    comparison_database_id = self._notion_backend.create_new_database(\n",
    "        parent_page_id=self.comparisons_page_id,\n",
    "        title=f\"{' and '.join([exp.name for exp in experiments])}\",\n",
    "        properties=properties,\n",
    "    )\n",
    "\n",
    "    # make sure all experiments are synced to upstream\n",
    "    for exp in experiments:\n",
    "        exp.load()\n",
    "\n",
    "    # group together by title property\n",
    "    grouped_experiments = _combine_experiments(experiments)\n",
    "\n",
    "    # append these to database\n",
    "    for grouped_row in tqdm(grouped_experiments, desc=\"Uploading to Notion\"):\n",
    "        for row in grouped_row:\n",
    "            combined_model_instance = CombinedModel(**row)\n",
    "            self._notion_backend.create_page_in_database(\n",
    "                database_id=comparison_database_id,\n",
    "                properties=combined_model_instance.to_notion()[\"properties\"]\n",
    "            )\n",
    "    # Get the URL for the created database\n",
    "    # The format for Notion URLs is: https://www.notion.so/{database_id}\n",
    "    notion_url = f\"https://www.notion.so/{comparison_database_id.replace('-', '')}\"\n",
    "    \n",
    "    return notion_url"
   ]
  }
 ],
 "metadata": {
  "kernelspec": {
   "display_name": ".venv",
   "language": "python",
   "name": "python3"
  },
  "language_info": {
   "codemirror_mode": {
    "name": "ipython",
    "version": 3
   },
   "file_extension": ".py",
   "mimetype": "text/x-python",
   "name": "python",
   "nbconvert_exporter": "python",
   "pygments_lexer": "ipython3",
   "version": "3.12.8"
  }
 },
 "nbformat": 4,
 "nbformat_minor": 2
}
