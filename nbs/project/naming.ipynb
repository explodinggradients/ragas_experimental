{
 "cells": [
  {
   "cell_type": "markdown",
   "metadata": {},
   "source": [
    "# Memorable Namer\n",
    "> A helper module to create fun, memorable names for experiments, datasets or anything\n",
    "\n",
    "Experiment Namer is a lightweight Python module that generates memorable, quirky names for your experiments or projects. It pairs whimsical adjectives with names of influential computer scientists and tech entrepreneurs to create distinctive identifiers like \"elegant_turing\" or \"bold_hopper\". Perfect for when you need to label multiple experiments without overthinking it, while still keeping them easily distinguishable and fun to reference."
   ]
  },
  {
   "cell_type": "code",
   "execution_count": null,
   "metadata": {},
   "outputs": [],
   "source": [
    "# | default_exp project.naming"
   ]
  },
  {
   "cell_type": "code",
   "execution_count": null,
   "metadata": {},
   "outputs": [],
   "source": [
    "#| export\n",
    "import random"
   ]
  },
  {
   "cell_type": "code",
   "execution_count": null,
   "metadata": {},
   "outputs": [],
   "source": [
    "#| export\n",
    "class MemorableNames:\n",
    "    def __init__(self):\n",
    "        # List of adjectives (similar to what Docker uses)\n",
    "        self.adjectives = [\n",
    "            \"admiring\", \"adoring\", \"affectionate\", \"agitated\", \"amazing\",\n",
    "            \"angry\", \"awesome\", \"blissful\", \"bold\", \"boring\", \"brave\", \"busy\",\n",
    "            \"charming\", \"clever\", \"cool\", \"compassionate\", \"competent\", \"condescending\",\n",
    "            \"confident\", \"cranky\", \"crazy\", \"dazzling\", \"determined\", \"distracted\",\n",
    "            \"dreamy\", \"eager\", \"ecstatic\", \"elastic\", \"elated\", \"elegant\", \"eloquent\",\n",
    "            \"epic\", \"fervent\", \"festive\", \"flamboyant\", \"focused\", \"friendly\",\n",
    "            \"frosty\", \"gallant\", \"gifted\", \"goofy\", \"gracious\", \"happy\", \"hardcore\",\n",
    "            \"heuristic\", \"hopeful\", \"hungry\", \"infallible\", \"inspiring\", \"jolly\",\n",
    "            \"jovial\", \"keen\", \"kind\", \"laughing\", \"loving\", \"lucid\", \"magical\",\n",
    "            \"mystifying\", \"modest\", \"musing\", \"naughty\", \"nervous\", \"nifty\", \"nostalgic\",\n",
    "            \"objective\", \"optimistic\", \"peaceful\", \"pedantic\", \"pensive\", \"practical\",\n",
    "            \"priceless\", \"quirky\", \"quizzical\", \"relaxed\", \"reverent\", \"romantic\",\n",
    "            \"sad\", \"serene\", \"sharp\", \"silly\", \"sleepy\", \"stoic\", \"stupefied\",\n",
    "            \"suspicious\", \"sweet\", \"tender\", \"thirsty\", \"trusting\", \"upbeat\", \"vibrant\",\n",
    "            \"vigilant\", \"vigorous\", \"wizardly\", \"wonderful\", \"xenodochial\", \"youthful\",\n",
    "            \"zealous\", \"zen\"\n",
    "        ]\n",
    "        \n",
    "        # List of influential computer scientists and tech entrepreneurs\n",
    "        self.scientists = [\n",
    "            \"turing\", \"hopper\", \"knuth\", \"torvalds\", \"ritchie\", \"thompson\",\n",
    "            \"dijkstra\", \"kay\", \"wozniak\", \"gates\", \"jobs\", \"musk\", \"bezos\",\n",
    "            \"lovelace\", \"berners_lee\", \"cerf\", \"gosling\", \"kernighan\", \"lamport\",\n",
    "            \"mccarthy\", \"minsky\", \"rossum\", \"backus\", \"engelbart\", \"hamilton\",\n",
    "            \"chomsky\", \"shannon\", \"zuckerberg\", \"page\", \"brin\", \"matsumoto\",\n",
    "            \"stallman\", \"stroustrup\", \"cook\", \"neumann\", \"babbage\", \"tanenbaum\",\n",
    "            \"rivest\", \"shamir\", \"adleman\", \"carmack\", \"andreessen\", \"ullman\",\n",
    "            \"postel\", \"huffman\", \"boole\", \"curry\", \"liskov\", \"wing\", \"goldwasser\",\n",
    "            \"hoare\", \"milner\", \"perlis\", \"sutherland\", \"tarjan\", \"valiant\",\n",
    "            \"yao\", \"hopcroft\", \"naur\", \"wilkes\", \"codd\", \"diffie\", \"hellman\",\n",
    "            \"pearl\", \"thiel\", \"narayen\", \"nadella\", \"pichai\", \"dorsey\"\n",
    "        ]\n",
    "        \n",
    "        self.used_names = set()\n",
    "    \n",
    "    def generate_name(self):\n",
    "        \"\"\"Generate a single experiment name.\"\"\"\n",
    "        adjective = random.choice(self.adjectives)\n",
    "        scientist = random.choice(self.scientists)\n",
    "        return f\"{adjective}_{scientist}\"\n",
    "    \n",
    "    def generate_unique_name(self):\n",
    "        \"\"\"Generate a unique experiment name.\"\"\"\n",
    "        attempts = 0\n",
    "        max_attempts = 100  # Prevent infinite loops\n",
    "        \n",
    "        while attempts < max_attempts:\n",
    "            name = self.generate_name()\n",
    "            if name not in self.used_names:\n",
    "                self.used_names.add(name)\n",
    "                return name\n",
    "            attempts += 1\n",
    "            \n",
    "        # If we exhaust our combinations, add a random suffix\n",
    "        base_name = self.generate_name()\n",
    "        unique_name = f\"{base_name}_{random.randint(1000, 9999)}\"\n",
    "        self.used_names.add(unique_name)\n",
    "        return unique_name\n",
    "    \n",
    "    def generate_unique_names(self, count):\n",
    "        \"\"\"Generate multiple unique experiment names.\"\"\"\n",
    "        return [self.generate_unique_name() for _ in range(count)]"
   ]
  },
  {
   "cell_type": "code",
   "execution_count": null,
   "metadata": {},
   "outputs": [
    {
     "data": {
      "text/plain": [
       "['hardcore_liskov',\n",
       " 'cranky_ritchie',\n",
       " 'cool_zuckerberg',\n",
       " 'competent_berners_lee',\n",
       " 'serene_huffman',\n",
       " 'awesome_engelbart',\n",
       " 'reverent_valiant',\n",
       " 'romantic_stallman',\n",
       " 'zen_carmack',\n",
       " 'musing_page']"
      ]
     },
     "execution_count": null,
     "metadata": {},
     "output_type": "execute_result"
    }
   ],
   "source": [
    "mn = MemorableNames()\n",
    "mn.generate_unique_names(10)"
   ]
  },
  {
   "cell_type": "code",
   "execution_count": null,
   "metadata": {},
   "outputs": [
    {
     "data": {
      "text/plain": [
       "6762"
      ]
     },
     "execution_count": null,
     "metadata": {},
     "output_type": "execute_result"
    }
   ],
   "source": [
    "# now many combinations are there?\n",
    "len(mn.scientists) * len(mn.adjectives)"
   ]
  },
  {
   "cell_type": "code",
   "execution_count": null,
   "metadata": {},
   "outputs": [],
   "source": []
  }
 ],
 "metadata": {
  "kernelspec": {
   "display_name": "python3",
   "language": "python",
   "name": "python3"
  }
 },
 "nbformat": 4,
 "nbformat_minor": 2
}
