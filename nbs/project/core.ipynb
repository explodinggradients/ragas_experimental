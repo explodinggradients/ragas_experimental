{
 "cells": [
  {
   "cell_type": "markdown",
   "metadata": {},
   "source": [
    "# `Project`\n",
    "\n",
    "> Use this class to represent the AI project that we are working on and to interact with datasets and experiments in it."
   ]
  },
  {
   "cell_type": "code",
   "execution_count": 1,
   "metadata": {},
   "outputs": [],
   "source": [
    "# | default_exp project.core"
   ]
  },
  {
   "cell_type": "code",
   "execution_count": 1,
   "metadata": {},
   "outputs": [],
   "source": [
    "# | hide\n",
    "from nbdev.showdoc import *"
   ]
  },
  {
   "cell_type": "code",
   "execution_count": 2,
   "metadata": {},
   "outputs": [],
   "source": [
    "\n",
    "from ragas_annotator.model.notion_model import NotionModel"
   ]
  },
  {
   "cell_type": "code",
   "execution_count": 3,
   "metadata": {},
   "outputs": [],
   "source": [
    "# | export\n",
    "import typing as t\n",
    "import os\n",
    "import asyncio\n",
    "import functools\n",
    "\n",
    "from fastcore.utils import patch\n",
    "from pydantic import BaseModel\n",
    "\n",
    "from ragas_annotator.backends.factory import RagasApiClientFactory\n",
    "from ragas_annotator.backends.ragas_api_client import RagasApiClient\n",
    "import ragas_annotator.typing as rt\n",
    "from ragas_annotator.dataset import Dataset\n",
    "from ragas_annotator.experiment import Experiment"
   ]
  },
  {
   "cell_type": "code",
   "execution_count": 4,
   "metadata": {},
   "outputs": [],
   "source": [
    "# | export\n",
    "def async_to_sync(async_func):\n",
    "    \"\"\"Convert an async function to a sync function\"\"\"\n",
    "    @functools.wraps(async_func)\n",
    "    def sync_wrapper(*args, **kwargs):\n",
    "        try:\n",
    "            loop = asyncio.get_event_loop()\n",
    "            if loop.is_running():\n",
    "                import concurrent.futures\n",
    "                with concurrent.futures.ThreadPoolExecutor() as executor:\n",
    "                    future = executor.submit(asyncio.run, async_func(*args, **kwargs))\n",
    "                    return future.result()\n",
    "            else:\n",
    "                return loop.run_until_complete(async_func(*args, **kwargs))\n",
    "        except RuntimeError:\n",
    "            return asyncio.run(async_func(*args, **kwargs))\n",
    "    return sync_wrapper"
   ]
  },
  {
   "cell_type": "code",
   "execution_count": 5,
   "metadata": {},
   "outputs": [],
   "source": [
    "# | export\n",
    "class Project:\n",
    "    def _create_ragas_app_client(self):\n",
    "        if ragas_app_client is None:\n",
    "            self._ragas_app_client = RagasApiClientFactory.create()\n",
    "        else:\n",
    "            self._ragas_app_client = ragas_app_client\n",
    "\n",
    "    def __init__(\n",
    "        self,\n",
    "        project_id: str,\n",
    "        ragas_app_client: t.Optional[RagasApiClient] = None,\n",
    "    ):\n",
    "        self.project_id = project_id\n",
    "        if ragas_app_client is None:\n",
    "            self._ragas_app_client = RagasApiClientFactory.create()\n",
    "        else:\n",
    "            self._ragas_app_client = ragas_app_client\n",
    "\n",
    "        # create the project\n",
    "        try:\n",
    "            sync_version = async_to_sync(self._ragas_app_client.get_project)\n",
    "            existing_project = sync_version(project_id=self.project_id)\n",
    "            self.project_id = existing_project[\"id\"]\n",
    "            self.name = existing_project[\"title\"]\n",
    "            self.description = existing_project[\"description\"]\n",
    "        except Exception as e:\n",
    "            raise e\n",
    "\n",
    "    @classmethod\n",
    "    def create(\n",
    "        cls,\n",
    "        name: str,\n",
    "        description: str = \"\",\n",
    "        ragas_app_client: t.Optional[RagasApiClient] = None,\n",
    "    ):\n",
    "        ragas_app_client = RagasApiClientFactory.create()\n",
    "        sync_version = async_to_sync(ragas_app_client.create_project)\n",
    "        new_project = sync_version(title=name, description=description)\n",
    "        return cls(new_project[\"id\"], ragas_app_client)\n",
    "\n",
    "    def delete(self):\n",
    "        sync_version = async_to_sync(self._ragas_app_client.delete_project)\n",
    "        sync_version(project_id=self.project_id)\n",
    "        print(\"Project deleted!\")\n",
    "\n",
    "    def __repr__(self):\n",
    "        return f\"Project(name='{self.name}')\""
   ]
  },
  {
   "cell_type": "code",
   "execution_count": 6,
   "metadata": {},
   "outputs": [],
   "source": [
    "RAGAS_APP_TOKEN = \"apt.47bd-c55e4a45b27c-02f8-8446-1441f09b-651a8\"\n",
    "RAGAS_API_BASE_URL = \"https://api.dev.app.ragas.io\"\n",
    "\n",
    "os.environ[\"RAGAS_APP_TOKEN\"] = RAGAS_APP_TOKEN\n",
    "os.environ[\"RAGAS_API_BASE_URL\"] = RAGAS_API_BASE_URL"
   ]
  },
  {
   "cell_type": "code",
   "execution_count": 12,
   "metadata": {},
   "outputs": [
    {
     "data": {
      "text/plain": [
       "Project(name='test_dataset')"
      ]
     },
     "execution_count": 12,
     "metadata": {},
     "output_type": "execute_result"
    }
   ],
   "source": [
    "project = Project.create(\"test_dataset\")\n",
    "project"
   ]
  },
  {
   "cell_type": "code",
   "execution_count": 8,
   "metadata": {},
   "outputs": [],
   "source": [
    "#project.delete()"
   ]
  },
  {
   "cell_type": "markdown",
   "metadata": {},
   "source": [
    "## Manage datasets\n",
    "\n"
   ]
  },
  {
   "cell_type": "code",
   "execution_count": 9,
   "metadata": {},
   "outputs": [],
   "source": [
    "from ragas_annotator.backends.ragas_api_client import create_nano_id"
   ]
  },
  {
   "cell_type": "code",
   "execution_count": 10,
   "metadata": {},
   "outputs": [],
   "source": [
    "async def create_dataset_columns(project_id, dataset_id, columns, create_dataset_column_func):\n",
    "    tasks = []\n",
    "    for column in columns:\n",
    "        tasks.append(create_dataset_column_func(\n",
    "            project_id=project_id,\n",
    "            dataset_id=dataset_id,\n",
    "            id=create_nano_id(),\n",
    "            name=column[\"name\"],\n",
    "            type=column[\"type\"],\n",
    "            settings={\n",
    "                \"max_length\": 255,\n",
    "                \"is_required\": True,\n",
    "            },\n",
    "        ))\n",
    "    return await asyncio.gather(*tasks)\n"
   ]
  },
  {
   "cell_type": "code",
   "execution_count": 11,
   "metadata": {},
   "outputs": [],
   "source": [
    "# | export\n",
    "@patch\n",
    "def create_dataset(\n",
    "    self: Project, model: t.Type[BaseModel], name: t.Optional[str] = None\n",
    ") -> Dataset:\n",
    "    \"\"\"Create a new dataset database.\n",
    "\n",
    "    Args:\n",
    "        name (str): Name of the dataset\n",
    "        model (NotionModel): Model class defining the database structure\n",
    "\n",
    "    Returns:\n",
    "        Dataset: A new dataset object for managing entries\n",
    "    \"\"\"\n",
    "    # create the dataset\n",
    "    sync_version = async_to_sync(self._ragas_app_client.create_dataset)\n",
    "    dataset_info = sync_version(\n",
    "        project_id=self.project_id,\n",
    "        name=name if name is not None else model.__name__,\n",
    "    )\n",
    "\n",
    "    # create the columns for the dataset\n",
    "    column_types = rt.ModelConverter.model_to_columns(model)\n",
    "    sync_version = async_to_sync(create_dataset_columns)\n",
    "    sync_version(\n",
    "        project_id=self.project_id,\n",
    "        dataset_id=dataset_info[\"id\"],\n",
    "        columns=column_types,\n",
    "        create_dataset_column_func=self._ragas_app_client.create_dataset_column,\n",
    "    )\n",
    "        \n",
    "    return\n",
    "    # Return a new Dataset instance\n",
    "    return Dataset(\n",
    "        name=name if name is not None else model.__name__,\n",
    "        model=model,\n",
    "        database_id=database_id,\n",
    "        notion_backend=self._ragas_app_client,\n",
    "    )"
   ]
  },
  {
   "cell_type": "code",
   "execution_count": 13,
   "metadata": {},
   "outputs": [
    {
     "name": "stdout",
     "output_type": "stream",
     "text": [
      "name text 3d719a9a-f91a-4f78-9e32-02a264ed6381 08247329-fa89-420d-aace-1e4c036c1b8f\n",
      "description text 3d719a9a-f91a-4f78-9e32-02a264ed6381 08247329-fa89-420d-aace-1e4c036c1b8f\n"
     ]
    }
   ],
   "source": [
    "# create an example dataset\n",
    "class TestModel(BaseModel):\n",
    "    name: str\n",
    "    description: str\n",
    "\n",
    "\n",
    "test_dataset = project.create_dataset(TestModel)\n",
    "test_dataset"
   ]
  },
  {
   "cell_type": "code",
   "execution_count": null,
   "metadata": {},
   "outputs": [
    {
     "data": {
      "text/plain": [
       "'TestModel'"
      ]
     },
     "execution_count": null,
     "metadata": {},
     "output_type": "execute_result"
    }
   ],
   "source": [
    "test_dataset.name"
   ]
  },
  {
   "cell_type": "code",
   "execution_count": null,
   "metadata": {},
   "outputs": [],
   "source": [
    "# | export\n",
    "@patch\n",
    "def get_dataset(self: Project, name: str, model) -> Dataset:\n",
    "    \"\"\"Get an existing dataset by name.\"\"\"\n",
    "    if self.datasets_page_id == \"\":\n",
    "        raise ValueError(\"Datasets page ID is not set\")\n",
    "\n",
    "    # Search for database with given name\n",
    "    database_id = self._ragas_app_client.get_database_id(\n",
    "        parent_page_id=self.datasets_page_id, name=name, return_multiple=False\n",
    "    )\n",
    "\n",
    "    # For now, return Dataset without model type\n",
    "    return Dataset(\n",
    "        name=name,\n",
    "        model=model,\n",
    "        database_id=database_id,\n",
    "        notion_backend=self._ragas_app_client,\n",
    "    )"
   ]
  },
  {
   "cell_type": "code",
   "execution_count": null,
   "metadata": {},
   "outputs": [],
   "source": []
  }
 ],
 "metadata": {
  "kernelspec": {
   "display_name": ".venv",
   "language": "python",
   "name": "python3"
  },
  "language_info": {
   "codemirror_mode": {
    "name": "ipython",
    "version": 3
   },
   "file_extension": ".py",
   "mimetype": "text/x-python",
   "name": "python",
   "nbconvert_exporter": "python",
   "pygments_lexer": "ipython3",
   "version": "3.12.8"
  }
 },
 "nbformat": 4,
 "nbformat_minor": 4
}
