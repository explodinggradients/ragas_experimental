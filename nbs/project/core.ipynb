{
 "cells": [
  {
   "cell_type": "markdown",
   "metadata": {},
   "source": [
    "# Project\n",
    "\n",
    "> Use this class to represent the AI project that we are working on and to interact with datasets and experiments in it."
   ]
  },
  {
   "cell_type": "code",
   "execution_count": null,
   "metadata": {},
   "outputs": [],
   "source": [
    "# | default_exp project.core"
   ]
  },
  {
   "cell_type": "code",
   "execution_count": null,
   "metadata": {},
   "outputs": [],
   "source": [
    "# | hide\n",
    "from nbdev.showdoc import *"
   ]
  },
  {
   "cell_type": "code",
   "execution_count": null,
   "metadata": {},
   "outputs": [],
   "source": [
    "\n",
    "from ragas_experimental.model.notion_model import NotionModel"
   ]
  },
  {
   "cell_type": "code",
   "execution_count": null,
   "metadata": {},
   "outputs": [],
   "source": [
    "# | export\n",
    "import typing as t\n",
    "import os\n",
    "import asyncio\n",
    "\n",
    "from fastcore.utils import patch\n",
    "from pydantic import BaseModel\n",
    "\n",
    "from ragas_experimental.backends.factory import RagasApiClientFactory\n",
    "from ragas_experimental.backends.ragas_api_client import RagasApiClient\n",
    "import ragas_experimental.typing as rt\n",
    "from ragas_experimental.utils import async_to_sync, create_nano_id\n",
    "from ragas_experimental.dataset import Dataset\n",
    "from ragas_experimental.experiment import Experiment"
   ]
  },
  {
   "cell_type": "code",
   "execution_count": null,
   "metadata": {},
   "outputs": [],
   "source": [
    "# | export\n",
    "class Project:\n",
    "    def __init__(\n",
    "        self,\n",
    "        project_id: str,\n",
    "        ragas_app_client: t.Optional[RagasApiClient] = None,\n",
    "    ):\n",
    "        self.project_id = project_id\n",
    "        if ragas_app_client is None:\n",
    "            self._ragas_api_client = RagasApiClientFactory.create()\n",
    "        else:\n",
    "            self._ragas_api_client = ragas_app_client\n",
    "\n",
    "        # create the project\n",
    "        try:\n",
    "            sync_version = async_to_sync(self._ragas_api_client.get_project)\n",
    "            existing_project = sync_version(project_id=self.project_id)\n",
    "            self.project_id = existing_project[\"id\"]\n",
    "            self.name = existing_project[\"title\"]\n",
    "            self.description = existing_project[\"description\"]\n",
    "        except Exception as e:\n",
    "            raise e\n",
    "\n",
    "    @classmethod\n",
    "    def create(\n",
    "        cls,\n",
    "        name: str,\n",
    "        description: str = \"\",\n",
    "        ragas_app_client: t.Optional[RagasApiClient] = None,\n",
    "    ):\n",
    "        ragas_app_client = RagasApiClientFactory.create()\n",
    "        sync_version = async_to_sync(ragas_app_client.create_project)\n",
    "        new_project = sync_version(title=name, description=description)\n",
    "        return cls(new_project[\"id\"], ragas_app_client)\n",
    "\n",
    "    def delete(self):\n",
    "        sync_version = async_to_sync(self._ragas_api_client.delete_project)\n",
    "        sync_version(project_id=self.project_id)\n",
    "        print(\"Project deleted!\")\n",
    "\n",
    "    def __repr__(self):\n",
    "        return f\"Project(name='{self.name}')\""
   ]
  },
  {
   "cell_type": "code",
   "execution_count": null,
   "metadata": {},
   "outputs": [],
   "source": [
    "RAGAS_APP_TOKEN = \"apt.47bd-c55e4a45b27c-02f8-8446-1441f09b-651a8\"\n",
    "RAGAS_API_BASE_URL = \"https://api.dev.app.ragas.io\"\n",
    "\n",
    "os.environ[\"RAGAS_APP_TOKEN\"] = RAGAS_APP_TOKEN\n",
    "os.environ[\"RAGAS_API_BASE_URL\"] = RAGAS_API_BASE_URL"
   ]
  },
  {
   "cell_type": "code",
   "execution_count": null,
   "metadata": {},
   "outputs": [
    {
     "data": {
      "text/plain": [
       "Project(name='yann-lecun-wisdom')"
      ]
     },
     "execution_count": null,
     "metadata": {},
     "output_type": "execute_result"
    }
   ],
   "source": [
    "#project = Project.create(\"Demo Project\")\n",
    "project = Project(project_id=\"1ef0843b-231f-4a2c-b64d-d39bcee9d830\")\n",
    "project"
   ]
  },
  {
   "cell_type": "code",
   "execution_count": null,
   "metadata": {},
   "outputs": [],
   "source": [
    "# | export\n",
    "@patch(cls_method=True)\n",
    "def get(cls: Project, name: str, ragas_app_client: t.Optional[RagasApiClient] = None) -> Project:\n",
    "    \"\"\"Get an existing project by name.\"\"\"\n",
    "    # Search for project with given name\n",
    "    if ragas_app_client is None:\n",
    "        ragas_app_client = RagasApiClientFactory.create()\n",
    "\n",
    "    # get the project by name\n",
    "    sync_version = async_to_sync(ragas_app_client.get_project_by_name)\n",
    "    project_info = sync_version(\n",
    "        project_name=name\n",
    "    )\n",
    "\n",
    "    # Return Project instance\n",
    "    return Project(\n",
    "        project_id=project_info[\"id\"],\n",
    "        ragas_app_client=ragas_app_client,\n",
    "    )"
   ]
  },
  {
   "cell_type": "code",
   "execution_count": null,
   "metadata": {},
   "outputs": [
    {
     "data": {
      "text/plain": [
       "Project(name='SuperMe')"
      ]
     },
     "execution_count": null,
     "metadata": {},
     "output_type": "execute_result"
    }
   ],
   "source": [
    "Project.get(\"SuperMe\")"
   ]
  },
  {
   "cell_type": "code",
   "execution_count": null,
   "metadata": {},
   "outputs": [],
   "source": [
    "#project.delete()"
   ]
  },
  {
   "cell_type": "markdown",
   "metadata": {},
   "source": [
    "## Manage datasets\n",
    "\n"
   ]
  },
  {
   "cell_type": "code",
   "execution_count": null,
   "metadata": {},
   "outputs": [],
   "source": [
    "#| export\n",
    "async def create_dataset_columns(project_id, dataset_id, columns, create_dataset_column_func):\n",
    "    tasks = []\n",
    "    for column in columns:\n",
    "        tasks.append(create_dataset_column_func(\n",
    "            project_id=project_id,\n",
    "            dataset_id=dataset_id,\n",
    "            id=create_nano_id(),\n",
    "            name=column[\"name\"],\n",
    "            type=column[\"type\"],\n",
    "            settings=column[\"settings\"],\n",
    "        ))\n",
    "    return await asyncio.gather(*tasks)\n"
   ]
  },
  {
   "cell_type": "code",
   "execution_count": null,
   "metadata": {},
   "outputs": [],
   "source": [
    "# | export\n",
    "@patch\n",
    "def create_dataset(\n",
    "    self: Project, model: t.Type[BaseModel], name: t.Optional[str] = None\n",
    ") -> Dataset:\n",
    "    \"\"\"Create a new dataset database.\n",
    "\n",
    "    Args:\n",
    "        name (str): Name of the dataset\n",
    "        model (NotionModel): Model class defining the database structure\n",
    "\n",
    "    Returns:\n",
    "        Dataset: A new dataset object for managing entries\n",
    "    \"\"\"\n",
    "    # create the dataset\n",
    "    sync_version = async_to_sync(self._ragas_api_client.create_dataset)\n",
    "    dataset_info = sync_version(\n",
    "        project_id=self.project_id,\n",
    "        name=name if name is not None else model.__name__,\n",
    "    )\n",
    "\n",
    "    # create the columns for the dataset\n",
    "    column_types = rt.ModelConverter.model_to_columns(model)\n",
    "    sync_version = async_to_sync(create_dataset_columns)\n",
    "    sync_version(\n",
    "        project_id=self.project_id,\n",
    "        dataset_id=dataset_info[\"id\"],\n",
    "        columns=column_types,\n",
    "        create_dataset_column_func=self._ragas_api_client.create_dataset_column,\n",
    "    )\n",
    "        \n",
    "    # Return a new Dataset instance\n",
    "    return Dataset(\n",
    "        name=name if name is not None else model.__name__,\n",
    "        model=model,\n",
    "        project_id=self.project_id,\n",
    "        dataset_id=dataset_info[\"id\"],\n",
    "        ragas_api_client=self._ragas_api_client,\n",
    "    )"
   ]
  },
  {
   "cell_type": "code",
   "execution_count": null,
   "metadata": {},
   "outputs": [],
   "source": [
    "import ragas_experimental.typing as rt"
   ]
  },
  {
   "cell_type": "code",
   "execution_count": null,
   "metadata": {},
   "outputs": [],
   "source": [
    "# create an example dataset\n",
    "class TestModel(BaseModel):\n",
    "    id: int\n",
    "    name: str\n",
    "    description: str\n",
    "    tags: t.Literal[\"tag1\", \"tag2\", \"tag3\"]\n",
    "    tags_color_coded: t.Annotated[t.Literal[\"red\", \"green\", \"blue\"], rt.Select(colors=[\"red\", \"green\", \"blue\"])]\n",
    "    url: t.Annotated[str, rt.Url()] = \"https://www.google.com\""
   ]
  },
  {
   "cell_type": "code",
   "execution_count": null,
   "metadata": {},
   "outputs": [
    {
     "data": {
      "text/plain": [
       "Dataset(name=TestModel, model=TestModel, len=0)"
      ]
     },
     "execution_count": null,
     "metadata": {},
     "output_type": "execute_result"
    }
   ],
   "source": [
    "\n",
    "test_dataset = project.create_dataset(TestModel)\n",
    "test_dataset"
   ]
  },
  {
   "cell_type": "code",
   "execution_count": null,
   "metadata": {},
   "outputs": [],
   "source": [
    "# | export\n",
    "@patch\n",
    "def get_dataset_by_id(self: Project, dataset_id: str, model) -> Dataset:\n",
    "    \"\"\"Get an existing dataset by name.\"\"\"\n",
    "    # Search for database with given name\n",
    "    sync_version = async_to_sync(self._ragas_api_client.get_dataset)\n",
    "    dataset_info = sync_version(\n",
    "        project_id=self.project_id,\n",
    "        dataset_id=dataset_id\n",
    "    )\n",
    "\n",
    "    # For now, return Dataset without model type\n",
    "    return Dataset(\n",
    "        name=dataset_info[\"name\"],\n",
    "        model=model,\n",
    "        project_id=self.project_id,\n",
    "        dataset_id=dataset_id,\n",
    "        ragas_api_client=self._ragas_api_client,\n",
    "    )"
   ]
  },
  {
   "cell_type": "code",
   "execution_count": null,
   "metadata": {},
   "outputs": [
    {
     "data": {
      "text/plain": [
       "Dataset(name=TestModel, model=TestModel, len=0)"
      ]
     },
     "execution_count": null,
     "metadata": {},
     "output_type": "execute_result"
    }
   ],
   "source": [
    "project.get_dataset_by_id(test_dataset.dataset_id, TestModel)"
   ]
  },
  {
   "cell_type": "code",
   "execution_count": null,
   "metadata": {},
   "outputs": [],
   "source": [
    "# | export\n",
    "@patch\n",
    "def get_dataset(self: Project, dataset_name: str, model) -> Dataset:\n",
    "    \"\"\"Get an existing dataset by name.\"\"\"\n",
    "    # Search for dataset with given name\n",
    "    sync_version = async_to_sync(self._ragas_api_client.get_dataset_by_name)\n",
    "    dataset_info = sync_version(\n",
    "        project_id=self.project_id,\n",
    "        dataset_name=dataset_name\n",
    "    )\n",
    "\n",
    "    # Return Dataset instance\n",
    "    return Dataset(\n",
    "        name=dataset_info[\"name\"],\n",
    "        model=model,\n",
    "        project_id=self.project_id,\n",
    "        dataset_id=dataset_info[\"id\"],\n",
    "        ragas_api_client=self._ragas_api_client,\n",
    "    )"
   ]
  },
  {
   "cell_type": "code",
   "execution_count": null,
   "metadata": {},
   "outputs": [
    {
     "data": {
      "text/plain": [
       "Dataset(name=TestModel, model=TestModel, len=0)"
      ]
     },
     "execution_count": null,
     "metadata": {},
     "output_type": "execute_result"
    }
   ],
   "source": [
    "project.get_dataset(\"TestModel\", TestModel)"
   ]
  }
 ],
 "metadata": {
  "kernelspec": {
   "display_name": "python3",
   "language": "python",
   "name": "python3"
  }
 },
 "nbformat": 4,
 "nbformat_minor": 4
}
