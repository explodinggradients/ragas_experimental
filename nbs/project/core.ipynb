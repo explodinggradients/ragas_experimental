{
 "cells": [
  {
   "cell_type": "markdown",
   "metadata": {},
   "source": [
    "# `Project`\n",
    "\n",
    "> Use this class to represent the AI project that we are working on and to interact with datasets and experiments in it."
   ]
  },
  {
   "cell_type": "code",
   "execution_count": 1,
   "metadata": {},
   "outputs": [],
   "source": [
    "# | default_exp project.core"
   ]
  },
  {
   "cell_type": "code",
   "execution_count": 2,
   "metadata": {},
   "outputs": [],
   "source": [
    "# | hide\n",
    "from nbdev.showdoc import *"
   ]
  },
  {
   "cell_type": "code",
   "execution_count": 3,
   "metadata": {},
   "outputs": [],
   "source": [
    "# | export\n",
    "import typing as t\n",
    "import os\n",
    "\n",
    "from notion_client import Client as NotionClient\n",
    "from fastcore.utils import patch\n",
    "\n",
    "from ragas_annotator.backends.notion_backend import NotionBackend\n",
    "from ragas_annotator.model.notion_model import NotionModel\n",
    "import ragas_annotator.model.notion_typing as nmt\n",
    "from ragas_annotator.dataset import Dataset\n",
    "from ragas_annotator.experiment import Experiment"
   ]
  },
  {
   "cell_type": "code",
   "execution_count": 4,
   "metadata": {},
   "outputs": [],
   "source": [
    "# | export\n",
    "class Project:\n",
    "    def __init__(\n",
    "        self,\n",
    "        name: str,\n",
    "        notion_repo: t.Optional[NotionBackend] = None,\n",
    "        notion_api_key: t.Optional[str] = None,\n",
    "        notion_root_page_id: t.Optional[str] = None,\n",
    "    ):\n",
    "        self.name = name\n",
    "        self.datasets_page_id = \"\"\n",
    "        self.experiments_page_id = \"\"\n",
    "        self.comparisons_page_id = \"\"\n",
    "\n",
    "        if notion_repo is None:\n",
    "            # check that the environment variables are set\n",
    "            notion_api_key = os.getenv(\"NOTION_API_KEY\") or notion_api_key\n",
    "            notion_root_page_id = (\n",
    "                os.getenv(\"NOTION_ROOT_PAGE_ID\") or notion_root_page_id\n",
    "            )\n",
    "\n",
    "            if notion_api_key is None:\n",
    "                raise ValueError(\"NOTION_API_KEY is not set\")\n",
    "\n",
    "            if notion_root_page_id is None:\n",
    "                raise ValueError(\"NOTION_ROOT_PAGE_ID is not set\")\n",
    "\n",
    "            self._notion_backend = NotionBackend(\n",
    "                notion_client=NotionClient(auth=notion_api_key),\n",
    "                root_page_id=notion_root_page_id,\n",
    "            )\n",
    "        else:\n",
    "            self._notion_backend = notion_repo\n",
    "\n",
    "        # initialize the project structure\n",
    "        self.initialize()\n",
    "\n",
    "    def initialize(self):\n",
    "        \"\"\"Initialize the project structure in Notion.\"\"\"\n",
    "        root_page_id = self._notion_backend.root_page_id\n",
    "\n",
    "        # if page doesn't exist, create it\n",
    "        if not self._notion_backend.page_exists(root_page_id):\n",
    "            raise ValueError(f\"Root page '{root_page_id}' does not exist\")\n",
    "        # if page exists, but structure is invalid\n",
    "        elif not self._notion_backend.validate_project_structure(root_page_id):\n",
    "            # create the missing pages\n",
    "            print(f\"Creating missing pages inside root page '{root_page_id}'\")\n",
    "            self._create_project_structure(root_page_id)\n",
    "        else:\n",
    "            # if page exists and structure is valid, get the page ids\n",
    "            # for datasets, experiments, and comparisons\n",
    "            self.datasets_page_id = self._notion_backend.get_page_id(\n",
    "                root_page_id, \"Datasets\"\n",
    "            )\n",
    "            self.experiments_page_id = self._notion_backend.get_page_id(\n",
    "                root_page_id, \"Experiments\"\n",
    "            )\n",
    "            self.comparisons_page_id = self._notion_backend.get_page_id(\n",
    "                root_page_id, \"Comparisons\"\n",
    "            )\n",
    "\n",
    "    def _create_project_structure(self, root_page_id: str):\n",
    "        \"\"\"Create the basic project structure with required pages.\"\"\"\n",
    "        # Create each required page\n",
    "        self.datasets_page_id = self._notion_backend.create_new_page(\n",
    "            root_page_id, \"Datasets\"\n",
    "        )\n",
    "        self.experiments_page_id = self._notion_backend.create_new_page(\n",
    "            root_page_id, \"Experiments\"\n",
    "        )\n",
    "        self.comparisons_page_id = self._notion_backend.create_new_page(\n",
    "            root_page_id, \"Comparisons\"\n",
    "        )\n",
    "\n",
    "    def __repr__(self):\n",
    "        return f\"Project(name='{self.name}', root_page_id={self._notion_backend.root_page_id})\""
   ]
  },
  {
   "cell_type": "code",
   "execution_count": 5,
   "metadata": {},
   "outputs": [],
   "source": [
    "# | hide\n",
    "root_page_id = \"1b05d9bf94ff8092b52ae8d676e6abf2\""
   ]
  },
  {
   "cell_type": "code",
   "execution_count": 6,
   "metadata": {},
   "outputs": [
    {
     "ename": "ValueError",
     "evalue": "NOTION_API_KEY is not set",
     "output_type": "error",
     "traceback": [
      "\u001b[31m---------------------------------------------------------------------------\u001b[39m",
      "\u001b[31mValueError\u001b[39m                                Traceback (most recent call last)",
      "\u001b[36mCell\u001b[39m\u001b[36m \u001b[39m\u001b[32mIn[6]\u001b[39m\u001b[32m, line 1\u001b[39m\n\u001b[32m----> \u001b[39m\u001b[32m1\u001b[39m project = \u001b[43mProject\u001b[49m\u001b[43m(\u001b[49m\u001b[33;43m\"\u001b[39;49m\u001b[33;43mMy Project\u001b[39;49m\u001b[33;43m\"\u001b[39;49m\u001b[43m,\u001b[49m\u001b[43m \u001b[49m\u001b[43mnotion_root_page_id\u001b[49m\u001b[43m=\u001b[49m\u001b[43mroot_page_id\u001b[49m\u001b[43m)\u001b[49m\n\u001b[32m      2\u001b[39m project\n",
      "\u001b[36mCell\u001b[39m\u001b[36m \u001b[39m\u001b[32mIn[4]\u001b[39m\u001b[32m, line 23\u001b[39m, in \u001b[36mProject.__init__\u001b[39m\u001b[34m(self, name, notion_repo, notion_api_key, notion_root_page_id)\u001b[39m\n\u001b[32m     18\u001b[39m notion_root_page_id = (\n\u001b[32m     19\u001b[39m     os.getenv(\u001b[33m\"\u001b[39m\u001b[33mNOTION_ROOT_PAGE_ID\u001b[39m\u001b[33m\"\u001b[39m) \u001b[38;5;129;01mor\u001b[39;00m notion_root_page_id\n\u001b[32m     20\u001b[39m )\n\u001b[32m     22\u001b[39m \u001b[38;5;28;01mif\u001b[39;00m notion_api_key \u001b[38;5;129;01mis\u001b[39;00m \u001b[38;5;28;01mNone\u001b[39;00m:\n\u001b[32m---> \u001b[39m\u001b[32m23\u001b[39m     \u001b[38;5;28;01mraise\u001b[39;00m \u001b[38;5;167;01mValueError\u001b[39;00m(\u001b[33m\"\u001b[39m\u001b[33mNOTION_API_KEY is not set\u001b[39m\u001b[33m\"\u001b[39m)\n\u001b[32m     25\u001b[39m \u001b[38;5;28;01mif\u001b[39;00m notion_root_page_id \u001b[38;5;129;01mis\u001b[39;00m \u001b[38;5;28;01mNone\u001b[39;00m:\n\u001b[32m     26\u001b[39m     \u001b[38;5;28;01mraise\u001b[39;00m \u001b[38;5;167;01mValueError\u001b[39;00m(\u001b[33m\"\u001b[39m\u001b[33mNOTION_ROOT_PAGE_ID is not set\u001b[39m\u001b[33m\"\u001b[39m)\n",
      "\u001b[31mValueError\u001b[39m: NOTION_API_KEY is not set"
     ]
    }
   ],
   "source": [
    "project = Project(\"My Project\", notion_root_page_id=root_page_id)\n",
    "project"
   ]
  },
  {
   "cell_type": "markdown",
   "metadata": {},
   "source": [
    "## Manage datasets\n",
    "\n"
   ]
  },
  {
   "cell_type": "code",
   "execution_count": 7,
   "metadata": {},
   "outputs": [],
   "source": [
    "# | export\n",
    "@patch\n",
    "def create_dataset(\n",
    "    self: Project, model: t.Type[NotionModel], name: t.Optional[str] = None\n",
    ") -> Dataset:\n",
    "    \"\"\"Create a new dataset database.\n",
    "\n",
    "    Args:\n",
    "        name (str): Name of the dataset\n",
    "        model (NotionModel): Model class defining the database structure\n",
    "\n",
    "    Returns:\n",
    "        Dataset: A new dataset object for managing entries\n",
    "    \"\"\"\n",
    "    # Collect all properties from model fields\n",
    "    properties = {}\n",
    "    has_title = False\n",
    "    for field_name, field in model._fields.items():\n",
    "        properties.update(field._to_notion_property())\n",
    "        if isinstance(field, nmt.Title):  # Check if we have a title field\n",
    "            has_title = True\n",
    "\n",
    "    if not has_title:\n",
    "        raise ValueError(\n",
    "            \"In order to create a dataset, the model must have a nmt.Title field\"\n",
    "        )\n",
    "\n",
    "    # Create the database\n",
    "    if self.datasets_page_id == \"\":\n",
    "        raise ValueError(\"Datasets page ID is not set\")\n",
    "    database_id = self._notion_backend.create_new_database(\n",
    "        parent_page_id=self.datasets_page_id,\n",
    "        title=name if name is not None else model.__name__,\n",
    "        properties=properties,\n",
    "    )\n",
    "\n",
    "    # Return a new Dataset instance\n",
    "    return Dataset(\n",
    "        name=name if name is not None else model.__name__,\n",
    "        model=model,\n",
    "        database_id=database_id,\n",
    "        notion_backend=self._notion_backend,\n",
    "    )"
   ]
  },
  {
   "cell_type": "code",
   "execution_count": 8,
   "metadata": {},
   "outputs": [
    {
     "ename": "NameError",
     "evalue": "name 'project' is not defined",
     "output_type": "error",
     "traceback": [
      "\u001b[31m---------------------------------------------------------------------------\u001b[39m",
      "\u001b[31mNameError\u001b[39m                                 Traceback (most recent call last)",
      "\u001b[36mCell\u001b[39m\u001b[36m \u001b[39m\u001b[32mIn[8]\u001b[39m\u001b[32m, line 7\u001b[39m\n\u001b[32m      3\u001b[39m     name: \u001b[38;5;28mstr\u001b[39m = nmt.Title()\n\u001b[32m      4\u001b[39m     description: \u001b[38;5;28mstr\u001b[39m = nmt.Text()\n\u001b[32m----> \u001b[39m\u001b[32m7\u001b[39m test_dataset = \u001b[43mproject\u001b[49m.create_dataset(TestModel)\n\u001b[32m      8\u001b[39m test_dataset\n",
      "\u001b[31mNameError\u001b[39m: name 'project' is not defined"
     ]
    }
   ],
   "source": [
    "# create an example dataset\n",
    "class TestModel(NotionModel):\n",
    "    name: str = nmt.Title()\n",
    "    description: str = nmt.Text()\n",
    "\n",
    "\n",
    "test_dataset = project.create_dataset(TestModel)\n",
    "test_dataset"
   ]
  },
  {
   "cell_type": "code",
   "execution_count": 13,
   "metadata": {},
   "outputs": [
    {
     "data": {
      "text/plain": [
       "'1b25d9bf-94ff-81b8-ad75-fe31c9e3b2d2'"
      ]
     },
     "execution_count": 13,
     "metadata": {},
     "output_type": "execute_result"
    }
   ],
   "source": [
    "test_dataset.database_id"
   ]
  },
  {
   "cell_type": "code",
   "execution_count": 14,
   "metadata": {},
   "outputs": [],
   "source": [
    "# | export\n",
    "@patch\n",
    "def get_dataset(self: Project, name: str, model: t.Type[NotionModel]) -> Dataset:\n",
    "    \"\"\"Get an existing dataset by name.\"\"\"\n",
    "    if self.datasets_page_id == \"\":\n",
    "        raise ValueError(\"Datasets page ID is not set\")\n",
    "\n",
    "    # Search for database with given name\n",
    "    database_id = self._notion_backend.get_database_id(\n",
    "        parent_page_id=self.datasets_page_id, name=name, return_multiple=False\n",
    "    )\n",
    "\n",
    "    # For now, return Dataset without model type\n",
    "    return Dataset(\n",
    "        name=name,\n",
    "        model=model,\n",
    "        database_id=database_id,\n",
    "        notion_backend=self._notion_backend,\n",
    "    )"
   ]
  }
 ],
 "metadata": {
  "kernelspec": {
   "display_name": ".venv",
   "language": "python",
   "name": "python3"
  },
  "language_info": {
   "codemirror_mode": {
    "name": "ipython",
    "version": 3
   },
   "file_extension": ".py",
   "mimetype": "text/x-python",
   "name": "python",
   "nbconvert_exporter": "python",
   "pygments_lexer": "ipython3",
   "version": "3.12.8"
  }
 },
 "nbformat": 4,
 "nbformat_minor": 4
}
