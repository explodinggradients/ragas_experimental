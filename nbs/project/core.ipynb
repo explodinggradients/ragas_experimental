{
 "cells": [
  {
   "cell_type": "markdown",
   "metadata": {},
   "source": [
    "# `Project`\n",
    "\n",
    "> Use this class to represent the AI project that we are working on and to interact with datasets and experiments in it."
   ]
  },
  {
   "cell_type": "code",
   "execution_count": null,
   "metadata": {},
   "outputs": [],
   "source": [
    "# | default_exp project.core"
   ]
  },
  {
   "cell_type": "code",
   "execution_count": null,
   "metadata": {},
   "outputs": [],
   "source": [
    "# | hide\n",
    "from nbdev.showdoc import *"
   ]
  },
  {
   "cell_type": "code",
   "execution_count": null,
   "metadata": {},
   "outputs": [],
   "source": [
    "# | export\n",
    "import typing as t\n",
    "import os\n",
    "\n",
    "from notion_client import Client as NotionClient\n",
    "from fastcore.utils import patch\n",
    "\n",
    "from ragas_annotator.backends.notion_backend import NotionBackend\n",
    "from ragas_annotator.backends.factory import NotionBackendFactory\n",
    "from ragas_annotator.model.notion_model import NotionModel\n",
    "import ragas_annotator.model.notion_typing as nmt\n",
    "from ragas_annotator.dataset import Dataset\n",
    "from ragas_annotator.experiment import Experiment"
   ]
  },
  {
   "cell_type": "code",
   "execution_count": null,
   "metadata": {},
   "outputs": [],
   "source": [
    "# | export\n",
    "class Project:\n",
    "    def __init__(\n",
    "        self,\n",
    "        name: str,\n",
    "        notion_backend: t.Optional[NotionBackend] = None,\n",
    "        notion_api_key: t.Optional[str] = None,\n",
    "        notion_root_page_id: t.Optional[str] = None,\n",
    "    ):\n",
    "        self.name = name\n",
    "        self.datasets_page_id = \"\"\n",
    "        self.experiments_page_id = \"\"\n",
    "        self.comparisons_page_id = \"\"\n",
    "\n",
    "        if notion_backend is None:\n",
    "            # check that the environment variables are set\n",
    "            notion_api_key = os.getenv(\"NOTION_API_KEY\") or notion_api_key\n",
    "            notion_root_page_id = (\n",
    "                os.getenv(\"NOTION_ROOT_PAGE_ID\") or notion_root_page_id\n",
    "            )\n",
    "\n",
    "            if notion_api_key is None:\n",
    "                raise ValueError(\"NOTION_API_KEY is not set\")\n",
    "\n",
    "            if notion_root_page_id is None:\n",
    "                raise ValueError(\"NOTION_ROOT_PAGE_ID is not set\")\n",
    "\n",
    "            if notion_api_key == \"TEST\":\n",
    "                self._notion_backend = NotionBackendFactory.create(\n",
    "                    root_page_id=notion_root_page_id,\n",
    "                    use_mock=True,\n",
    "                    initialize_project=True,\n",
    "                )\n",
    "            else:\n",
    "                self._notion_backend = NotionBackend(\n",
    "                    notion_client=NotionClient(auth=notion_api_key),\n",
    "                    root_page_id=notion_root_page_id,\n",
    "                )\n",
    "        else:\n",
    "            self._notion_backend = notion_backend\n",
    "\n",
    "        # initialize the project structure\n",
    "        self.initialize()\n",
    "\n",
    "    def initialize(self):\n",
    "        \"\"\"Initialize the project structure in Notion.\"\"\"\n",
    "        root_page_id = self._notion_backend.root_page_id\n",
    "\n",
    "        # if page doesn't exist, create it\n",
    "        if not self._notion_backend.page_exists(root_page_id):\n",
    "            raise ValueError(f\"Root page '{root_page_id}' does not exist\")\n",
    "        # if page exists, but structure is invalid\n",
    "        elif not self._notion_backend.validate_project_structure(root_page_id):\n",
    "            # create the missing pages\n",
    "            print(f\"Creating missing pages inside root page '{root_page_id}'\")\n",
    "            self._create_project_structure(root_page_id)\n",
    "        else:\n",
    "            # if page exists and structure is valid, get the page ids\n",
    "            # for datasets, experiments, and comparisons\n",
    "            self.datasets_page_id = self._notion_backend.get_page_id(\n",
    "                root_page_id, \"Datasets\"\n",
    "            )\n",
    "            self.experiments_page_id = self._notion_backend.get_page_id(\n",
    "                root_page_id, \"Experiments\"\n",
    "            )\n",
    "            self.comparisons_page_id = self._notion_backend.get_page_id(\n",
    "                root_page_id, \"Comparisons\"\n",
    "            )\n",
    "\n",
    "    def _create_project_structure(self, root_page_id: str):\n",
    "        \"\"\"Create the basic project structure with required pages.\"\"\"\n",
    "        # Create each required page\n",
    "        self.datasets_page_id = self._notion_backend.create_new_page(\n",
    "            root_page_id, \"Datasets\"\n",
    "        )\n",
    "        self.experiments_page_id = self._notion_backend.create_new_page(\n",
    "            root_page_id, \"Experiments\"\n",
    "        )\n",
    "        self.comparisons_page_id = self._notion_backend.create_new_page(\n",
    "            root_page_id, \"Comparisons\"\n",
    "        )\n",
    "\n",
    "    def __repr__(self):\n",
    "        return f\"Project(name='{self.name}', root_page_id={self._notion_backend.root_page_id})\""
   ]
  },
  {
   "cell_type": "code",
   "execution_count": null,
   "metadata": {},
   "outputs": [],
   "source": [
    "#| hide\n",
    "from ragas_annotator.backends.factory import NotionBackendFactory"
   ]
  },
  {
   "cell_type": "code",
   "execution_count": null,
   "metadata": {},
   "outputs": [],
   "source": [
    "# | hide\n",
    "notion_backend = NotionBackendFactory.create(\n",
    "    root_page_id=\"your_root_page_id\",\n",
    "    use_mock=True,\n",
    "    initialize_project=True\n",
    ")"
   ]
  },
  {
   "cell_type": "code",
   "execution_count": null,
   "metadata": {},
   "outputs": [
    {
     "data": {
      "text/plain": [
       "Project(name='My Project', root_page_id=your_root_page_id)"
      ]
     },
     "execution_count": null,
     "metadata": {},
     "output_type": "execute_result"
    }
   ],
   "source": [
    "project = Project(\"My Project\", notion_backend=notion_backend)\n",
    "project"
   ]
  },
  {
   "cell_type": "markdown",
   "metadata": {},
   "source": [
    "## Manage datasets\n",
    "\n"
   ]
  },
  {
   "cell_type": "code",
   "execution_count": null,
   "metadata": {},
   "outputs": [],
   "source": [
    "# | export\n",
    "@patch\n",
    "def create_dataset(\n",
    "    self: Project, model: t.Type[NotionModel], name: t.Optional[str] = None\n",
    ") -> Dataset:\n",
    "    \"\"\"Create a new dataset database.\n",
    "\n",
    "    Args:\n",
    "        name (str): Name of the dataset\n",
    "        model (NotionModel): Model class defining the database structure\n",
    "\n",
    "    Returns:\n",
    "        Dataset: A new dataset object for managing entries\n",
    "    \"\"\"\n",
    "    # Collect all properties from model fields\n",
    "    properties = {}\n",
    "    has_title = False\n",
    "    for field_name, field in model._fields.items():\n",
    "        properties.update(field._to_notion_property())\n",
    "        if isinstance(field, nmt.Title):  # Check if we have a title field\n",
    "            has_title = True\n",
    "\n",
    "    if not has_title:\n",
    "        raise ValueError(\n",
    "            \"In order to create a dataset, the model must have a nmt.Title field\"\n",
    "        )\n",
    "\n",
    "    # Create the database\n",
    "    if self.datasets_page_id == \"\":\n",
    "        raise ValueError(\"Datasets page ID is not set\")\n",
    "    database_id = self._notion_backend.create_new_database(\n",
    "        parent_page_id=self.datasets_page_id,\n",
    "        title=name if name is not None else model.__name__,\n",
    "        properties=properties,\n",
    "    )\n",
    "\n",
    "    # Return a new Dataset instance\n",
    "    return Dataset(\n",
    "        name=name if name is not None else model.__name__,\n",
    "        model=model,\n",
    "        database_id=database_id,\n",
    "        notion_backend=self._notion_backend,\n",
    "    )"
   ]
  },
  {
   "cell_type": "code",
   "execution_count": null,
   "metadata": {},
   "outputs": [
    {
     "data": {
      "text/plain": [
       "Dataset(name=TestModel, model=TestModel, len=0)"
      ]
     },
     "execution_count": null,
     "metadata": {},
     "output_type": "execute_result"
    }
   ],
   "source": [
    "# create an example dataset\n",
    "class TestModel(NotionModel):\n",
    "    name: str = nmt.Title()\n",
    "    description: str = nmt.Text()\n",
    "\n",
    "\n",
    "test_dataset = project.create_dataset(TestModel)\n",
    "test_dataset"
   ]
  },
  {
   "cell_type": "code",
   "execution_count": null,
   "metadata": {},
   "outputs": [
    {
     "data": {
      "text/plain": [
       "'TestModel'"
      ]
     },
     "execution_count": null,
     "metadata": {},
     "output_type": "execute_result"
    }
   ],
   "source": [
    "test_dataset.name"
   ]
  },
  {
   "cell_type": "code",
   "execution_count": null,
   "metadata": {},
   "outputs": [],
   "source": [
    "# | export\n",
    "@patch\n",
    "def get_dataset(self: Project, name: str, model: t.Type[NotionModel]) -> Dataset:\n",
    "    \"\"\"Get an existing dataset by name.\"\"\"\n",
    "    if self.datasets_page_id == \"\":\n",
    "        raise ValueError(\"Datasets page ID is not set\")\n",
    "\n",
    "    # Search for database with given name\n",
    "    database_id = self._notion_backend.get_database_id(\n",
    "        parent_page_id=self.datasets_page_id, name=name, return_multiple=False\n",
    "    )\n",
    "\n",
    "    # For now, return Dataset without model type\n",
    "    return Dataset(\n",
    "        name=name,\n",
    "        model=model,\n",
    "        database_id=database_id,\n",
    "        notion_backend=self._notion_backend,\n",
    "    )"
   ]
  },
  {
   "cell_type": "code",
   "execution_count": null,
   "metadata": {},
   "outputs": [],
   "source": []
  }
 ],
 "metadata": {
  "kernelspec": {
   "display_name": "python3",
   "language": "python",
   "name": "python3"
  }
 },
 "nbformat": 4,
 "nbformat_minor": 4
}
