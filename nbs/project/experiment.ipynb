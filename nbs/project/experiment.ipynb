{
 "cells": [
  {
   "cell_type": "markdown",
   "metadata": {},
   "source": [
    "# Experiments\n",
    "\n",
    "> How to run experiments"
   ]
  },
  {
   "cell_type": "code",
   "execution_count": null,
   "metadata": {},
   "outputs": [],
   "source": [
    "# | default_exp project"
   ]
  },
  {
   "cell_type": "code",
   "execution_count": 2,
   "metadata": {},
   "outputs": [
    {
     "ename": "ModuleNotFoundError",
     "evalue": "No module named 'notion_annotator_nbdev'",
     "output_type": "error",
     "traceback": [
      "\u001b[31m---------------------------------------------------------------------------\u001b[39m",
      "\u001b[31mModuleNotFoundError\u001b[39m                       Traceback (most recent call last)",
      "\u001b[36mCell\u001b[39m\u001b[36m \u001b[39m\u001b[32mIn[2]\u001b[39m\u001b[32m, line 6\u001b[39m\n\u001b[32m      2\u001b[39m \u001b[38;5;28;01mimport\u001b[39;00m\u001b[38;5;250m \u001b[39m\u001b[34;01mtyping\u001b[39;00m\u001b[38;5;250m \u001b[39m\u001b[38;5;28;01mas\u001b[39;00m\u001b[38;5;250m \u001b[39m\u001b[34;01mt\u001b[39;00m\n\u001b[32m      4\u001b[39m \u001b[38;5;28;01mfrom\u001b[39;00m\u001b[38;5;250m \u001b[39m\u001b[34;01mfastcore\u001b[39;00m\u001b[34;01m.\u001b[39;00m\u001b[34;01mutils\u001b[39;00m\u001b[38;5;250m \u001b[39m\u001b[38;5;28;01mimport\u001b[39;00m patch\n\u001b[32m----> \u001b[39m\u001b[32m6\u001b[39m \u001b[38;5;28;01mfrom\u001b[39;00m\u001b[38;5;250m \u001b[39m\u001b[34;01mragas_annotator\u001b[39;00m\u001b[34;01m.\u001b[39;00m\u001b[34;01mproject\u001b[39;00m\u001b[38;5;250m \u001b[39m\u001b[38;5;28;01mimport\u001b[39;00m Project\n\u001b[32m      7\u001b[39m \u001b[38;5;28;01mfrom\u001b[39;00m\u001b[38;5;250m \u001b[39m\u001b[34;01mragas_annotator\u001b[39;00m\u001b[34;01m.\u001b[39;00m\u001b[34;01mmodel\u001b[39;00m\u001b[34;01m.\u001b[39;00m\u001b[34;01mnotion_model\u001b[39;00m\u001b[38;5;250m \u001b[39m\u001b[38;5;28;01mimport\u001b[39;00m NotionModel\n\u001b[32m      8\u001b[39m \u001b[38;5;28;01mfrom\u001b[39;00m\u001b[38;5;250m \u001b[39m\u001b[34;01mragas_annotator\u001b[39;00m\u001b[34;01m.\u001b[39;00m\u001b[34;01mexperiment\u001b[39;00m\u001b[38;5;250m \u001b[39m\u001b[38;5;28;01mimport\u001b[39;00m Experiment\n",
      "\u001b[36mFile \u001b[39m\u001b[32m~/workspace/eglabs/ragas_annotator/ragas_annotator/project.py:14\u001b[39m\n\u001b[32m     11\u001b[39m \u001b[38;5;28;01mfrom\u001b[39;00m\u001b[38;5;250m \u001b[39m\u001b[34;01mnotion_client\u001b[39;00m\u001b[38;5;250m \u001b[39m\u001b[38;5;28;01mimport\u001b[39;00m Client \u001b[38;5;28;01mas\u001b[39;00m NotionClient\n\u001b[32m     12\u001b[39m \u001b[38;5;28;01mfrom\u001b[39;00m\u001b[38;5;250m \u001b[39m\u001b[34;01mfastcore\u001b[39;00m\u001b[34;01m.\u001b[39;00m\u001b[34;01mutils\u001b[39;00m\u001b[38;5;250m \u001b[39m\u001b[38;5;28;01mimport\u001b[39;00m patch\n\u001b[32m---> \u001b[39m\u001b[32m14\u001b[39m \u001b[38;5;28;01mfrom\u001b[39;00m\u001b[38;5;250m \u001b[39m\u001b[34;01mnotion_annotator_nbdev\u001b[39;00m\u001b[34;01m.\u001b[39;00m\u001b[34;01mbackends\u001b[39;00m\u001b[34;01m.\u001b[39;00m\u001b[34;01mnotion_backend\u001b[39;00m\u001b[38;5;250m \u001b[39m\u001b[38;5;28;01mimport\u001b[39;00m NotionBackend\n\u001b[32m     15\u001b[39m \u001b[38;5;28;01mfrom\u001b[39;00m\u001b[38;5;250m \u001b[39m\u001b[34;01mnotion_annotator_nbdev\u001b[39;00m\u001b[34;01m.\u001b[39;00m\u001b[34;01mmodel\u001b[39;00m\u001b[34;01m.\u001b[39;00m\u001b[34;01mnotion_model\u001b[39;00m\u001b[38;5;250m \u001b[39m\u001b[38;5;28;01mimport\u001b[39;00m NotionModel\n\u001b[32m     16\u001b[39m \u001b[38;5;28;01mimport\u001b[39;00m\u001b[38;5;250m \u001b[39m\u001b[34;01mnotion_annotator_nbdev\u001b[39;00m\u001b[34;01m.\u001b[39;00m\u001b[34;01mmodel\u001b[39;00m\u001b[34;01m.\u001b[39;00m\u001b[34;01mnotion_typing\u001b[39;00m\u001b[38;5;250m \u001b[39m\u001b[38;5;28;01mas\u001b[39;00m\u001b[38;5;250m \u001b[39m\u001b[34;01mnmt\u001b[39;00m\n",
      "\u001b[31mModuleNotFoundError\u001b[39m: No module named 'notion_annotator_nbdev'"
     ]
    }
   ],
   "source": [
    "# | hide\n",
    "import typing as t\n",
    "\n",
    "from fastcore.utils import patch\n",
    "\n",
    "from ragas_annotator.project import Project\n",
    "from ragas_annotator.model.notion_model import NotionModel\n",
    "from ragas_annotator.experiment import Experiment\n",
    "from ragas_annotator.dataset import Dataset"
   ]
  },
  {
   "cell_type": "code",
   "execution_count": 8,
   "metadata": {},
   "outputs": [],
   "source": [
    "# | export\n",
    "from tqdm import tqdm\n",
    "from functools import wraps\n",
    "import asyncio"
   ]
  },
  {
   "cell_type": "code",
   "execution_count": 3,
   "metadata": {},
   "outputs": [],
   "source": [
    "# | export\n",
    "@patch\n",
    "def create_experiment(\n",
    "    self: Project, name: str, model: t.Type[NotionModel]\n",
    ") -> Experiment:\n",
    "    \"\"\"Create a new experiment view.\n",
    "\n",
    "    Args:\n",
    "        name: Name of the experiment\n",
    "        model: Model class defining the experiment structure\n",
    "\n",
    "    Returns:\n",
    "        ExperimentView: View for managing experiment results\n",
    "    \"\"\"\n",
    "    if self.experiments_page_id == \"\":\n",
    "        raise ValueError(\"Experiments page ID is not set\")\n",
    "\n",
    "    # Collect all properties from model fields\n",
    "    properties = {}\n",
    "    for field_name, field in model._fields.items():\n",
    "        properties.update(field._to_notion_property())\n",
    "\n",
    "    # Create the database\n",
    "    database_id = self._notion_backend.create_new_database(\n",
    "        parent_page_id=self.experiments_page_id, title=name, properties=properties\n",
    "    )\n",
    "\n",
    "    return Experiment(\n",
    "        name=name,\n",
    "        model=model,\n",
    "        database_id=database_id,\n",
    "        notion_backend=self._notion_backend,\n",
    "    )"
   ]
  },
  {
   "cell_type": "code",
   "execution_count": 4,
   "metadata": {},
   "outputs": [],
   "source": [
    "# | export\n",
    "@patch\n",
    "def get_experiment(self: Project, name: str, model: t.Type[NotionModel]) -> Experiment:\n",
    "    \"\"\"Get an existing experiment by name.\"\"\"\n",
    "    if self.experiments_page_id == \"\":\n",
    "        raise ValueError(\"Experiments page ID is not set\")\n",
    "\n",
    "    # Search for database with given name\n",
    "    database_id = self._notion_backend.get_database_id(\n",
    "        parent_page_id=self.experiments_page_id, name=name, return_multiple=False\n",
    "    )\n",
    "\n",
    "    return Experiment(\n",
    "        name=name,\n",
    "        model=model,\n",
    "        database_id=database_id,\n",
    "        notion_backend=self._notion_backend,\n",
    "    )"
   ]
  },
  {
   "cell_type": "code",
   "execution_count": 6,
   "metadata": {},
   "outputs": [],
   "source": [
    "# | export\n",
    "@t.runtime_checkable\n",
    "class ExperimentProtocol(t.Protocol):\n",
    "    async def __call__(self, *args, **kwargs): ...\n",
    "    async def run_async(self, name: str, dataset: Dataset): ..."
   ]
  },
  {
   "cell_type": "code",
   "execution_count": 9,
   "metadata": {},
   "outputs": [],
   "source": [
    "# | export\n",
    "\n",
    "# this one we have to clean up\n",
    "from langfuse.decorators import observe"
   ]
  },
  {
   "cell_type": "code",
   "execution_count": 7,
   "metadata": {},
   "outputs": [],
   "source": [
    "# | export\n",
    "def experiment(self, experiment_model: t.Type[NotionModel], name_prefix: str = \"\"):\n",
    "    \"\"\"Decorator for creating experiment functions.\n",
    "\n",
    "    Args:\n",
    "        name_prefix: Optional prefix for experiment names\n",
    "\n",
    "    Returns:\n",
    "        Decorator function that wraps experiment functions\n",
    "    \"\"\"\n",
    "\n",
    "    def decorator(func: t.Callable) -> ExperimentProtocol:\n",
    "        @wraps(func)\n",
    "        async def wrapped_experiment(*args, **kwargs):\n",
    "            # wrap the function with langfuse observation so that it can be traced\n",
    "            # and spans inside the function can be retrieved with sync_trace()\n",
    "            observed_func = observe(name=f\"{name_prefix}-{func.__name__}\")(func)\n",
    "\n",
    "            return await observed_func(*args, **kwargs)\n",
    "\n",
    "        # Add run method to the wrapped function\n",
    "        async def run_async(name: str, dataset: Dataset):\n",
    "            # Create tasks for all items\n",
    "            tasks = []\n",
    "            for item in dataset:\n",
    "                tasks.append(wrapped_experiment(item))\n",
    "\n",
    "            # Use as_completed with tqdm for progress tracking\n",
    "            results = []\n",
    "            for future in tqdm(asyncio.as_completed(tasks), total=len(tasks)):\n",
    "                result = await future\n",
    "                # Add each result to experiment view as it completes\n",
    "                results.append(result)\n",
    "\n",
    "            # upload results to experiment view\n",
    "            experiment_view = self.create_experiment(name=name, model=experiment_model)\n",
    "            for result in results:\n",
    "                experiment_view.append(result)\n",
    "\n",
    "            return experiment_view\n",
    "\n",
    "        wrapped_experiment.__setattr__(\"run_async\", run_async)\n",
    "        return t.cast(ExperimentProtocol, wrapped_experiment)\n",
    "\n",
    "    return decorator"
   ]
  },
  {
   "cell_type": "code",
   "execution_count": null,
   "metadata": {},
   "outputs": [],
   "source": []
  }
 ],
 "metadata": {
  "kernelspec": {
   "display_name": ".venv",
   "language": "python",
   "name": "python3"
  },
  "language_info": {
   "codemirror_mode": {
    "name": "ipython",
    "version": 3
   },
   "file_extension": ".py",
   "mimetype": "text/x-python",
   "name": "python",
   "nbconvert_exporter": "python",
   "pygments_lexer": "ipython3",
   "version": "3.12.8"
  }
 },
 "nbformat": 4,
 "nbformat_minor": 2
}
